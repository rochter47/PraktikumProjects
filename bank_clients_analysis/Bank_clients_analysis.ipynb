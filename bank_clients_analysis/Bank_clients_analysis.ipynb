{
 "cells": [
  {
   "cell_type": "markdown",
   "metadata": {},
   "source": [
    "## Исследование заемщиков\n",
    "\n"
   ]
  },
  {
   "cell_type": "markdown",
   "metadata": {},
   "source": [
    "### Шаг 1. Откроем файл с данными и изучите общую информацию. "
   ]
  },
  {
   "cell_type": "code",
   "execution_count": 7,
   "metadata": {},
   "outputs": [
    {
     "data": {
      "text/html": [
       "<div>\n",
       "<style scoped>\n",
       "    .dataframe tbody tr th:only-of-type {\n",
       "        vertical-align: middle;\n",
       "    }\n",
       "\n",
       "    .dataframe tbody tr th {\n",
       "        vertical-align: top;\n",
       "    }\n",
       "\n",
       "    .dataframe thead th {\n",
       "        text-align: right;\n",
       "    }\n",
       "</style>\n",
       "<table border=\"1\" class=\"dataframe\">\n",
       "  <thead>\n",
       "    <tr style=\"text-align: right;\">\n",
       "      <th></th>\n",
       "      <th>children</th>\n",
       "      <th>days_employed</th>\n",
       "      <th>dob_years</th>\n",
       "      <th>education</th>\n",
       "      <th>education_id</th>\n",
       "      <th>family_status</th>\n",
       "      <th>family_status_id</th>\n",
       "      <th>gender</th>\n",
       "      <th>income_type</th>\n",
       "      <th>debt</th>\n",
       "      <th>total_income</th>\n",
       "      <th>purpose</th>\n",
       "    </tr>\n",
       "  </thead>\n",
       "  <tbody>\n",
       "    <tr>\n",
       "      <td>0</td>\n",
       "      <td>1</td>\n",
       "      <td>-8437.673028</td>\n",
       "      <td>42</td>\n",
       "      <td>высшее</td>\n",
       "      <td>0</td>\n",
       "      <td>женат / замужем</td>\n",
       "      <td>0</td>\n",
       "      <td>F</td>\n",
       "      <td>сотрудник</td>\n",
       "      <td>0</td>\n",
       "      <td>253875.639453</td>\n",
       "      <td>покупка жилья</td>\n",
       "    </tr>\n",
       "    <tr>\n",
       "      <td>1</td>\n",
       "      <td>1</td>\n",
       "      <td>-4024.803754</td>\n",
       "      <td>36</td>\n",
       "      <td>среднее</td>\n",
       "      <td>1</td>\n",
       "      <td>женат / замужем</td>\n",
       "      <td>0</td>\n",
       "      <td>F</td>\n",
       "      <td>сотрудник</td>\n",
       "      <td>0</td>\n",
       "      <td>112080.014102</td>\n",
       "      <td>приобретение автомобиля</td>\n",
       "    </tr>\n",
       "    <tr>\n",
       "      <td>2</td>\n",
       "      <td>0</td>\n",
       "      <td>-5623.422610</td>\n",
       "      <td>33</td>\n",
       "      <td>Среднее</td>\n",
       "      <td>1</td>\n",
       "      <td>женат / замужем</td>\n",
       "      <td>0</td>\n",
       "      <td>M</td>\n",
       "      <td>сотрудник</td>\n",
       "      <td>0</td>\n",
       "      <td>145885.952297</td>\n",
       "      <td>покупка жилья</td>\n",
       "    </tr>\n",
       "    <tr>\n",
       "      <td>3</td>\n",
       "      <td>3</td>\n",
       "      <td>-4124.747207</td>\n",
       "      <td>32</td>\n",
       "      <td>среднее</td>\n",
       "      <td>1</td>\n",
       "      <td>женат / замужем</td>\n",
       "      <td>0</td>\n",
       "      <td>M</td>\n",
       "      <td>сотрудник</td>\n",
       "      <td>0</td>\n",
       "      <td>267628.550329</td>\n",
       "      <td>дополнительное образование</td>\n",
       "    </tr>\n",
       "    <tr>\n",
       "      <td>4</td>\n",
       "      <td>0</td>\n",
       "      <td>340266.072047</td>\n",
       "      <td>53</td>\n",
       "      <td>среднее</td>\n",
       "      <td>1</td>\n",
       "      <td>гражданский брак</td>\n",
       "      <td>1</td>\n",
       "      <td>F</td>\n",
       "      <td>пенсионер</td>\n",
       "      <td>0</td>\n",
       "      <td>158616.077870</td>\n",
       "      <td>сыграть свадьбу</td>\n",
       "    </tr>\n",
       "  </tbody>\n",
       "</table>\n",
       "</div>"
      ],
      "text/plain": [
       "   children  days_employed  dob_years education  education_id  \\\n",
       "0         1   -8437.673028         42    высшее             0   \n",
       "1         1   -4024.803754         36   среднее             1   \n",
       "2         0   -5623.422610         33   Среднее             1   \n",
       "3         3   -4124.747207         32   среднее             1   \n",
       "4         0  340266.072047         53   среднее             1   \n",
       "\n",
       "      family_status  family_status_id gender income_type  debt   total_income  \\\n",
       "0   женат / замужем                 0      F   сотрудник     0  253875.639453   \n",
       "1   женат / замужем                 0      F   сотрудник     0  112080.014102   \n",
       "2   женат / замужем                 0      M   сотрудник     0  145885.952297   \n",
       "3   женат / замужем                 0      M   сотрудник     0  267628.550329   \n",
       "4  гражданский брак                 1      F   пенсионер     0  158616.077870   \n",
       "\n",
       "                      purpose  \n",
       "0               покупка жилья  \n",
       "1     приобретение автомобиля  \n",
       "2               покупка жилья  \n",
       "3  дополнительное образование  \n",
       "4             сыграть свадьбу  "
      ]
     },
     "execution_count": 7,
     "metadata": {},
     "output_type": "execute_result"
    }
   ],
   "source": [
    "import pandas as pd\n",
    "data_score = pd.read_csv('/datasets/data.csv')\n",
    "#data_score.info() # оценим данные\n",
    "data_score.head() # взглянем на таблицу\n",
    "\n"
   ]
  },
  {
   "cell_type": "markdown",
   "metadata": {},
   "source": [
    "### Вывод"
   ]
  },
  {
   "cell_type": "markdown",
   "metadata": {},
   "source": [
    "Таблица требует предобработки данных. Присутствуют отрицательные значения стажа работы, необходимо систематизировать причины, есть пропуски данных. Для работы нам потребуются следующие столбы: children, dob_years, family_status, family_status_id, debt,\ttotal_income, purpose \n"
   ]
  },
  {
   "cell_type": "markdown",
   "metadata": {},
   "source": [
    "### Шаг 2. Предобработка данных"
   ]
  },
  {
   "cell_type": "markdown",
   "metadata": {},
   "source": [
    "### Обработка пропусков"
   ]
  },
  {
   "cell_type": "code",
   "execution_count": 8,
   "metadata": {},
   "outputs": [
    {
     "data": {
      "text/plain": [
       "children               0\n",
       "days_employed       2174\n",
       "dob_years              0\n",
       "education              0\n",
       "education_id           0\n",
       "family_status          0\n",
       "family_status_id       0\n",
       "gender                 0\n",
       "income_type            0\n",
       "debt                   0\n",
       "total_income        2174\n",
       "purpose                0\n",
       "dtype: int64"
      ]
     },
     "execution_count": 8,
     "metadata": {},
     "output_type": "execute_result"
    }
   ],
   "source": [
    "data_score.isnull().sum() # оценим состояние с пропусками\n",
    " "
   ]
  },
  {
   "cell_type": "markdown",
   "metadata": {},
   "source": [
    "Мы имеем пропуски в двух столбцах, заполним их средним знаечением подням(тк для ответа на поставленные задачи обработка отрицательных результатов в этом столбце не требуется) и медианным по зарплате."
   ]
  },
  {
   "cell_type": "code",
   "execution_count": 9,
   "metadata": {},
   "outputs": [],
   "source": [
    "data_score['days_employed'] = data_score['days_employed'].fillna(data_score['days_employed'].mean())\n",
    "data_score['total_income'] = data_score['total_income'].fillna(data_score['total_income'].median())"
   ]
  },
  {
   "cell_type": "code",
   "execution_count": 10,
   "metadata": {},
   "outputs": [
    {
     "data": {
      "text/plain": [
       "0    14149\n",
       "1     4865\n",
       "2     2131\n",
       "3      330\n",
       "4       41\n",
       "5        9\n",
       "Name: children, dtype: int64"
      ]
     },
     "execution_count": 10,
     "metadata": {},
     "output_type": "execute_result"
    }
   ],
   "source": [
    "data_score['children'] = data_score['children'].replace(20,2)  # заменим выбивающиеся значиния, предположив, что 20 это опечатка 2, а -1 ошибчго введено с 1\n",
    "data_score['children'] = data_score['children'].replace(-1,1)\n",
    "data_score['children'].value_counts()"
   ]
  },
  {
   "cell_type": "code",
   "execution_count": 11,
   "metadata": {},
   "outputs": [],
   "source": [
    "data_score = data_score.dropna()  # удалим все строки с пропусками"
   ]
  },
  {
   "cell_type": "code",
   "execution_count": 12,
   "metadata": {},
   "outputs": [
    {
     "data": {
      "text/plain": [
       "children            0\n",
       "days_employed       0\n",
       "dob_years           0\n",
       "education           0\n",
       "education_id        0\n",
       "family_status       0\n",
       "family_status_id    0\n",
       "gender              0\n",
       "income_type         0\n",
       "debt                0\n",
       "total_income        0\n",
       "purpose             0\n",
       "dtype: int64"
      ]
     },
     "execution_count": 12,
     "metadata": {},
     "output_type": "execute_result"
    }
   ],
   "source": [
    "data_score.isnull().sum() # проверим результат"
   ]
  },
  {
   "cell_type": "code",
   "execution_count": 13,
   "metadata": {},
   "outputs": [
    {
     "data": {
      "text/plain": [
       "0    14149\n",
       "1     4865\n",
       "2     2131\n",
       "3      330\n",
       "4       41\n",
       "5        9\n",
       "Name: children, dtype: int64"
      ]
     },
     "execution_count": 13,
     "metadata": {},
     "output_type": "execute_result"
    }
   ],
   "source": [
    "data_score['children'].value_counts() # проверим разноообразие значений, по детям есть вопросы \n",
    "                                      #к отрицательным значением, реальностью 20 детьми\n",
    "    "
   ]
  },
  {
   "cell_type": "code",
   "execution_count": 14,
   "metadata": {},
   "outputs": [
    {
     "data": {
      "text/plain": [
       "женат / замужем          12380\n",
       "гражданский брак          4177\n",
       "Не женат / не замужем     2813\n",
       "в разводе                 1195\n",
       "вдовец / вдова             960\n",
       "Name: family_status, dtype: int64"
      ]
     },
     "execution_count": 14,
     "metadata": {},
     "output_type": "execute_result"
    }
   ],
   "source": [
    "data_score['family_status' ].value_counts() # Здесь все ок  debt, \n"
   ]
  },
  {
   "cell_type": "code",
   "execution_count": 15,
   "metadata": {},
   "outputs": [
    {
     "data": {
      "text/plain": [
       "0    12380\n",
       "1     4177\n",
       "4     2813\n",
       "3     1195\n",
       "2      960\n",
       "Name: family_status_id, dtype: int64"
      ]
     },
     "execution_count": 15,
     "metadata": {},
     "output_type": "execute_result"
    }
   ],
   "source": [
    "data_score['family_status_id' ].value_counts() # все совпадает\n",
    "\n"
   ]
  },
  {
   "cell_type": "code",
   "execution_count": 16,
   "metadata": {},
   "outputs": [
    {
     "data": {
      "text/plain": [
       "145017.937533    2175\n",
       "112874.418757       1\n",
       "104381.857170       1\n",
       "182036.676828       1\n",
       "122421.963500       1\n",
       "                 ... \n",
       "133299.194693       1\n",
       "115080.782380       1\n",
       "84896.781597        1\n",
       "153838.839212       1\n",
       "150014.128510       1\n",
       "Name: total_income, Length: 19351, dtype: int64"
      ]
     },
     "execution_count": 16,
     "metadata": {},
     "output_type": "execute_result"
    }
   ],
   "source": [
    "data_score['total_income' ].value_counts() #все ок"
   ]
  },
  {
   "cell_type": "code",
   "execution_count": 17,
   "metadata": {},
   "outputs": [
    {
     "data": {
      "text/plain": [
       "0    19784\n",
       "1     1741\n",
       "Name: debt, dtype: int64"
      ]
     },
     "execution_count": 17,
     "metadata": {},
     "output_type": "execute_result"
    }
   ],
   "source": [
    "data_score['debt' ].value_counts()  # все ок"
   ]
  },
  {
   "cell_type": "code",
   "execution_count": 18,
   "metadata": {},
   "outputs": [
    {
     "data": {
      "text/plain": [
       "свадьба                                   797\n",
       "на проведение свадьбы                     777\n",
       "сыграть свадьбу                           774\n",
       "операции с недвижимостью                  676\n",
       "покупка коммерческой недвижимости         664\n",
       "покупка жилья для сдачи                   653\n",
       "операции с жильем                         653\n",
       "операции с коммерческой недвижимостью     651\n",
       "жилье                                     647\n",
       "покупка жилья                             647\n",
       "покупка жилья для семьи                   641\n",
       "строительство собственной недвижимости    635\n",
       "недвижимость                              634\n",
       "операции со своей недвижимостью           630\n",
       "строительство жилой недвижимости          626\n",
       "покупка недвижимости                      624\n",
       "строительство недвижимости                620\n",
       "покупка своего жилья                      620\n",
       "ремонт жилью                              612\n",
       "покупка жилой недвижимости                607\n",
       "на покупку своего автомобиля              505\n",
       "заняться высшим образованием              496\n",
       "автомобиль                                495\n",
       "сделка с подержанным автомобилем          489\n",
       "свой автомобиль                           480\n",
       "на покупку подержанного автомобиля        479\n",
       "автомобили                                478\n",
       "на покупку автомобиля                     472\n",
       "дополнительное образование                462\n",
       "приобретение автомобиля                   462\n",
       "сделка с автомобилем                      455\n",
       "высшее образование                        453\n",
       "получение дополнительного образования     447\n",
       "образование                               447\n",
       "получение образования                     443\n",
       "профильное образование                    436\n",
       "получение высшего образования             426\n",
       "заняться образованием                     412\n",
       "Name: purpose, dtype: int64"
      ]
     },
     "execution_count": 18,
     "metadata": {},
     "output_type": "execute_result"
    }
   ],
   "source": [
    "data_score['purpose' ].value_counts()  #  требуется леммитизация"
   ]
  },
  {
   "cell_type": "markdown",
   "metadata": {},
   "source": [
    "### Вывод"
   ]
  },
  {
   "cell_type": "markdown",
   "metadata": {},
   "source": [
    "Мы удалили строки с пропускми данных, тк заменять их средними значениями считаю некорректно.\n",
    "Некооретные данные по детям мы заменили, допустив, что это была техническая ошибка ввода.\n",
    "По обоим случаям необходимо сообщить специалистам, ответственным за сбор информации."
   ]
  },
  {
   "cell_type": "markdown",
   "metadata": {},
   "source": [
    "### Замена типа данных"
   ]
  },
  {
   "cell_type": "code",
   "execution_count": 19,
   "metadata": {},
   "outputs": [
    {
     "name": "stdout",
     "output_type": "stream",
     "text": [
      "<class 'pandas.core.frame.DataFrame'>\n",
      "Int64Index: 21525 entries, 0 to 21524\n",
      "Data columns (total 12 columns):\n",
      "children            21525 non-null int64\n",
      "days_employed       21525 non-null float64\n",
      "dob_years           21525 non-null int64\n",
      "education           21525 non-null object\n",
      "education_id        21525 non-null int64\n",
      "family_status       21525 non-null object\n",
      "family_status_id    21525 non-null int64\n",
      "gender              21525 non-null object\n",
      "income_type         21525 non-null object\n",
      "debt                21525 non-null int64\n",
      "total_income        21525 non-null float64\n",
      "purpose             21525 non-null object\n",
      "dtypes: float64(2), int64(5), object(5)\n",
      "memory usage: 2.1+ MB\n"
     ]
    }
   ],
   "source": [
    "data_score.info()"
   ]
  },
  {
   "cell_type": "markdown",
   "metadata": {},
   "source": [
    "Да у нас числовые типы стали object, т.к мы заменили пропуски на пробелы."
   ]
  },
  {
   "cell_type": "markdown",
   "metadata": {},
   "source": [
    "Чать индексов имеют тип даннных object, такие как days_employed, total_income. Удобнее будет привести их к цифровомоу значению."
   ]
  },
  {
   "cell_type": "code",
   "execution_count": 20,
   "metadata": {},
   "outputs": [
    {
     "name": "stdout",
     "output_type": "stream",
     "text": [
      "<class 'pandas.core.frame.DataFrame'>\n",
      "Int64Index: 21525 entries, 0 to 21524\n",
      "Data columns (total 12 columns):\n",
      "children            21525 non-null int64\n",
      "days_employed       21525 non-null int64\n",
      "dob_years           21525 non-null int64\n",
      "education           21525 non-null object\n",
      "education_id        21525 non-null int64\n",
      "family_status       21525 non-null object\n",
      "family_status_id    21525 non-null int64\n",
      "gender              21525 non-null object\n",
      "income_type         21525 non-null object\n",
      "debt                21525 non-null int64\n",
      "total_income        21525 non-null int64\n",
      "purpose             21525 non-null object\n",
      "dtypes: int64(7), object(5)\n",
      "memory usage: 2.1+ MB\n"
     ]
    }
   ],
   "source": [
    "data_score['days_employed'] = data_score['days_employed'].astype('int')\n",
    "data_score['total_income'] = data_score['total_income'].astype('int')\n",
    "data_score['education'] = data_score['education'].astype('str') \n",
    "data_score['purpose'] = data_score['purpose'].astype('str')\n",
    "data_score.info()"
   ]
  },
  {
   "cell_type": "markdown",
   "metadata": {},
   "source": [
    "### Вывод"
   ]
  },
  {
   "cell_type": "markdown",
   "metadata": {},
   "source": [
    "В таблице были не\n",
    "корректные типы данных, то что измерется цифрами мы изменили на int64, категорийные данные оставили в формате object\n"
   ]
  },
  {
   "cell_type": "markdown",
   "metadata": {},
   "source": [
    "### Обработка дубликатов"
   ]
  },
  {
   "cell_type": "code",
   "execution_count": 21,
   "metadata": {},
   "outputs": [
    {
     "data": {
      "text/plain": [
       "54"
      ]
     },
     "execution_count": 21,
     "metadata": {},
     "output_type": "execute_result"
    }
   ],
   "source": [
    "data_score['education' ].value_counts()\n",
    "data_score.duplicated().sum()"
   ]
  },
  {
   "cell_type": "markdown",
   "metadata": {},
   "source": [
    "Мы видим большое количество дубликатов, особенно из-за заполнения разными регистрами, приведем все к одному регистру"
   ]
  },
  {
   "cell_type": "code",
   "execution_count": 22,
   "metadata": {},
   "outputs": [],
   "source": [
    "\n",
    "data_score['education' ] = data_score['education' ].str.lower()\n"
   ]
  },
  {
   "cell_type": "code",
   "execution_count": 23,
   "metadata": {},
   "outputs": [
    {
     "data": {
      "text/plain": [
       "среднее                15233\n",
       "высшее                  5260\n",
       "неоконченное высшее      744\n",
       "начальное                282\n",
       "ученая степень             6\n",
       "Name: education, dtype: int64"
      ]
     },
     "execution_count": 23,
     "metadata": {},
     "output_type": "execute_result"
    }
   ],
   "source": [
    "data_score['education'].value_counts()"
   ]
  },
  {
   "cell_type": "markdown",
   "metadata": {},
   "source": [
    "Таким образомы знаем ситуацию с уровнем образования у заемщиков, посмторим, что с семейным положеним и типом доходов:"
   ]
  },
  {
   "cell_type": "code",
   "execution_count": 24,
   "metadata": {},
   "outputs": [
    {
     "data": {
      "text/plain": [
       "71"
      ]
     },
     "execution_count": 24,
     "metadata": {},
     "output_type": "execute_result"
    }
   ],
   "source": [
    "data_score.duplicated().sum()"
   ]
  },
  {
   "cell_type": "markdown",
   "metadata": {},
   "source": [
    "В таблице нет полностью дублированных строк."
   ]
  },
  {
   "cell_type": "code",
   "execution_count": 25,
   "metadata": {},
   "outputs": [
    {
     "data": {
      "text/plain": [
       "женат / замужем          12380\n",
       "гражданский брак          4177\n",
       "не женат / не замужем     2813\n",
       "в разводе                 1195\n",
       "вдовец / вдова             960\n",
       "Name: family_status, dtype: int64"
      ]
     },
     "execution_count": 25,
     "metadata": {},
     "output_type": "execute_result"
    }
   ],
   "source": [
    "data_score['purpose' ] = data_score['purpose' ].str.lower() # подготовимся к леммитизации\n",
    "data_score['family_status' ] = data_score['family_status' ].str.lower()\n",
    "data_score['family_status'].value_counts()"
   ]
  },
  {
   "cell_type": "markdown",
   "metadata": {},
   "source": [
    "### Лемматизация"
   ]
  },
  {
   "cell_type": "code",
   "execution_count": 27,
   "metadata": {},
   "outputs": [
    {
     "data": {
      "text/plain": [
       "Counter({'покупка': 5912,\n",
       "         ' ': 55201,\n",
       "         'жилье': 4473,\n",
       "         'приобретение': 462,\n",
       "         'автомобиль': 4315,\n",
       "         'дополнительный': 909,\n",
       "         'образование': 4022,\n",
       "         'сыграть': 774,\n",
       "         'свадьба': 2348,\n",
       "         'операция': 2610,\n",
       "         'с': 2924,\n",
       "         'на': 2233,\n",
       "         'проведение': 777,\n",
       "         'для': 1294,\n",
       "         'семья': 641,\n",
       "         'недвижимость': 6367,\n",
       "         'коммерческий': 1315,\n",
       "         'жилой': 1233,\n",
       "         'строительство': 1881,\n",
       "         'собственный': 635,\n",
       "         'подержать': 858,\n",
       "         'свой': 2235,\n",
       "         'со': 630,\n",
       "         'заниматься': 908,\n",
       "         'сделка': 944,\n",
       "         'получение': 1316,\n",
       "         'высокий': 1375,\n",
       "         'подержанный': 110,\n",
       "         'профильный': 436,\n",
       "         'сдача': 653,\n",
       "         'ремонт': 612,\n",
       "         '\\n': 1})"
      ]
     },
     "execution_count": 27,
     "metadata": {},
     "output_type": "execute_result"
    }
   ],
   "source": [
    "from pymystem3 import Mystem\n",
    "m = Mystem()\n",
    "text = ' '.join(list(data_score['purpose']))\n",
    "lemmas = m.lemmatize(text)\n",
    "from collections import Counter\n",
    "dict = Counter(lemmas)\n",
    "dict"
   ]
  },
  {
   "cell_type": "code",
   "execution_count": 28,
   "metadata": {},
   "outputs": [
    {
     "data": {
      "text/plain": [
       "0                             [покупка,  , жилье, \\n]\n",
       "1                   [приобретение,  , автомобиль, \\n]\n",
       "2                             [покупка,  , жилье, \\n]\n",
       "3                [дополнительный,  , образование, \\n]\n",
       "4                           [сыграть,  , свадьба, \\n]\n",
       "                             ...                     \n",
       "21520                  [операция,  , с,  , жилье, \\n]\n",
       "21521               [сделка,  , с,  , автомобиль, \\n]\n",
       "21522                              [недвижимость, \\n]\n",
       "21523    [на,  , покупка,  , свой,  , автомобиль, \\n]\n",
       "21524             [на,  , покупка,  , автомобиль, \\n]\n",
       "Name: purpose, Length: 21525, dtype: object"
      ]
     },
     "execution_count": 28,
     "metadata": {},
     "output_type": "execute_result"
    }
   ],
   "source": [
    "dict_purpose = ['недвижимость','жилье','автомобиль','образование','свадьба','ремонт',]\n",
    "\n",
    "def lemm_text(text):\n",
    "    return m.lemmatize(text)\n",
    "    \n",
    "data_score['purpose'] = data_score['purpose'].apply(lemm_text)\n",
    "data_score['purpose']"
   ]
  },
  {
   "cell_type": "code",
   "execution_count": 29,
   "metadata": {},
   "outputs": [
    {
     "data": {
      "text/plain": [
       "недвижимость    6367\n",
       "жилье           4473\n",
       "автомобиль      4315\n",
       "образование     4022\n",
       "свадьба         2348\n",
       "Name: purpose_category, dtype: int64"
      ]
     },
     "execution_count": 29,
     "metadata": {},
     "output_type": "execute_result"
    }
   ],
   "source": [
    "def cat_purpose(purpose_lemmas):\n",
    "    for purpose in dict_purpose:\n",
    "        if purpose in purpose_lemmas:\n",
    "            return purpose\n",
    "        \n",
    "data_score['purpose_category'] = data_score['purpose'].apply(cat_purpose)\n",
    "data_score['purpose_category'].value_counts()"
   ]
  },
  {
   "cell_type": "markdown",
   "metadata": {},
   "source": [
    "### Категоризация данных"
   ]
  },
  {
   "cell_type": "code",
   "execution_count": 30,
   "metadata": {},
   "outputs": [
    {
     "data": {
      "text/plain": [
       "недвижимость    10840\n",
       "автомобиль       4315\n",
       "образование      4022\n",
       "свадьба          2348\n",
       "Name: purpose_category, dtype: int64"
      ]
     },
     "execution_count": 30,
     "metadata": {},
     "output_type": "execute_result"
    }
   ],
   "source": [
    "data_score['purpose_category'] = data_score['purpose_category'].replace('жилье','недвижимость')   # заменим и объединим значение недвижимость и жилье\n",
    "data_score['purpose_category'].value_counts()"
   ]
  },
  {
   "cell_type": "code",
   "execution_count": 31,
   "metadata": {},
   "outputs": [
    {
     "data": {
      "text/plain": [
       "145017.0"
      ]
     },
     "execution_count": 31,
     "metadata": {},
     "output_type": "execute_result"
    }
   ],
   "source": [
    "\n",
    "data_score['total_income'].median() # Узнаем медиану по доходам\n"
   ]
  },
  {
   "cell_type": "code",
   "execution_count": 32,
   "metadata": {},
   "outputs": [
    {
     "data": {
      "text/plain": [
       "165158.94276422763"
      ]
     },
     "execution_count": 32,
     "metadata": {},
     "output_type": "execute_result"
    }
   ],
   "source": [
    "data_score['total_income'].mean() # узнаем средний доход в таблице"
   ]
  },
  {
   "cell_type": "code",
   "execution_count": 33,
   "metadata": {},
   "outputs": [
    {
     "data": {
      "text/plain": [
       "20667"
      ]
     },
     "execution_count": 33,
     "metadata": {},
     "output_type": "execute_result"
    }
   ],
   "source": [
    "data_score['total_income'].min() # минимальный\n",
    "data_score['total_income'].min() # и максимальный"
   ]
  },
  {
   "cell_type": "code",
   "execution_count": 34,
   "metadata": {},
   "outputs": [
    {
     "data": {
      "text/plain": [
       "большой        12173\n",
       "свербольшой     7691\n",
       "средний         1661\n",
       "Name: income_group, dtype: int64"
      ]
     },
     "execution_count": 34,
     "metadata": {},
     "output_type": "execute_result"
    }
   ],
   "source": [
    "def income_group(income):                                                             # Категоризируем ситуацию по доходам, посчитаем следующие группы от минимума до 70 тр (примерно половина медианы) 70 - 170, 170 и  больше\n",
    "    \n",
    "        if 0 < income < data_score['total_income'].median()/2:\n",
    "                return 'средний'\n",
    "        if income <= data_score['total_income'].mean():\n",
    "                return 'большой'\n",
    "        return 'свербольшой'\n",
    "    \n",
    "data_score['income_group'] = data_score['total_income'].apply(income_group)\n",
    "\n",
    "data_score['income_group'].value_counts()\n"
   ]
  },
  {
   "cell_type": "markdown",
   "metadata": {},
   "source": [
    "### Вывод"
   ]
  },
  {
   "cell_type": "markdown",
   "metadata": {},
   "source": [
    "Категоризировали ситуацию по доходам, создали группы:\n",
    "от минимума до 70 тр (примерно половина медианы) - средние\n",
    "70 - 170,                                        - большие     \n",
    "170 и  больше                                    - сверхбольшие\n",
    "\n"
   ]
  },
  {
   "cell_type": "markdown",
   "metadata": {},
   "source": [
    "### Шаг 3. Ответьте на вопросы"
   ]
  },
  {
   "cell_type": "markdown",
   "metadata": {},
   "source": [
    "- Есть ли зависимость между наличием детей и возвратом кредита в срок?"
   ]
  },
  {
   "cell_type": "code",
   "execution_count": 35,
   "metadata": {},
   "outputs": [
    {
     "data": {
      "text/plain": [
       "21525"
      ]
     },
     "execution_count": 35,
     "metadata": {},
     "output_type": "execute_result"
    }
   ],
   "source": [
    "data_score['debt'].count()\n",
    "allnumber = data_score['debt'].count() # количество всех строк с информацией о заемщиках\n",
    "allnumber                              # \n"
   ]
  },
  {
   "cell_type": "code",
   "execution_count": 36,
   "metadata": {},
   "outputs": [
    {
     "data": {
      "text/html": [
       "<div>\n",
       "<style scoped>\n",
       "    .dataframe tbody tr th:only-of-type {\n",
       "        vertical-align: middle;\n",
       "    }\n",
       "\n",
       "    .dataframe tbody tr th {\n",
       "        vertical-align: top;\n",
       "    }\n",
       "\n",
       "    .dataframe thead th {\n",
       "        text-align: right;\n",
       "    }\n",
       "</style>\n",
       "<table border=\"1\" class=\"dataframe\">\n",
       "  <thead>\n",
       "    <tr style=\"text-align: right;\">\n",
       "      <th></th>\n",
       "      <th>children</th>\n",
       "      <th>days_employed</th>\n",
       "      <th>dob_years</th>\n",
       "      <th>education</th>\n",
       "      <th>education_id</th>\n",
       "      <th>family_status</th>\n",
       "      <th>family_status_id</th>\n",
       "      <th>gender</th>\n",
       "      <th>income_type</th>\n",
       "      <th>debt</th>\n",
       "      <th>total_income</th>\n",
       "      <th>purpose</th>\n",
       "      <th>purpose_category</th>\n",
       "      <th>income_group</th>\n",
       "    </tr>\n",
       "  </thead>\n",
       "  <tbody>\n",
       "    <tr>\n",
       "      <td>14</td>\n",
       "      <td>0</td>\n",
       "      <td>-1844</td>\n",
       "      <td>56</td>\n",
       "      <td>высшее</td>\n",
       "      <td>0</td>\n",
       "      <td>гражданский брак</td>\n",
       "      <td>1</td>\n",
       "      <td>F</td>\n",
       "      <td>компаньон</td>\n",
       "      <td>1</td>\n",
       "      <td>165127</td>\n",
       "      <td>[покупка,  , жилой,  , недвижимость, \\n]</td>\n",
       "      <td>недвижимость</td>\n",
       "      <td>большой</td>\n",
       "    </tr>\n",
       "    <tr>\n",
       "      <td>32</td>\n",
       "      <td>0</td>\n",
       "      <td>-4649</td>\n",
       "      <td>34</td>\n",
       "      <td>среднее</td>\n",
       "      <td>1</td>\n",
       "      <td>гражданский брак</td>\n",
       "      <td>1</td>\n",
       "      <td>F</td>\n",
       "      <td>сотрудник</td>\n",
       "      <td>1</td>\n",
       "      <td>139057</td>\n",
       "      <td>[на,  , проведение,  , свадьба, \\n]</td>\n",
       "      <td>свадьба</td>\n",
       "      <td>большой</td>\n",
       "    </tr>\n",
       "    <tr>\n",
       "      <td>38</td>\n",
       "      <td>0</td>\n",
       "      <td>-597</td>\n",
       "      <td>25</td>\n",
       "      <td>высшее</td>\n",
       "      <td>0</td>\n",
       "      <td>не женат / не замужем</td>\n",
       "      <td>4</td>\n",
       "      <td>M</td>\n",
       "      <td>сотрудник</td>\n",
       "      <td>1</td>\n",
       "      <td>192247</td>\n",
       "      <td>[образование, \\n]</td>\n",
       "      <td>образование</td>\n",
       "      <td>свербольшой</td>\n",
       "    </tr>\n",
       "    <tr>\n",
       "      <td>55</td>\n",
       "      <td>0</td>\n",
       "      <td>63046</td>\n",
       "      <td>54</td>\n",
       "      <td>среднее</td>\n",
       "      <td>1</td>\n",
       "      <td>гражданский брак</td>\n",
       "      <td>1</td>\n",
       "      <td>F</td>\n",
       "      <td>пенсионер</td>\n",
       "      <td>1</td>\n",
       "      <td>145017</td>\n",
       "      <td>[сыграть,  , свадьба, \\n]</td>\n",
       "      <td>свадьба</td>\n",
       "      <td>большой</td>\n",
       "    </tr>\n",
       "    <tr>\n",
       "      <td>75</td>\n",
       "      <td>1</td>\n",
       "      <td>-2953</td>\n",
       "      <td>38</td>\n",
       "      <td>среднее</td>\n",
       "      <td>1</td>\n",
       "      <td>женат / замужем</td>\n",
       "      <td>0</td>\n",
       "      <td>M</td>\n",
       "      <td>сотрудник</td>\n",
       "      <td>1</td>\n",
       "      <td>81935</td>\n",
       "      <td>[операция,  , с,  , недвижимость, \\n]</td>\n",
       "      <td>недвижимость</td>\n",
       "      <td>большой</td>\n",
       "    </tr>\n",
       "  </tbody>\n",
       "</table>\n",
       "</div>"
      ],
      "text/plain": [
       "    children  days_employed  dob_years education  education_id  \\\n",
       "14         0          -1844         56    высшее             0   \n",
       "32         0          -4649         34   среднее             1   \n",
       "38         0           -597         25    высшее             0   \n",
       "55         0          63046         54   среднее             1   \n",
       "75         1          -2953         38   среднее             1   \n",
       "\n",
       "            family_status  family_status_id gender income_type  debt  \\\n",
       "14       гражданский брак                 1      F   компаньон     1   \n",
       "32       гражданский брак                 1      F   сотрудник     1   \n",
       "38  не женат / не замужем                 4      M   сотрудник     1   \n",
       "55       гражданский брак                 1      F   пенсионер     1   \n",
       "75        женат / замужем                 0      M   сотрудник     1   \n",
       "\n",
       "    total_income                                   purpose purpose_category  \\\n",
       "14        165127  [покупка,  , жилой,  , недвижимость, \\n]     недвижимость   \n",
       "32        139057       [на,  , проведение,  , свадьба, \\n]          свадьба   \n",
       "38        192247                         [образование, \\n]      образование   \n",
       "55        145017                 [сыграть,  , свадьба, \\n]          свадьба   \n",
       "75         81935     [операция,  , с,  , недвижимость, \\n]     недвижимость   \n",
       "\n",
       "   income_group  \n",
       "14      большой  \n",
       "32      большой  \n",
       "38  свербольшой  \n",
       "55      большой  \n",
       "75      большой  "
      ]
     },
     "execution_count": 36,
     "metadata": {},
     "output_type": "execute_result"
    }
   ],
   "source": [
    "dept_0 = data_score[data_score['debt'] == 0]\n",
    "dept_0.head(20)                              # проверил таблицу, со всеми строками без задолжностей\n",
    "dept_1 = data_score[data_score['debt'] == 1]\n",
    "dept_1.head(5   )                            # проверил таблицу с должниками"
   ]
  },
  {
   "cell_type": "code",
   "execution_count": 37,
   "metadata": {},
   "outputs": [
    {
     "data": {
      "text/html": [
       "<style  type=\"text/css\" >\n",
       "</style><table id=\"T_eb60c948_4327_11ea_bc7d_02420a00076a\" ><thead>    <tr>        <th class=\"blank level0\" ></th>        <th class=\"col_heading level0 col0\" >debt</th>    </tr>    <tr>        <th class=\"index_name level0\" >children</th>        <th class=\"blank\" ></th>    </tr></thead><tbody>\n",
       "                <tr>\n",
       "                        <th id=\"T_eb60c948_4327_11ea_bc7d_02420a00076alevel0_row0\" class=\"row_heading level0 row0\" >4</th>\n",
       "                        <td id=\"T_eb60c948_4327_11ea_bc7d_02420a00076arow0_col0\" class=\"data row0 col0\" >9.76%</td>\n",
       "            </tr>\n",
       "            <tr>\n",
       "                        <th id=\"T_eb60c948_4327_11ea_bc7d_02420a00076alevel0_row1\" class=\"row_heading level0 row1\" >2</th>\n",
       "                        <td id=\"T_eb60c948_4327_11ea_bc7d_02420a00076arow1_col0\" class=\"data row1 col0\" >9.48%</td>\n",
       "            </tr>\n",
       "            <tr>\n",
       "                        <th id=\"T_eb60c948_4327_11ea_bc7d_02420a00076alevel0_row2\" class=\"row_heading level0 row2\" >1</th>\n",
       "                        <td id=\"T_eb60c948_4327_11ea_bc7d_02420a00076arow2_col0\" class=\"data row2 col0\" >9.15%</td>\n",
       "            </tr>\n",
       "            <tr>\n",
       "                        <th id=\"T_eb60c948_4327_11ea_bc7d_02420a00076alevel0_row3\" class=\"row_heading level0 row3\" >3</th>\n",
       "                        <td id=\"T_eb60c948_4327_11ea_bc7d_02420a00076arow3_col0\" class=\"data row3 col0\" >8.18%</td>\n",
       "            </tr>\n",
       "            <tr>\n",
       "                        <th id=\"T_eb60c948_4327_11ea_bc7d_02420a00076alevel0_row4\" class=\"row_heading level0 row4\" >0</th>\n",
       "                        <td id=\"T_eb60c948_4327_11ea_bc7d_02420a00076arow4_col0\" class=\"data row4 col0\" >7.51%</td>\n",
       "            </tr>\n",
       "    </tbody></table>"
      ],
      "text/plain": [
       "<pandas.io.formats.style.Styler at 0x7fedf8757c18>"
      ]
     },
     "execution_count": 37,
     "metadata": {},
     "output_type": "execute_result"
    }
   ],
   "source": [
    "child_debt_0 = dept_0.groupby(['children']).agg({'debt':'count' }) # сделаем агг. таблицу по количеству клиентов с детьми среди недолжников\n",
    "child_debt_1 = dept_1.groupby(['children']).agg({'debt':'count' }) # то же для должников\n",
    "\n",
    "part_child = child_debt_1 / (child_debt_0 + child_debt_1)\n",
    "part_child = part_child.dropna() # удалим пустые значения\n",
    "#part_child = (part_child.astype('str') + '%')\n",
    "part_child = part_child.sort_values(by ='debt', ascending = False)\n",
    "part_child.style.format(\"{:.2%}\")"
   ]
  },
  {
   "cell_type": "markdown",
   "metadata": {},
   "source": [
    "### Вывод"
   ]
  },
  {
   "cell_type": "markdown",
   "metadata": {},
   "source": [
    "Люди с детьми примерно на 2% чаще имеют задолжности, чем без детей"
   ]
  },
  {
   "cell_type": "markdown",
   "metadata": {},
   "source": [
    "Есть ли зависимость между семейным положением и возвратом кредита в срок?"
   ]
  },
  {
   "cell_type": "code",
   "execution_count": 38,
   "metadata": {},
   "outputs": [
    {
     "data": {
      "text/html": [
       "<style  type=\"text/css\" >\n",
       "</style><table id=\"T_eb667d48_4327_11ea_bc7d_02420a00076a\" ><thead>    <tr>        <th class=\"blank level0\" ></th>        <th class=\"col_heading level0 col0\" >debt</th>    </tr>    <tr>        <th class=\"index_name level0\" >family_status</th>        <th class=\"blank\" ></th>    </tr></thead><tbody>\n",
       "                <tr>\n",
       "                        <th id=\"T_eb667d48_4327_11ea_bc7d_02420a00076alevel0_row0\" class=\"row_heading level0 row0\" >не женат / не замужем</th>\n",
       "                        <td id=\"T_eb667d48_4327_11ea_bc7d_02420a00076arow0_col0\" class=\"data row0 col0\" >9.74%</td>\n",
       "            </tr>\n",
       "            <tr>\n",
       "                        <th id=\"T_eb667d48_4327_11ea_bc7d_02420a00076alevel0_row1\" class=\"row_heading level0 row1\" >гражданский брак</th>\n",
       "                        <td id=\"T_eb667d48_4327_11ea_bc7d_02420a00076arow1_col0\" class=\"data row1 col0\" >9.29%</td>\n",
       "            </tr>\n",
       "            <tr>\n",
       "                        <th id=\"T_eb667d48_4327_11ea_bc7d_02420a00076alevel0_row2\" class=\"row_heading level0 row2\" >женат / замужем</th>\n",
       "                        <td id=\"T_eb667d48_4327_11ea_bc7d_02420a00076arow2_col0\" class=\"data row2 col0\" >7.52%</td>\n",
       "            </tr>\n",
       "            <tr>\n",
       "                        <th id=\"T_eb667d48_4327_11ea_bc7d_02420a00076alevel0_row3\" class=\"row_heading level0 row3\" >в разводе</th>\n",
       "                        <td id=\"T_eb667d48_4327_11ea_bc7d_02420a00076arow3_col0\" class=\"data row3 col0\" >7.11%</td>\n",
       "            </tr>\n",
       "            <tr>\n",
       "                        <th id=\"T_eb667d48_4327_11ea_bc7d_02420a00076alevel0_row4\" class=\"row_heading level0 row4\" >вдовец / вдова</th>\n",
       "                        <td id=\"T_eb667d48_4327_11ea_bc7d_02420a00076arow4_col0\" class=\"data row4 col0\" >6.56%</td>\n",
       "            </tr>\n",
       "    </tbody></table>"
      ],
      "text/plain": [
       "<pandas.io.formats.style.Styler at 0x7fedfae4cda0>"
      ]
     },
     "execution_count": 38,
     "metadata": {},
     "output_type": "execute_result"
    }
   ],
   "source": [
    "marriage_debt_0 = dept_0.groupby(['family_status']).agg({'debt':'count' }) # сделаем агг. таблицу по семейному положению\n",
    "marriage_debt_1 = dept_1.groupby(['family_status']).agg({'debt':'count' }) # то же для должников\n",
    "\n",
    "part_marriage = marriage_debt_1 / (marriage_debt_0 + marriage_debt_1)\n",
    "part_marriage = part_marriage.dropna() # удалим пустые значения\n",
    "\n",
    "part_marriage = part_marriage.sort_values(by ='debt', ascending = False)\n",
    "part_marriage.style.format(\"{:.2%}\")\n"
   ]
  },
  {
   "cell_type": "markdown",
   "metadata": {},
   "source": [
    "### Вывод"
   ]
  },
  {
   "cell_type": "markdown",
   "metadata": {},
   "source": [
    "Таким образом мы видим, что каждый 10 незамужний/неженатый человек не имеет просрочку по кредиту,\n",
    "это число снижается к людям с гражданским браком, затем примерно одинаковые 7% имеют женатые или разведенные,\n",
    "и меньеше всего просрочек у вдоцов\\вдов"
   ]
  },
  {
   "cell_type": "markdown",
   "metadata": {},
   "source": [
    "- Есть ли зависимость между уровнем дохода и возвратом кредита в срок?"
   ]
  },
  {
   "cell_type": "code",
   "execution_count": 39,
   "metadata": {},
   "outputs": [
    {
     "data": {
      "text/html": [
       "<style  type=\"text/css\" >\n",
       "</style><table id=\"T_eb69fcfc_4327_11ea_bc7d_02420a00076a\" ><thead>    <tr>        <th class=\"blank level0\" ></th>        <th class=\"col_heading level0 col0\" >debt</th>    </tr>    <tr>        <th class=\"index_name level0\" >income_group</th>        <th class=\"blank\" ></th>    </tr></thead><tbody>\n",
       "                <tr>\n",
       "                        <th id=\"T_eb69fcfc_4327_11ea_bc7d_02420a00076alevel0_row0\" class=\"row_heading level0 row0\" >большой</th>\n",
       "                        <td id=\"T_eb69fcfc_4327_11ea_bc7d_02420a00076arow0_col0\" class=\"data row0 col0\" >8.45%</td>\n",
       "            </tr>\n",
       "            <tr>\n",
       "                        <th id=\"T_eb69fcfc_4327_11ea_bc7d_02420a00076alevel0_row1\" class=\"row_heading level0 row1\" >свербольшой</th>\n",
       "                        <td id=\"T_eb69fcfc_4327_11ea_bc7d_02420a00076arow1_col0\" class=\"data row1 col0\" >7.76%</td>\n",
       "            </tr>\n",
       "            <tr>\n",
       "                        <th id=\"T_eb69fcfc_4327_11ea_bc7d_02420a00076alevel0_row2\" class=\"row_heading level0 row2\" >средний</th>\n",
       "                        <td id=\"T_eb69fcfc_4327_11ea_bc7d_02420a00076arow2_col0\" class=\"data row2 col0\" >6.92%</td>\n",
       "            </tr>\n",
       "    </tbody></table>"
      ],
      "text/plain": [
       "<pandas.io.formats.style.Styler at 0x7fedfae4ceb8>"
      ]
     },
     "execution_count": 39,
     "metadata": {},
     "output_type": "execute_result"
    }
   ],
   "source": [
    "income_debt_0 = dept_0.groupby(['income_group']).agg({'debt':'count' }) # сделаем агг. таблицу по уровню дохода\n",
    "income_debt_1 = dept_1.groupby(['income_group']).agg({'debt':'count' }) # то же для должников\n",
    "\n",
    "part_income = income_debt_1 / (income_debt_0 + income_debt_1)\n",
    "part_income = part_income.dropna() # удалим пустые значения\n",
    "\n",
    "part_income = part_income.sort_values(by ='debt', ascending = False)\n",
    "part_income.style.format(\"{:.2%}\")\n"
   ]
  },
  {
   "cell_type": "markdown",
   "metadata": {},
   "source": [
    "### Вывод"
   ]
  },
  {
   "cell_type": "markdown",
   "metadata": {},
   "source": [
    "Люди с большим уровнем дохода чаще всего имеют просрочку, но с очень небольшим отрывом, на втором месте сверхбольшие доходы и потом средние. Вывод  - люди с меньшим доходом дисциплинированней в ведении финансов."
   ]
  },
  {
   "cell_type": "markdown",
   "metadata": {},
   "source": [
    "- Как разные цели кредита влияют на его возврат в срок?"
   ]
  },
  {
   "cell_type": "code",
   "execution_count": 40,
   "metadata": {},
   "outputs": [
    {
     "data": {
      "text/html": [
       "<style  type=\"text/css\" >\n",
       "</style><table id=\"T_eb6e71ec_4327_11ea_bc7d_02420a00076a\" ><thead>    <tr>        <th class=\"blank level0\" ></th>        <th class=\"col_heading level0 col0\" >debt</th>    </tr>    <tr>        <th class=\"index_name level0\" >purpose_category</th>        <th class=\"blank\" ></th>    </tr></thead><tbody>\n",
       "                <tr>\n",
       "                        <th id=\"T_eb6e71ec_4327_11ea_bc7d_02420a00076alevel0_row0\" class=\"row_heading level0 row0\" >автомобиль</th>\n",
       "                        <td id=\"T_eb6e71ec_4327_11ea_bc7d_02420a00076arow0_col0\" class=\"data row0 col0\" >9.34%</td>\n",
       "            </tr>\n",
       "            <tr>\n",
       "                        <th id=\"T_eb6e71ec_4327_11ea_bc7d_02420a00076alevel0_row1\" class=\"row_heading level0 row1\" >образование</th>\n",
       "                        <td id=\"T_eb6e71ec_4327_11ea_bc7d_02420a00076arow1_col0\" class=\"data row1 col0\" >9.20%</td>\n",
       "            </tr>\n",
       "            <tr>\n",
       "                        <th id=\"T_eb6e71ec_4327_11ea_bc7d_02420a00076alevel0_row2\" class=\"row_heading level0 row2\" >свадьба</th>\n",
       "                        <td id=\"T_eb6e71ec_4327_11ea_bc7d_02420a00076arow2_col0\" class=\"data row2 col0\" >7.92%</td>\n",
       "            </tr>\n",
       "            <tr>\n",
       "                        <th id=\"T_eb6e71ec_4327_11ea_bc7d_02420a00076alevel0_row3\" class=\"row_heading level0 row3\" >недвижимость</th>\n",
       "                        <td id=\"T_eb6e71ec_4327_11ea_bc7d_02420a00076arow3_col0\" class=\"data row3 col0\" >7.21%</td>\n",
       "            </tr>\n",
       "    </tbody></table>"
      ],
      "text/plain": [
       "<pandas.io.formats.style.Styler at 0x7fedfaece940>"
      ]
     },
     "execution_count": 40,
     "metadata": {},
     "output_type": "execute_result"
    }
   ],
   "source": [
    "purpose_debt_0 = dept_0.groupby(['purpose_category']).agg({'debt':'count' }) # сделаем агг. таблицу по целям\n",
    "purpose_debt_1 = dept_1.groupby(['purpose_category']).agg({'debt':'count' }) # то же для должников\n",
    "\n",
    "part_purpose = purpose_debt_1 / (purpose_debt_0 + purpose_debt_1)\n",
    "part_purpose = part_purpose.dropna() # удалим пустые значения\n",
    "\n",
    "part_purpose = part_purpose.sort_values(by ='debt', ascending = False)\n",
    "part_purpose.style.format(\"{:.2%}\")"
   ]
  },
  {
   "cell_type": "raw",
   "metadata": {},
   "source": [
    "Наибольший процент дожников среди заемщиков автоуредитов, совсем рядом образование, на две позици ниже свадьба и нежвижимость."
   ]
  },
  {
   "cell_type": "markdown",
   "metadata": {},
   "source": [
    "Попробуем свести все в одну таблицу"
   ]
  },
  {
   "cell_type": "code",
   "execution_count": null,
   "metadata": {},
   "outputs": [],
   "source": [
    "all_debt_0 = dept_0.groupby(['children','family_status','income_group','purpose_category']).agg({'debt':'count' }) # сделаем агг. таблицу по целям\n",
    "all_debt_1 = dept_1.groupby(['children','family_status','income_group','purpose_category']).agg({'debt':'count' }) # то же для должников\n",
    "\n",
    "part_all = all_debt_1 / (all_debt_0 + all_debt_1)\n",
    "part_all = part_all.dropna() # удалим пустые значения\n",
    "\n",
    "part_all = part_all.sort_values(by ='debt', ascending = False)\n",
    "part_all.style.format(\"{:.2%}\")\n"
   ]
  },
  {
   "cell_type": "markdown",
   "metadata": {},
   "source": [
    "### Шаг 4. Общий вывод"
   ]
  },
  {
   "cell_type": "markdown",
   "metadata": {},
   "source": [
    "При отдельном рассмотрении всех групп, мы видим что процент просрочек в каждой категории составляет approx 7-10%\n",
    "Если составить общую таблицу и расмотреть частный случай, то мы видим другие цифры, где 75% людей с тремя детьми не отдают кредит на свадьбу, или половина людей с двумя и тремя детьми в \n",
    "разводе имеют просрочки по автокредиту. А люди в разводе со сверхбольшим доходом вероятностью 2.70% будут иметь просрочку по автокредиту, как и женатые люди с думя детьми и средним доходом только в  3.12% случаев."
   ]
  }
 ],
 "metadata": {
  "celltoolbar": "Raw Cell Format",
  "kernelspec": {
   "display_name": "Python 3",
   "language": "python",
   "name": "python3"
  },
  "language_info": {
   "codemirror_mode": {
    "name": "ipython",
    "version": 3
   },
   "file_extension": ".py",
   "mimetype": "text/x-python",
   "name": "python",
   "nbconvert_exporter": "python",
   "pygments_lexer": "ipython3",
   "version": "3.7.4"
  }
 },
 "nbformat": 4,
 "nbformat_minor": 2
}
