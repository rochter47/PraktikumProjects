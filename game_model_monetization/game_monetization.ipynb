{
 "cells": [
  {
   "cell_type": "markdown",
   "metadata": {},
   "source": [
    "# Проект. Формирование модели монетизации игрового приложения."
   ]
  },
  {
   "cell_type": "markdown",
   "metadata": {},
   "source": [
    "### Цели проекта:\n",
    " **- Подготовка модели монетизации приложения**  \n",
    " **- Проверка статистической значимости гипотез**   \n",
    " **- Определения влияние событи на целевое событие**  "
   ]
  },
  {
   "cell_type": "markdown",
   "metadata": {},
   "source": [
    "Содержание:  \n",
    "\n",
    "[1. Загрузка и обзор данных](#1)  \n",
    "[2. Предобработка данных](#2)  \n",
    "[3. EDA](#3)    \n",
    "[4. Исследование влияний событий на целевое событие](#4)  \n",
    "[5. Проверка гиотез](#5)  \n",
    "[6. Общий расчет маркетинговых затрат](#6)  \n",
    "[7. Когортный анализ](#7)  \n",
    "[8. Выводы](#8)  \n",
    "\n",
    "[Список ресурсов](#9)  \n",
    "[Презентация](https://yadi.sk/i/t_gKetNqdwJtzg)   "
   ]
  },
  {
   "cell_type": "markdown",
   "metadata": {},
   "source": [
    "<a id=\"1\"></a>\n",
    "## 1. Загрузка и обзор данных"
   ]
  },
  {
   "cell_type": "code",
   "execution_count": 106,
   "metadata": {},
   "outputs": [],
   "source": [
    "#импорт необходимых библиотек\n",
    "import pandas as pd\n",
    "import numpy as np\n",
    "import datetime as dt\n",
    "import matplotlib.pyplot as plt\n",
    "from scipy import stats as st\n",
    "from datetime import timedelta\n",
    "import seaborn as sns\n",
    "from matplotlib import pyplot as plt\n",
    "import math"
   ]
  },
  {
   "cell_type": "code",
   "execution_count": 107,
   "metadata": {},
   "outputs": [],
   "source": [
    "import warnings\n",
    "warnings.filterwarnings('ignore')"
   ]
  },
  {
   "cell_type": "code",
   "execution_count": 108,
   "metadata": {},
   "outputs": [],
   "source": [
    "#задаем путь\n",
    "#path = 'C:/Users/rochev/Desktop/Яндекс/Final_project/'\n",
    "path = 'C:/Users/HP250619/Desktop/Yandex/final_project/'"
   ]
  },
  {
   "cell_type": "code",
   "execution_count": 109,
   "metadata": {},
   "outputs": [],
   "source": [
    "#импорт данных\n",
    "user_source = pd.read_csv(path + 'user_source.csv', sep =\",\")\n",
    "events = pd.read_csv(path + 'events.csv', sep =\",\")\n",
    "ad_costs = pd.read_csv(path + 'ad_costs.csv', sep =\",\")"
   ]
  },
  {
   "cell_type": "code",
   "execution_count": 110,
   "metadata": {},
   "outputs": [
    {
     "data": {
      "text/html": [
       "<div>\n",
       "<style scoped>\n",
       "    .dataframe tbody tr th:only-of-type {\n",
       "        vertical-align: middle;\n",
       "    }\n",
       "\n",
       "    .dataframe tbody tr th {\n",
       "        vertical-align: top;\n",
       "    }\n",
       "\n",
       "    .dataframe thead th {\n",
       "        text-align: right;\n",
       "    }\n",
       "</style>\n",
       "<table border=\"1\" class=\"dataframe\">\n",
       "  <thead>\n",
       "    <tr style=\"text-align: right;\">\n",
       "      <th></th>\n",
       "      <th>user_id</th>\n",
       "      <th>source</th>\n",
       "    </tr>\n",
       "  </thead>\n",
       "  <tbody>\n",
       "    <tr>\n",
       "      <td>0</td>\n",
       "      <td>0001f83c-c6ac-4621-b7f0-8a28b283ac30</td>\n",
       "      <td>facebook_ads</td>\n",
       "    </tr>\n",
       "    <tr>\n",
       "      <td>1</td>\n",
       "      <td>00151b4f-ba38-44a8-a650-d7cf130a0105</td>\n",
       "      <td>yandex_direct</td>\n",
       "    </tr>\n",
       "    <tr>\n",
       "      <td>2</td>\n",
       "      <td>001aaea6-3d14-43f1-8ca8-7f48820f17aa</td>\n",
       "      <td>youtube_channel_reklama</td>\n",
       "    </tr>\n",
       "    <tr>\n",
       "      <td>3</td>\n",
       "      <td>001d39dc-366c-4021-9604-6a3b9ff01e25</td>\n",
       "      <td>instagram_new_adverts</td>\n",
       "    </tr>\n",
       "    <tr>\n",
       "      <td>4</td>\n",
       "      <td>002f508f-67b6-479f-814b-b05f00d4e995</td>\n",
       "      <td>facebook_ads</td>\n",
       "    </tr>\n",
       "    <tr>\n",
       "      <td>...</td>\n",
       "      <td>...</td>\n",
       "      <td>...</td>\n",
       "    </tr>\n",
       "    <tr>\n",
       "      <td>13571</td>\n",
       "      <td>ffef4fed-164c-40e1-bde1-3980f76d0fb5</td>\n",
       "      <td>instagram_new_adverts</td>\n",
       "    </tr>\n",
       "    <tr>\n",
       "      <td>13572</td>\n",
       "      <td>fffab3da-da0e-4e30-ae62-10d0a2e24a4e</td>\n",
       "      <td>facebook_ads</td>\n",
       "    </tr>\n",
       "    <tr>\n",
       "      <td>13573</td>\n",
       "      <td>fffb626c-5ab6-47c9-8113-2062a2f18494</td>\n",
       "      <td>yandex_direct</td>\n",
       "    </tr>\n",
       "    <tr>\n",
       "      <td>13574</td>\n",
       "      <td>ffff194a-56b7-4c12-860d-3485242ae7f5</td>\n",
       "      <td>instagram_new_adverts</td>\n",
       "    </tr>\n",
       "    <tr>\n",
       "      <td>13575</td>\n",
       "      <td>ffff69cc-fec1-4fd3-9f98-93be1112a6b8</td>\n",
       "      <td>facebook_ads</td>\n",
       "    </tr>\n",
       "  </tbody>\n",
       "</table>\n",
       "<p>13576 rows × 2 columns</p>\n",
       "</div>"
      ],
      "text/plain": [
       "                                    user_id                   source\n",
       "0      0001f83c-c6ac-4621-b7f0-8a28b283ac30             facebook_ads\n",
       "1      00151b4f-ba38-44a8-a650-d7cf130a0105            yandex_direct\n",
       "2      001aaea6-3d14-43f1-8ca8-7f48820f17aa  youtube_channel_reklama\n",
       "3      001d39dc-366c-4021-9604-6a3b9ff01e25    instagram_new_adverts\n",
       "4      002f508f-67b6-479f-814b-b05f00d4e995             facebook_ads\n",
       "...                                     ...                      ...\n",
       "13571  ffef4fed-164c-40e1-bde1-3980f76d0fb5    instagram_new_adverts\n",
       "13572  fffab3da-da0e-4e30-ae62-10d0a2e24a4e             facebook_ads\n",
       "13573  fffb626c-5ab6-47c9-8113-2062a2f18494            yandex_direct\n",
       "13574  ffff194a-56b7-4c12-860d-3485242ae7f5    instagram_new_adverts\n",
       "13575  ffff69cc-fec1-4fd3-9f98-93be1112a6b8             facebook_ads\n",
       "\n",
       "[13576 rows x 2 columns]"
      ]
     },
     "execution_count": 110,
     "metadata": {},
     "output_type": "execute_result"
    }
   ],
   "source": [
    "user_source"
   ]
  },
  {
   "cell_type": "code",
   "execution_count": 111,
   "metadata": {},
   "outputs": [
    {
     "name": "stdout",
     "output_type": "stream",
     "text": [
      "<class 'pandas.core.frame.DataFrame'>\n",
      "RangeIndex: 13576 entries, 0 to 13575\n",
      "Data columns (total 2 columns):\n",
      "user_id    13576 non-null object\n",
      "source     13576 non-null object\n",
      "dtypes: object(2)\n",
      "memory usage: 212.2+ KB\n"
     ]
    }
   ],
   "source": [
    "user_source.info()"
   ]
  },
  {
   "cell_type": "code",
   "execution_count": 112,
   "metadata": {},
   "outputs": [
    {
     "data": {
      "text/html": [
       "<div>\n",
       "<style scoped>\n",
       "    .dataframe tbody tr th:only-of-type {\n",
       "        vertical-align: middle;\n",
       "    }\n",
       "\n",
       "    .dataframe tbody tr th {\n",
       "        vertical-align: top;\n",
       "    }\n",
       "\n",
       "    .dataframe thead th {\n",
       "        text-align: right;\n",
       "    }\n",
       "</style>\n",
       "<table border=\"1\" class=\"dataframe\">\n",
       "  <thead>\n",
       "    <tr style=\"text-align: right;\">\n",
       "      <th></th>\n",
       "      <th>event_datetime</th>\n",
       "      <th>event</th>\n",
       "      <th>building_type</th>\n",
       "      <th>user_id</th>\n",
       "      <th>project_type</th>\n",
       "    </tr>\n",
       "  </thead>\n",
       "  <tbody>\n",
       "    <tr>\n",
       "      <td>0</td>\n",
       "      <td>2020-05-04 00:00:01</td>\n",
       "      <td>building</td>\n",
       "      <td>assembly_shop</td>\n",
       "      <td>55e92310-cb8e-4754-b622-597e124b03de</td>\n",
       "      <td>NaN</td>\n",
       "    </tr>\n",
       "    <tr>\n",
       "      <td>1</td>\n",
       "      <td>2020-05-04 00:00:03</td>\n",
       "      <td>building</td>\n",
       "      <td>assembly_shop</td>\n",
       "      <td>c07b1c10-f477-44dc-81dc-ec82254b1347</td>\n",
       "      <td>NaN</td>\n",
       "    </tr>\n",
       "    <tr>\n",
       "      <td>2</td>\n",
       "      <td>2020-05-04 00:00:16</td>\n",
       "      <td>building</td>\n",
       "      <td>assembly_shop</td>\n",
       "      <td>6edd42cc-e753-4ff6-a947-2107cd560710</td>\n",
       "      <td>NaN</td>\n",
       "    </tr>\n",
       "    <tr>\n",
       "      <td>3</td>\n",
       "      <td>2020-05-04 00:00:16</td>\n",
       "      <td>building</td>\n",
       "      <td>assembly_shop</td>\n",
       "      <td>92c69003-d60a-444a-827f-8cc51bf6bf4c</td>\n",
       "      <td>NaN</td>\n",
       "    </tr>\n",
       "    <tr>\n",
       "      <td>4</td>\n",
       "      <td>2020-05-04 00:00:35</td>\n",
       "      <td>building</td>\n",
       "      <td>assembly_shop</td>\n",
       "      <td>cdc6bb92-0ccb-4490-9866-ef142f09139d</td>\n",
       "      <td>NaN</td>\n",
       "    </tr>\n",
       "    <tr>\n",
       "      <td>...</td>\n",
       "      <td>...</td>\n",
       "      <td>...</td>\n",
       "      <td>...</td>\n",
       "      <td>...</td>\n",
       "      <td>...</td>\n",
       "    </tr>\n",
       "    <tr>\n",
       "      <td>135635</td>\n",
       "      <td>2020-06-05 00:08:06</td>\n",
       "      <td>building</td>\n",
       "      <td>research_center</td>\n",
       "      <td>f21d179f-1c4b-437e-b9c6-ab1976907195</td>\n",
       "      <td>NaN</td>\n",
       "    </tr>\n",
       "    <tr>\n",
       "      <td>135636</td>\n",
       "      <td>2020-06-05 02:25:12</td>\n",
       "      <td>finished_stage_1</td>\n",
       "      <td>NaN</td>\n",
       "      <td>515c1952-99aa-4bca-a7ea-d0449eb5385a</td>\n",
       "      <td>NaN</td>\n",
       "    </tr>\n",
       "    <tr>\n",
       "      <td>135637</td>\n",
       "      <td>2020-06-05 08:57:52</td>\n",
       "      <td>building</td>\n",
       "      <td>research_center</td>\n",
       "      <td>ed3e7d02-8a96-4be7-9998-e9813ff9c316</td>\n",
       "      <td>NaN</td>\n",
       "    </tr>\n",
       "    <tr>\n",
       "      <td>135638</td>\n",
       "      <td>2020-06-05 12:12:27</td>\n",
       "      <td>finished_stage_1</td>\n",
       "      <td>NaN</td>\n",
       "      <td>32572adb-900f-4b5d-a453-1eb1e6d88d8b</td>\n",
       "      <td>NaN</td>\n",
       "    </tr>\n",
       "    <tr>\n",
       "      <td>135639</td>\n",
       "      <td>2020-06-05 12:32:49</td>\n",
       "      <td>finished_stage_1</td>\n",
       "      <td>NaN</td>\n",
       "      <td>f21d179f-1c4b-437e-b9c6-ab1976907195</td>\n",
       "      <td>NaN</td>\n",
       "    </tr>\n",
       "  </tbody>\n",
       "</table>\n",
       "<p>135640 rows × 5 columns</p>\n",
       "</div>"
      ],
      "text/plain": [
       "             event_datetime             event    building_type  \\\n",
       "0       2020-05-04 00:00:01          building    assembly_shop   \n",
       "1       2020-05-04 00:00:03          building    assembly_shop   \n",
       "2       2020-05-04 00:00:16          building    assembly_shop   \n",
       "3       2020-05-04 00:00:16          building    assembly_shop   \n",
       "4       2020-05-04 00:00:35          building    assembly_shop   \n",
       "...                     ...               ...              ...   \n",
       "135635  2020-06-05 00:08:06          building  research_center   \n",
       "135636  2020-06-05 02:25:12  finished_stage_1              NaN   \n",
       "135637  2020-06-05 08:57:52          building  research_center   \n",
       "135638  2020-06-05 12:12:27  finished_stage_1              NaN   \n",
       "135639  2020-06-05 12:32:49  finished_stage_1              NaN   \n",
       "\n",
       "                                     user_id project_type  \n",
       "0       55e92310-cb8e-4754-b622-597e124b03de          NaN  \n",
       "1       c07b1c10-f477-44dc-81dc-ec82254b1347          NaN  \n",
       "2       6edd42cc-e753-4ff6-a947-2107cd560710          NaN  \n",
       "3       92c69003-d60a-444a-827f-8cc51bf6bf4c          NaN  \n",
       "4       cdc6bb92-0ccb-4490-9866-ef142f09139d          NaN  \n",
       "...                                      ...          ...  \n",
       "135635  f21d179f-1c4b-437e-b9c6-ab1976907195          NaN  \n",
       "135636  515c1952-99aa-4bca-a7ea-d0449eb5385a          NaN  \n",
       "135637  ed3e7d02-8a96-4be7-9998-e9813ff9c316          NaN  \n",
       "135638  32572adb-900f-4b5d-a453-1eb1e6d88d8b          NaN  \n",
       "135639  f21d179f-1c4b-437e-b9c6-ab1976907195          NaN  \n",
       "\n",
       "[135640 rows x 5 columns]"
      ]
     },
     "execution_count": 112,
     "metadata": {},
     "output_type": "execute_result"
    }
   ],
   "source": [
    "events"
   ]
  },
  {
   "cell_type": "code",
   "execution_count": 113,
   "metadata": {
    "scrolled": true
   },
   "outputs": [
    {
     "name": "stdout",
     "output_type": "stream",
     "text": [
      "<class 'pandas.core.frame.DataFrame'>\n",
      "RangeIndex: 135640 entries, 0 to 135639\n",
      "Data columns (total 5 columns):\n",
      "event_datetime    135640 non-null object\n",
      "event             135640 non-null object\n",
      "building_type     127957 non-null object\n",
      "user_id           135640 non-null object\n",
      "project_type      1866 non-null object\n",
      "dtypes: object(5)\n",
      "memory usage: 5.2+ MB\n"
     ]
    }
   ],
   "source": [
    "events.info()"
   ]
  },
  {
   "cell_type": "code",
   "execution_count": 114,
   "metadata": {},
   "outputs": [
    {
     "data": {
      "text/html": [
       "<div>\n",
       "<style scoped>\n",
       "    .dataframe tbody tr th:only-of-type {\n",
       "        vertical-align: middle;\n",
       "    }\n",
       "\n",
       "    .dataframe tbody tr th {\n",
       "        vertical-align: top;\n",
       "    }\n",
       "\n",
       "    .dataframe thead th {\n",
       "        text-align: right;\n",
       "    }\n",
       "</style>\n",
       "<table border=\"1\" class=\"dataframe\">\n",
       "  <thead>\n",
       "    <tr style=\"text-align: right;\">\n",
       "      <th></th>\n",
       "      <th>source</th>\n",
       "      <th>day</th>\n",
       "      <th>cost</th>\n",
       "    </tr>\n",
       "  </thead>\n",
       "  <tbody>\n",
       "    <tr>\n",
       "      <td>0</td>\n",
       "      <td>facebook_ads</td>\n",
       "      <td>2020-05-03</td>\n",
       "      <td>935.882786</td>\n",
       "    </tr>\n",
       "    <tr>\n",
       "      <td>1</td>\n",
       "      <td>facebook_ads</td>\n",
       "      <td>2020-05-04</td>\n",
       "      <td>548.354480</td>\n",
       "    </tr>\n",
       "    <tr>\n",
       "      <td>2</td>\n",
       "      <td>facebook_ads</td>\n",
       "      <td>2020-05-05</td>\n",
       "      <td>260.185754</td>\n",
       "    </tr>\n",
       "    <tr>\n",
       "      <td>3</td>\n",
       "      <td>facebook_ads</td>\n",
       "      <td>2020-05-06</td>\n",
       "      <td>177.982200</td>\n",
       "    </tr>\n",
       "    <tr>\n",
       "      <td>4</td>\n",
       "      <td>facebook_ads</td>\n",
       "      <td>2020-05-07</td>\n",
       "      <td>111.766796</td>\n",
       "    </tr>\n",
       "    <tr>\n",
       "      <td>5</td>\n",
       "      <td>facebook_ads</td>\n",
       "      <td>2020-05-08</td>\n",
       "      <td>68.009276</td>\n",
       "    </tr>\n",
       "    <tr>\n",
       "      <td>6</td>\n",
       "      <td>facebook_ads</td>\n",
       "      <td>2020-05-09</td>\n",
       "      <td>38.723350</td>\n",
       "    </tr>\n",
       "    <tr>\n",
       "      <td>7</td>\n",
       "      <td>instagram_new_adverts</td>\n",
       "      <td>2020-05-03</td>\n",
       "      <td>943.204717</td>\n",
       "    </tr>\n",
       "    <tr>\n",
       "      <td>8</td>\n",
       "      <td>instagram_new_adverts</td>\n",
       "      <td>2020-05-04</td>\n",
       "      <td>502.925451</td>\n",
       "    </tr>\n",
       "    <tr>\n",
       "      <td>9</td>\n",
       "      <td>instagram_new_adverts</td>\n",
       "      <td>2020-05-05</td>\n",
       "      <td>313.970984</td>\n",
       "    </tr>\n",
       "    <tr>\n",
       "      <td>10</td>\n",
       "      <td>instagram_new_adverts</td>\n",
       "      <td>2020-05-06</td>\n",
       "      <td>173.071145</td>\n",
       "    </tr>\n",
       "    <tr>\n",
       "      <td>11</td>\n",
       "      <td>instagram_new_adverts</td>\n",
       "      <td>2020-05-07</td>\n",
       "      <td>109.915254</td>\n",
       "    </tr>\n",
       "    <tr>\n",
       "      <td>12</td>\n",
       "      <td>instagram_new_adverts</td>\n",
       "      <td>2020-05-08</td>\n",
       "      <td>71.578739</td>\n",
       "    </tr>\n",
       "    <tr>\n",
       "      <td>13</td>\n",
       "      <td>instagram_new_adverts</td>\n",
       "      <td>2020-05-09</td>\n",
       "      <td>46.775400</td>\n",
       "    </tr>\n",
       "    <tr>\n",
       "      <td>14</td>\n",
       "      <td>yandex_direct</td>\n",
       "      <td>2020-05-03</td>\n",
       "      <td>969.139394</td>\n",
       "    </tr>\n",
       "    <tr>\n",
       "      <td>15</td>\n",
       "      <td>yandex_direct</td>\n",
       "      <td>2020-05-04</td>\n",
       "      <td>554.651494</td>\n",
       "    </tr>\n",
       "    <tr>\n",
       "      <td>16</td>\n",
       "      <td>yandex_direct</td>\n",
       "      <td>2020-05-05</td>\n",
       "      <td>308.232990</td>\n",
       "    </tr>\n",
       "    <tr>\n",
       "      <td>17</td>\n",
       "      <td>yandex_direct</td>\n",
       "      <td>2020-05-06</td>\n",
       "      <td>180.917099</td>\n",
       "    </tr>\n",
       "    <tr>\n",
       "      <td>18</td>\n",
       "      <td>yandex_direct</td>\n",
       "      <td>2020-05-07</td>\n",
       "      <td>114.429338</td>\n",
       "    </tr>\n",
       "    <tr>\n",
       "      <td>19</td>\n",
       "      <td>yandex_direct</td>\n",
       "      <td>2020-05-08</td>\n",
       "      <td>62.961630</td>\n",
       "    </tr>\n",
       "    <tr>\n",
       "      <td>20</td>\n",
       "      <td>yandex_direct</td>\n",
       "      <td>2020-05-09</td>\n",
       "      <td>42.779505</td>\n",
       "    </tr>\n",
       "    <tr>\n",
       "      <td>21</td>\n",
       "      <td>youtube_channel_reklama</td>\n",
       "      <td>2020-05-03</td>\n",
       "      <td>454.224943</td>\n",
       "    </tr>\n",
       "    <tr>\n",
       "      <td>22</td>\n",
       "      <td>youtube_channel_reklama</td>\n",
       "      <td>2020-05-04</td>\n",
       "      <td>259.073224</td>\n",
       "    </tr>\n",
       "    <tr>\n",
       "      <td>23</td>\n",
       "      <td>youtube_channel_reklama</td>\n",
       "      <td>2020-05-05</td>\n",
       "      <td>147.041741</td>\n",
       "    </tr>\n",
       "    <tr>\n",
       "      <td>24</td>\n",
       "      <td>youtube_channel_reklama</td>\n",
       "      <td>2020-05-06</td>\n",
       "      <td>88.506074</td>\n",
       "    </tr>\n",
       "    <tr>\n",
       "      <td>25</td>\n",
       "      <td>youtube_channel_reklama</td>\n",
       "      <td>2020-05-07</td>\n",
       "      <td>55.740645</td>\n",
       "    </tr>\n",
       "    <tr>\n",
       "      <td>26</td>\n",
       "      <td>youtube_channel_reklama</td>\n",
       "      <td>2020-05-08</td>\n",
       "      <td>40.217907</td>\n",
       "    </tr>\n",
       "    <tr>\n",
       "      <td>27</td>\n",
       "      <td>youtube_channel_reklama</td>\n",
       "      <td>2020-05-09</td>\n",
       "      <td>23.314669</td>\n",
       "    </tr>\n",
       "  </tbody>\n",
       "</table>\n",
       "</div>"
      ],
      "text/plain": [
       "                     source         day        cost\n",
       "0              facebook_ads  2020-05-03  935.882786\n",
       "1              facebook_ads  2020-05-04  548.354480\n",
       "2              facebook_ads  2020-05-05  260.185754\n",
       "3              facebook_ads  2020-05-06  177.982200\n",
       "4              facebook_ads  2020-05-07  111.766796\n",
       "5              facebook_ads  2020-05-08   68.009276\n",
       "6              facebook_ads  2020-05-09   38.723350\n",
       "7     instagram_new_adverts  2020-05-03  943.204717\n",
       "8     instagram_new_adverts  2020-05-04  502.925451\n",
       "9     instagram_new_adverts  2020-05-05  313.970984\n",
       "10    instagram_new_adverts  2020-05-06  173.071145\n",
       "11    instagram_new_adverts  2020-05-07  109.915254\n",
       "12    instagram_new_adverts  2020-05-08   71.578739\n",
       "13    instagram_new_adverts  2020-05-09   46.775400\n",
       "14            yandex_direct  2020-05-03  969.139394\n",
       "15            yandex_direct  2020-05-04  554.651494\n",
       "16            yandex_direct  2020-05-05  308.232990\n",
       "17            yandex_direct  2020-05-06  180.917099\n",
       "18            yandex_direct  2020-05-07  114.429338\n",
       "19            yandex_direct  2020-05-08   62.961630\n",
       "20            yandex_direct  2020-05-09   42.779505\n",
       "21  youtube_channel_reklama  2020-05-03  454.224943\n",
       "22  youtube_channel_reklama  2020-05-04  259.073224\n",
       "23  youtube_channel_reklama  2020-05-05  147.041741\n",
       "24  youtube_channel_reklama  2020-05-06   88.506074\n",
       "25  youtube_channel_reklama  2020-05-07   55.740645\n",
       "26  youtube_channel_reklama  2020-05-08   40.217907\n",
       "27  youtube_channel_reklama  2020-05-09   23.314669"
      ]
     },
     "execution_count": 114,
     "metadata": {},
     "output_type": "execute_result"
    }
   ],
   "source": [
    "ad_costs"
   ]
  },
  {
   "cell_type": "code",
   "execution_count": 115,
   "metadata": {},
   "outputs": [
    {
     "name": "stdout",
     "output_type": "stream",
     "text": [
      "<class 'pandas.core.frame.DataFrame'>\n",
      "RangeIndex: 28 entries, 0 to 27\n",
      "Data columns (total 3 columns):\n",
      "source    28 non-null object\n",
      "day       28 non-null object\n",
      "cost      28 non-null float64\n",
      "dtypes: float64(1), object(2)\n",
      "memory usage: 800.0+ bytes\n"
     ]
    }
   ],
   "source": [
    "ad_costs.info()"
   ]
  },
  {
   "cell_type": "markdown",
   "metadata": {},
   "source": [
    "<a id=\"2\"></a>\n",
    "## 2. Предобработка данных"
   ]
  },
  {
   "cell_type": "markdown",
   "metadata": {},
   "source": [
    "##### проверим дубликаты"
   ]
  },
  {
   "cell_type": "code",
   "execution_count": 116,
   "metadata": {},
   "outputs": [
    {
     "data": {
      "text/plain": [
       "1"
      ]
     },
     "execution_count": 116,
     "metadata": {},
     "output_type": "execute_result"
    }
   ],
   "source": [
    "\n",
    "events.duplicated().sum()"
   ]
  },
  {
   "cell_type": "code",
   "execution_count": 117,
   "metadata": {},
   "outputs": [
    {
     "data": {
      "text/plain": [
       "0"
      ]
     },
     "execution_count": 117,
     "metadata": {},
     "output_type": "execute_result"
    }
   ],
   "source": [
    "ad_costs.duplicated().sum()"
   ]
  },
  {
   "cell_type": "code",
   "execution_count": 118,
   "metadata": {},
   "outputs": [
    {
     "data": {
      "text/plain": [
       "0"
      ]
     },
     "execution_count": 118,
     "metadata": {},
     "output_type": "execute_result"
    }
   ],
   "source": [
    "user_source.duplicated().sum()"
   ]
  },
  {
   "cell_type": "code",
   "execution_count": 119,
   "metadata": {},
   "outputs": [
    {
     "data": {
      "text/html": [
       "<div>\n",
       "<style scoped>\n",
       "    .dataframe tbody tr th:only-of-type {\n",
       "        vertical-align: middle;\n",
       "    }\n",
       "\n",
       "    .dataframe tbody tr th {\n",
       "        vertical-align: top;\n",
       "    }\n",
       "\n",
       "    .dataframe thead th {\n",
       "        text-align: right;\n",
       "    }\n",
       "</style>\n",
       "<table border=\"1\" class=\"dataframe\">\n",
       "  <thead>\n",
       "    <tr style=\"text-align: right;\">\n",
       "      <th></th>\n",
       "      <th>event_datetime</th>\n",
       "      <th>event</th>\n",
       "      <th>building_type</th>\n",
       "      <th>user_id</th>\n",
       "      <th>project_type</th>\n",
       "    </tr>\n",
       "  </thead>\n",
       "  <tbody>\n",
       "    <tr>\n",
       "      <td>74890</td>\n",
       "      <td>2020-05-10 18:41:56</td>\n",
       "      <td>building</td>\n",
       "      <td>research_center</td>\n",
       "      <td>c9af55d2-b0ae-4bb4-b3d5-f32aa9ac03af</td>\n",
       "      <td>NaN</td>\n",
       "    </tr>\n",
       "    <tr>\n",
       "      <td>74891</td>\n",
       "      <td>2020-05-10 18:41:56</td>\n",
       "      <td>building</td>\n",
       "      <td>research_center</td>\n",
       "      <td>c9af55d2-b0ae-4bb4-b3d5-f32aa9ac03af</td>\n",
       "      <td>NaN</td>\n",
       "    </tr>\n",
       "  </tbody>\n",
       "</table>\n",
       "</div>"
      ],
      "text/plain": [
       "            event_datetime     event    building_type  \\\n",
       "74890  2020-05-10 18:41:56  building  research_center   \n",
       "74891  2020-05-10 18:41:56  building  research_center   \n",
       "\n",
       "                                    user_id project_type  \n",
       "74890  c9af55d2-b0ae-4bb4-b3d5-f32aa9ac03af          NaN  \n",
       "74891  c9af55d2-b0ae-4bb4-b3d5-f32aa9ac03af          NaN  "
      ]
     },
     "execution_count": 119,
     "metadata": {},
     "output_type": "execute_result"
    }
   ],
   "source": [
    "events[events.duplicated(keep=False)]"
   ]
  },
  {
   "cell_type": "markdown",
   "metadata": {},
   "source": [
    "##### Имеем только один дубликат, поэтому мжем смело его удалить"
   ]
  },
  {
   "cell_type": "code",
   "execution_count": 120,
   "metadata": {},
   "outputs": [],
   "source": [
    "events = events.drop_duplicates().reset_index(drop= True)"
   ]
  },
  {
   "cell_type": "markdown",
   "metadata": {},
   "source": [
    "##### Проспуски есть, но мы их оставим, тк они связнаы с отсутствием действия у игрока. В датасетах ad_costs и user_source их нет."
   ]
  },
  {
   "cell_type": "markdown",
   "metadata": {},
   "source": [
    "<a id=\"3\"></a>\n",
    "## 3. EDA"
   ]
  },
  {
   "cell_type": "code",
   "execution_count": 121,
   "metadata": {},
   "outputs": [],
   "source": [
    "#переведем даты в формат и извлечем дату\n",
    "events['event_datetime']  = pd.to_datetime(events['event_datetime'])\n",
    "events['date'] = events['event_datetime'].astype('datetime64[D]')"
   ]
  },
  {
   "cell_type": "code",
   "execution_count": 122,
   "metadata": {},
   "outputs": [
    {
     "data": {
      "text/html": [
       "<div>\n",
       "<style scoped>\n",
       "    .dataframe tbody tr th:only-of-type {\n",
       "        vertical-align: middle;\n",
       "    }\n",
       "\n",
       "    .dataframe tbody tr th {\n",
       "        vertical-align: top;\n",
       "    }\n",
       "\n",
       "    .dataframe thead th {\n",
       "        text-align: right;\n",
       "    }\n",
       "</style>\n",
       "<table border=\"1\" class=\"dataframe\">\n",
       "  <thead>\n",
       "    <tr style=\"text-align: right;\">\n",
       "      <th></th>\n",
       "      <th>event_datetime</th>\n",
       "      <th>event</th>\n",
       "      <th>building_type</th>\n",
       "      <th>user_id</th>\n",
       "      <th>project_type</th>\n",
       "      <th>date</th>\n",
       "    </tr>\n",
       "  </thead>\n",
       "  <tbody>\n",
       "    <tr>\n",
       "      <td>131280</td>\n",
       "      <td>2020-05-21 04:27:17</td>\n",
       "      <td>project</td>\n",
       "      <td>NaN</td>\n",
       "      <td>6a8544be-d81f-4aa1-a3f9-48710afe7c4c</td>\n",
       "      <td>satellite_orbital_assembly</td>\n",
       "      <td>2020-05-21</td>\n",
       "    </tr>\n",
       "    <tr>\n",
       "      <td>95483</td>\n",
       "      <td>2020-05-13 03:03:29</td>\n",
       "      <td>project</td>\n",
       "      <td>NaN</td>\n",
       "      <td>adabe063-6688-4ed6-8703-e1ff451a68d9</td>\n",
       "      <td>satellite_orbital_assembly</td>\n",
       "      <td>2020-05-13</td>\n",
       "    </tr>\n",
       "    <tr>\n",
       "      <td>117538</td>\n",
       "      <td>2020-05-16 11:39:33</td>\n",
       "      <td>project</td>\n",
       "      <td>NaN</td>\n",
       "      <td>98c6226a-74c4-4e20-aab2-aa739b7ae7a6</td>\n",
       "      <td>satellite_orbital_assembly</td>\n",
       "      <td>2020-05-16</td>\n",
       "    </tr>\n",
       "    <tr>\n",
       "      <td>79891</td>\n",
       "      <td>2020-05-11 04:20:12</td>\n",
       "      <td>project</td>\n",
       "      <td>NaN</td>\n",
       "      <td>80ae43c8-d555-48ad-a63e-d5f13ecd23c0</td>\n",
       "      <td>satellite_orbital_assembly</td>\n",
       "      <td>2020-05-11</td>\n",
       "    </tr>\n",
       "    <tr>\n",
       "      <td>130843</td>\n",
       "      <td>2020-05-20 22:08:45</td>\n",
       "      <td>project</td>\n",
       "      <td>NaN</td>\n",
       "      <td>c40f2307-bd63-4bf2-941d-bad76b94bb92</td>\n",
       "      <td>satellite_orbital_assembly</td>\n",
       "      <td>2020-05-20</td>\n",
       "    </tr>\n",
       "  </tbody>\n",
       "</table>\n",
       "</div>"
      ],
      "text/plain": [
       "            event_datetime    event building_type  \\\n",
       "131280 2020-05-21 04:27:17  project           NaN   \n",
       "95483  2020-05-13 03:03:29  project           NaN   \n",
       "117538 2020-05-16 11:39:33  project           NaN   \n",
       "79891  2020-05-11 04:20:12  project           NaN   \n",
       "130843 2020-05-20 22:08:45  project           NaN   \n",
       "\n",
       "                                     user_id                project_type  \\\n",
       "131280  6a8544be-d81f-4aa1-a3f9-48710afe7c4c  satellite_orbital_assembly   \n",
       "95483   adabe063-6688-4ed6-8703-e1ff451a68d9  satellite_orbital_assembly   \n",
       "117538  98c6226a-74c4-4e20-aab2-aa739b7ae7a6  satellite_orbital_assembly   \n",
       "79891   80ae43c8-d555-48ad-a63e-d5f13ecd23c0  satellite_orbital_assembly   \n",
       "130843  c40f2307-bd63-4bf2-941d-bad76b94bb92  satellite_orbital_assembly   \n",
       "\n",
       "             date  \n",
       "131280 2020-05-21  \n",
       "95483  2020-05-13  \n",
       "117538 2020-05-16  \n",
       "79891  2020-05-11  \n",
       "130843 2020-05-20  "
      ]
     },
     "execution_count": 122,
     "metadata": {},
     "output_type": "execute_result"
    }
   ],
   "source": [
    "# рассмотрим датасет c типом проекта\n",
    "pt = events[~events['project_type'].isna()]\n",
    "pt.sample(5)"
   ]
  },
  {
   "cell_type": "markdown",
   "metadata": {},
   "source": [
    "##### При указании типа обпроекта и событии проект тип здания не указывается"
   ]
  },
  {
   "cell_type": "code",
   "execution_count": 123,
   "metadata": {},
   "outputs": [
    {
     "data": {
      "text/plain": [
       "array([nan], dtype=object)"
      ]
     },
     "execution_count": 123,
     "metadata": {},
     "output_type": "execute_result"
    }
   ],
   "source": [
    "pt.building_type.unique()"
   ]
  },
  {
   "cell_type": "code",
   "execution_count": 124,
   "metadata": {},
   "outputs": [
    {
     "data": {
      "text/plain": [
       "building            127956\n",
       "finished_stage_1      5817\n",
       "project               1866\n",
       "Name: event, dtype: int64"
      ]
     },
     "execution_count": 124,
     "metadata": {},
     "output_type": "execute_result"
    }
   ],
   "source": [
    "# взглянем на варианты событий и их количество\n",
    "events.event.value_counts()"
   ]
  },
  {
   "cell_type": "code",
   "execution_count": 125,
   "metadata": {},
   "outputs": [
    {
     "data": {
      "text/plain": [
       "Timestamp('2020-05-04 00:00:01')"
      ]
     },
     "execution_count": 125,
     "metadata": {},
     "output_type": "execute_result"
    }
   ],
   "source": [
    "#начало рассматриваемого преиода\n",
    "events['event_datetime'].min()"
   ]
  },
  {
   "cell_type": "code",
   "execution_count": 126,
   "metadata": {},
   "outputs": [
    {
     "data": {
      "text/plain": [
       "Timestamp('2020-06-05 12:32:49')"
      ]
     },
     "execution_count": 126,
     "metadata": {},
     "output_type": "execute_result"
    }
   ],
   "source": [
    "# окончание рассматриваемого периода\n",
    "events['event_datetime'].max()"
   ]
  },
  {
   "cell_type": "code",
   "execution_count": 127,
   "metadata": {},
   "outputs": [
    {
     "data": {
      "text/html": [
       "<div>\n",
       "<style scoped>\n",
       "    .dataframe tbody tr th:only-of-type {\n",
       "        vertical-align: middle;\n",
       "    }\n",
       "\n",
       "    .dataframe tbody tr th {\n",
       "        vertical-align: top;\n",
       "    }\n",
       "\n",
       "    .dataframe thead th {\n",
       "        text-align: right;\n",
       "    }\n",
       "</style>\n",
       "<table border=\"1\" class=\"dataframe\">\n",
       "  <thead>\n",
       "    <tr style=\"text-align: right;\">\n",
       "      <th></th>\n",
       "      <th>event</th>\n",
       "      <th>building_type</th>\n",
       "    </tr>\n",
       "    <tr>\n",
       "      <th>user_id</th>\n",
       "      <th></th>\n",
       "      <th></th>\n",
       "    </tr>\n",
       "  </thead>\n",
       "  <tbody>\n",
       "    <tr>\n",
       "      <td>0001f83c-c6ac-4621-b7f0-8a28b283ac30</td>\n",
       "      <td>13</td>\n",
       "      <td>13</td>\n",
       "    </tr>\n",
       "    <tr>\n",
       "      <td>00151b4f-ba38-44a8-a650-d7cf130a0105</td>\n",
       "      <td>9</td>\n",
       "      <td>9</td>\n",
       "    </tr>\n",
       "    <tr>\n",
       "      <td>001aaea6-3d14-43f1-8ca8-7f48820f17aa</td>\n",
       "      <td>4</td>\n",
       "      <td>4</td>\n",
       "    </tr>\n",
       "    <tr>\n",
       "      <td>001d39dc-366c-4021-9604-6a3b9ff01e25</td>\n",
       "      <td>9</td>\n",
       "      <td>8</td>\n",
       "    </tr>\n",
       "    <tr>\n",
       "      <td>002f508f-67b6-479f-814b-b05f00d4e995</td>\n",
       "      <td>12</td>\n",
       "      <td>12</td>\n",
       "    </tr>\n",
       "    <tr>\n",
       "      <td>...</td>\n",
       "      <td>...</td>\n",
       "      <td>...</td>\n",
       "    </tr>\n",
       "    <tr>\n",
       "      <td>ffef4fed-164c-40e1-bde1-3980f76d0fb5</td>\n",
       "      <td>10</td>\n",
       "      <td>9</td>\n",
       "    </tr>\n",
       "    <tr>\n",
       "      <td>fffab3da-da0e-4e30-ae62-10d0a2e24a4e</td>\n",
       "      <td>16</td>\n",
       "      <td>16</td>\n",
       "    </tr>\n",
       "    <tr>\n",
       "      <td>fffb626c-5ab6-47c9-8113-2062a2f18494</td>\n",
       "      <td>10</td>\n",
       "      <td>9</td>\n",
       "    </tr>\n",
       "    <tr>\n",
       "      <td>ffff194a-56b7-4c12-860d-3485242ae7f5</td>\n",
       "      <td>7</td>\n",
       "      <td>7</td>\n",
       "    </tr>\n",
       "    <tr>\n",
       "      <td>ffff69cc-fec1-4fd3-9f98-93be1112a6b8</td>\n",
       "      <td>14</td>\n",
       "      <td>12</td>\n",
       "    </tr>\n",
       "  </tbody>\n",
       "</table>\n",
       "<p>13576 rows × 2 columns</p>\n",
       "</div>"
      ],
      "text/plain": [
       "                                      event  building_type\n",
       "user_id                                                   \n",
       "0001f83c-c6ac-4621-b7f0-8a28b283ac30     13             13\n",
       "00151b4f-ba38-44a8-a650-d7cf130a0105      9              9\n",
       "001aaea6-3d14-43f1-8ca8-7f48820f17aa      4              4\n",
       "001d39dc-366c-4021-9604-6a3b9ff01e25      9              8\n",
       "002f508f-67b6-479f-814b-b05f00d4e995     12             12\n",
       "...                                     ...            ...\n",
       "ffef4fed-164c-40e1-bde1-3980f76d0fb5     10              9\n",
       "fffab3da-da0e-4e30-ae62-10d0a2e24a4e     16             16\n",
       "fffb626c-5ab6-47c9-8113-2062a2f18494     10              9\n",
       "ffff194a-56b7-4c12-860d-3485242ae7f5      7              7\n",
       "ffff69cc-fec1-4fd3-9f98-93be1112a6b8     14             12\n",
       "\n",
       "[13576 rows x 2 columns]"
      ]
     },
     "execution_count": 127,
     "metadata": {},
     "output_type": "execute_result"
    }
   ],
   "source": [
    "# посмотрим количество событий по игрокам\n",
    "events.groupby(['user_id']).agg({'event':'count','building_type':'count' })"
   ]
  },
  {
   "cell_type": "markdown",
   "metadata": {},
   "source": [
    "##### Взглянем выборочно на хронологии событий случайных игроков"
   ]
  },
  {
   "cell_type": "code",
   "execution_count": 128,
   "metadata": {},
   "outputs": [
    {
     "data": {
      "text/html": [
       "<div>\n",
       "<style scoped>\n",
       "    .dataframe tbody tr th:only-of-type {\n",
       "        vertical-align: middle;\n",
       "    }\n",
       "\n",
       "    .dataframe tbody tr th {\n",
       "        vertical-align: top;\n",
       "    }\n",
       "\n",
       "    .dataframe thead th {\n",
       "        text-align: right;\n",
       "    }\n",
       "</style>\n",
       "<table border=\"1\" class=\"dataframe\">\n",
       "  <thead>\n",
       "    <tr style=\"text-align: right;\">\n",
       "      <th></th>\n",
       "      <th>event_datetime</th>\n",
       "      <th>event</th>\n",
       "      <th>building_type</th>\n",
       "      <th>user_id</th>\n",
       "      <th>project_type</th>\n",
       "      <th>date</th>\n",
       "    </tr>\n",
       "  </thead>\n",
       "  <tbody>\n",
       "    <tr>\n",
       "      <td>2196</td>\n",
       "      <td>2020-05-04 06:50:30</td>\n",
       "      <td>building</td>\n",
       "      <td>assembly_shop</td>\n",
       "      <td>e3c66498-9d45-4000-9392-f81e6796e7da</td>\n",
       "      <td>NaN</td>\n",
       "      <td>2020-05-04</td>\n",
       "    </tr>\n",
       "    <tr>\n",
       "      <td>3936</td>\n",
       "      <td>2020-05-04 11:58:16</td>\n",
       "      <td>building</td>\n",
       "      <td>spaceport</td>\n",
       "      <td>e3c66498-9d45-4000-9392-f81e6796e7da</td>\n",
       "      <td>NaN</td>\n",
       "      <td>2020-05-04</td>\n",
       "    </tr>\n",
       "    <tr>\n",
       "      <td>20206</td>\n",
       "      <td>2020-05-06 07:22:08</td>\n",
       "      <td>building</td>\n",
       "      <td>assembly_shop</td>\n",
       "      <td>e3c66498-9d45-4000-9392-f81e6796e7da</td>\n",
       "      <td>NaN</td>\n",
       "      <td>2020-05-06</td>\n",
       "    </tr>\n",
       "    <tr>\n",
       "      <td>20261</td>\n",
       "      <td>2020-05-06 07:31:59</td>\n",
       "      <td>building</td>\n",
       "      <td>assembly_shop</td>\n",
       "      <td>e3c66498-9d45-4000-9392-f81e6796e7da</td>\n",
       "      <td>NaN</td>\n",
       "      <td>2020-05-06</td>\n",
       "    </tr>\n",
       "    <tr>\n",
       "      <td>27376</td>\n",
       "      <td>2020-05-07 00:34:18</td>\n",
       "      <td>building</td>\n",
       "      <td>spaceport</td>\n",
       "      <td>e3c66498-9d45-4000-9392-f81e6796e7da</td>\n",
       "      <td>NaN</td>\n",
       "      <td>2020-05-07</td>\n",
       "    </tr>\n",
       "    <tr>\n",
       "      <td>31983</td>\n",
       "      <td>2020-05-07 10:52:16</td>\n",
       "      <td>building</td>\n",
       "      <td>assembly_shop</td>\n",
       "      <td>e3c66498-9d45-4000-9392-f81e6796e7da</td>\n",
       "      <td>NaN</td>\n",
       "      <td>2020-05-07</td>\n",
       "    </tr>\n",
       "    <tr>\n",
       "      <td>32956</td>\n",
       "      <td>2020-05-07 12:58:20</td>\n",
       "      <td>building</td>\n",
       "      <td>assembly_shop</td>\n",
       "      <td>e3c66498-9d45-4000-9392-f81e6796e7da</td>\n",
       "      <td>NaN</td>\n",
       "      <td>2020-05-07</td>\n",
       "    </tr>\n",
       "    <tr>\n",
       "      <td>33910</td>\n",
       "      <td>2020-05-07 14:58:20</td>\n",
       "      <td>building</td>\n",
       "      <td>assembly_shop</td>\n",
       "      <td>e3c66498-9d45-4000-9392-f81e6796e7da</td>\n",
       "      <td>NaN</td>\n",
       "      <td>2020-05-07</td>\n",
       "    </tr>\n",
       "    <tr>\n",
       "      <td>35308</td>\n",
       "      <td>2020-05-07 18:12:58</td>\n",
       "      <td>building</td>\n",
       "      <td>research_center</td>\n",
       "      <td>e3c66498-9d45-4000-9392-f81e6796e7da</td>\n",
       "      <td>NaN</td>\n",
       "      <td>2020-05-07</td>\n",
       "    </tr>\n",
       "    <tr>\n",
       "      <td>40433</td>\n",
       "      <td>2020-05-08 05:00:46</td>\n",
       "      <td>building</td>\n",
       "      <td>spaceport</td>\n",
       "      <td>e3c66498-9d45-4000-9392-f81e6796e7da</td>\n",
       "      <td>NaN</td>\n",
       "      <td>2020-05-08</td>\n",
       "    </tr>\n",
       "    <tr>\n",
       "      <td>46241</td>\n",
       "      <td>2020-05-08 16:28:19</td>\n",
       "      <td>building</td>\n",
       "      <td>research_center</td>\n",
       "      <td>e3c66498-9d45-4000-9392-f81e6796e7da</td>\n",
       "      <td>NaN</td>\n",
       "      <td>2020-05-08</td>\n",
       "    </tr>\n",
       "    <tr>\n",
       "      <td>47121</td>\n",
       "      <td>2020-05-08 18:10:25</td>\n",
       "      <td>project</td>\n",
       "      <td>NaN</td>\n",
       "      <td>e3c66498-9d45-4000-9392-f81e6796e7da</td>\n",
       "      <td>satellite_orbital_assembly</td>\n",
       "      <td>2020-05-08</td>\n",
       "    </tr>\n",
       "    <tr>\n",
       "      <td>61383</td>\n",
       "      <td>2020-05-09 20:51:21</td>\n",
       "      <td>building</td>\n",
       "      <td>research_center</td>\n",
       "      <td>e3c66498-9d45-4000-9392-f81e6796e7da</td>\n",
       "      <td>NaN</td>\n",
       "      <td>2020-05-09</td>\n",
       "    </tr>\n",
       "    <tr>\n",
       "      <td>69604</td>\n",
       "      <td>2020-05-10 10:30:22</td>\n",
       "      <td>finished_stage_1</td>\n",
       "      <td>NaN</td>\n",
       "      <td>e3c66498-9d45-4000-9392-f81e6796e7da</td>\n",
       "      <td>NaN</td>\n",
       "      <td>2020-05-10</td>\n",
       "    </tr>\n",
       "  </tbody>\n",
       "</table>\n",
       "</div>"
      ],
      "text/plain": [
       "           event_datetime             event    building_type  \\\n",
       "2196  2020-05-04 06:50:30          building    assembly_shop   \n",
       "3936  2020-05-04 11:58:16          building        spaceport   \n",
       "20206 2020-05-06 07:22:08          building    assembly_shop   \n",
       "20261 2020-05-06 07:31:59          building    assembly_shop   \n",
       "27376 2020-05-07 00:34:18          building        spaceport   \n",
       "31983 2020-05-07 10:52:16          building    assembly_shop   \n",
       "32956 2020-05-07 12:58:20          building    assembly_shop   \n",
       "33910 2020-05-07 14:58:20          building    assembly_shop   \n",
       "35308 2020-05-07 18:12:58          building  research_center   \n",
       "40433 2020-05-08 05:00:46          building        spaceport   \n",
       "46241 2020-05-08 16:28:19          building  research_center   \n",
       "47121 2020-05-08 18:10:25           project              NaN   \n",
       "61383 2020-05-09 20:51:21          building  research_center   \n",
       "69604 2020-05-10 10:30:22  finished_stage_1              NaN   \n",
       "\n",
       "                                    user_id                project_type  \\\n",
       "2196   e3c66498-9d45-4000-9392-f81e6796e7da                         NaN   \n",
       "3936   e3c66498-9d45-4000-9392-f81e6796e7da                         NaN   \n",
       "20206  e3c66498-9d45-4000-9392-f81e6796e7da                         NaN   \n",
       "20261  e3c66498-9d45-4000-9392-f81e6796e7da                         NaN   \n",
       "27376  e3c66498-9d45-4000-9392-f81e6796e7da                         NaN   \n",
       "31983  e3c66498-9d45-4000-9392-f81e6796e7da                         NaN   \n",
       "32956  e3c66498-9d45-4000-9392-f81e6796e7da                         NaN   \n",
       "33910  e3c66498-9d45-4000-9392-f81e6796e7da                         NaN   \n",
       "35308  e3c66498-9d45-4000-9392-f81e6796e7da                         NaN   \n",
       "40433  e3c66498-9d45-4000-9392-f81e6796e7da                         NaN   \n",
       "46241  e3c66498-9d45-4000-9392-f81e6796e7da                         NaN   \n",
       "47121  e3c66498-9d45-4000-9392-f81e6796e7da  satellite_orbital_assembly   \n",
       "61383  e3c66498-9d45-4000-9392-f81e6796e7da                         NaN   \n",
       "69604  e3c66498-9d45-4000-9392-f81e6796e7da                         NaN   \n",
       "\n",
       "            date  \n",
       "2196  2020-05-04  \n",
       "3936  2020-05-04  \n",
       "20206 2020-05-06  \n",
       "20261 2020-05-06  \n",
       "27376 2020-05-07  \n",
       "31983 2020-05-07  \n",
       "32956 2020-05-07  \n",
       "33910 2020-05-07  \n",
       "35308 2020-05-07  \n",
       "40433 2020-05-08  \n",
       "46241 2020-05-08  \n",
       "47121 2020-05-08  \n",
       "61383 2020-05-09  \n",
       "69604 2020-05-10  "
      ]
     },
     "execution_count": 128,
     "metadata": {},
     "output_type": "execute_result"
    }
   ],
   "source": [
    "# обхор хронологии одного игрока\n",
    "events[events['user_id']=='e3c66498-9d45-4000-9392-f81e6796e7da']"
   ]
  },
  {
   "cell_type": "code",
   "execution_count": 129,
   "metadata": {},
   "outputs": [
    {
     "data": {
      "text/html": [
       "<div>\n",
       "<style scoped>\n",
       "    .dataframe tbody tr th:only-of-type {\n",
       "        vertical-align: middle;\n",
       "    }\n",
       "\n",
       "    .dataframe tbody tr th {\n",
       "        vertical-align: top;\n",
       "    }\n",
       "\n",
       "    .dataframe thead th {\n",
       "        text-align: right;\n",
       "    }\n",
       "</style>\n",
       "<table border=\"1\" class=\"dataframe\">\n",
       "  <thead>\n",
       "    <tr style=\"text-align: right;\">\n",
       "      <th></th>\n",
       "      <th>event_datetime</th>\n",
       "      <th>event</th>\n",
       "      <th>building_type</th>\n",
       "      <th>user_id</th>\n",
       "      <th>project_type</th>\n",
       "      <th>date</th>\n",
       "    </tr>\n",
       "  </thead>\n",
       "  <tbody>\n",
       "    <tr>\n",
       "      <td>28129</td>\n",
       "      <td>2020-05-07 02:18:19</td>\n",
       "      <td>building</td>\n",
       "      <td>assembly_shop</td>\n",
       "      <td>d477dde8-7c22-4f23-9c4f-4ec31a1aa4c8</td>\n",
       "      <td>NaN</td>\n",
       "      <td>2020-05-07</td>\n",
       "    </tr>\n",
       "    <tr>\n",
       "      <td>56010</td>\n",
       "      <td>2020-05-09 11:16:42</td>\n",
       "      <td>building</td>\n",
       "      <td>spaceport</td>\n",
       "      <td>d477dde8-7c22-4f23-9c4f-4ec31a1aa4c8</td>\n",
       "      <td>NaN</td>\n",
       "      <td>2020-05-09</td>\n",
       "    </tr>\n",
       "    <tr>\n",
       "      <td>97183</td>\n",
       "      <td>2020-05-13 08:22:45</td>\n",
       "      <td>building</td>\n",
       "      <td>spaceport</td>\n",
       "      <td>d477dde8-7c22-4f23-9c4f-4ec31a1aa4c8</td>\n",
       "      <td>NaN</td>\n",
       "      <td>2020-05-13</td>\n",
       "    </tr>\n",
       "    <tr>\n",
       "      <td>105767</td>\n",
       "      <td>2020-05-14 12:29:33</td>\n",
       "      <td>building</td>\n",
       "      <td>spaceport</td>\n",
       "      <td>d477dde8-7c22-4f23-9c4f-4ec31a1aa4c8</td>\n",
       "      <td>NaN</td>\n",
       "      <td>2020-05-14</td>\n",
       "    </tr>\n",
       "    <tr>\n",
       "      <td>130673</td>\n",
       "      <td>2020-05-20 19:35:45</td>\n",
       "      <td>building</td>\n",
       "      <td>spaceport</td>\n",
       "      <td>d477dde8-7c22-4f23-9c4f-4ec31a1aa4c8</td>\n",
       "      <td>NaN</td>\n",
       "      <td>2020-05-20</td>\n",
       "    </tr>\n",
       "    <tr>\n",
       "      <td>135136</td>\n",
       "      <td>2020-05-27 01:08:21</td>\n",
       "      <td>building</td>\n",
       "      <td>spaceport</td>\n",
       "      <td>d477dde8-7c22-4f23-9c4f-4ec31a1aa4c8</td>\n",
       "      <td>NaN</td>\n",
       "      <td>2020-05-27</td>\n",
       "    </tr>\n",
       "    <tr>\n",
       "      <td>135211</td>\n",
       "      <td>2020-05-27 10:41:37</td>\n",
       "      <td>building</td>\n",
       "      <td>spaceport</td>\n",
       "      <td>d477dde8-7c22-4f23-9c4f-4ec31a1aa4c8</td>\n",
       "      <td>NaN</td>\n",
       "      <td>2020-05-27</td>\n",
       "    </tr>\n",
       "    <tr>\n",
       "      <td>135226</td>\n",
       "      <td>2020-05-27 13:18:46</td>\n",
       "      <td>building</td>\n",
       "      <td>spaceport</td>\n",
       "      <td>d477dde8-7c22-4f23-9c4f-4ec31a1aa4c8</td>\n",
       "      <td>NaN</td>\n",
       "      <td>2020-05-27</td>\n",
       "    </tr>\n",
       "    <tr>\n",
       "      <td>135402</td>\n",
       "      <td>2020-05-28 18:44:10</td>\n",
       "      <td>building</td>\n",
       "      <td>research_center</td>\n",
       "      <td>d477dde8-7c22-4f23-9c4f-4ec31a1aa4c8</td>\n",
       "      <td>NaN</td>\n",
       "      <td>2020-05-28</td>\n",
       "    </tr>\n",
       "    <tr>\n",
       "      <td>135422</td>\n",
       "      <td>2020-05-28 23:38:33</td>\n",
       "      <td>building</td>\n",
       "      <td>research_center</td>\n",
       "      <td>d477dde8-7c22-4f23-9c4f-4ec31a1aa4c8</td>\n",
       "      <td>NaN</td>\n",
       "      <td>2020-05-28</td>\n",
       "    </tr>\n",
       "    <tr>\n",
       "      <td>135606</td>\n",
       "      <td>2020-06-02 09:44:08</td>\n",
       "      <td>building</td>\n",
       "      <td>spaceport</td>\n",
       "      <td>d477dde8-7c22-4f23-9c4f-4ec31a1aa4c8</td>\n",
       "      <td>NaN</td>\n",
       "      <td>2020-06-02</td>\n",
       "    </tr>\n",
       "    <tr>\n",
       "      <td>135613</td>\n",
       "      <td>2020-06-03 01:19:49</td>\n",
       "      <td>building</td>\n",
       "      <td>spaceport</td>\n",
       "      <td>d477dde8-7c22-4f23-9c4f-4ec31a1aa4c8</td>\n",
       "      <td>NaN</td>\n",
       "      <td>2020-06-03</td>\n",
       "    </tr>\n",
       "    <tr>\n",
       "      <td>135626</td>\n",
       "      <td>2020-06-04 05:18:54</td>\n",
       "      <td>building</td>\n",
       "      <td>research_center</td>\n",
       "      <td>d477dde8-7c22-4f23-9c4f-4ec31a1aa4c8</td>\n",
       "      <td>NaN</td>\n",
       "      <td>2020-06-04</td>\n",
       "    </tr>\n",
       "    <tr>\n",
       "      <td>135629</td>\n",
       "      <td>2020-06-04 08:29:42</td>\n",
       "      <td>project</td>\n",
       "      <td>NaN</td>\n",
       "      <td>d477dde8-7c22-4f23-9c4f-4ec31a1aa4c8</td>\n",
       "      <td>satellite_orbital_assembly</td>\n",
       "      <td>2020-06-04</td>\n",
       "    </tr>\n",
       "    <tr>\n",
       "      <td>135632</td>\n",
       "      <td>2020-06-04 17:56:14</td>\n",
       "      <td>finished_stage_1</td>\n",
       "      <td>NaN</td>\n",
       "      <td>d477dde8-7c22-4f23-9c4f-4ec31a1aa4c8</td>\n",
       "      <td>NaN</td>\n",
       "      <td>2020-06-04</td>\n",
       "    </tr>\n",
       "  </tbody>\n",
       "</table>\n",
       "</div>"
      ],
      "text/plain": [
       "            event_datetime             event    building_type  \\\n",
       "28129  2020-05-07 02:18:19          building    assembly_shop   \n",
       "56010  2020-05-09 11:16:42          building        spaceport   \n",
       "97183  2020-05-13 08:22:45          building        spaceport   \n",
       "105767 2020-05-14 12:29:33          building        spaceport   \n",
       "130673 2020-05-20 19:35:45          building        spaceport   \n",
       "135136 2020-05-27 01:08:21          building        spaceport   \n",
       "135211 2020-05-27 10:41:37          building        spaceport   \n",
       "135226 2020-05-27 13:18:46          building        spaceport   \n",
       "135402 2020-05-28 18:44:10          building  research_center   \n",
       "135422 2020-05-28 23:38:33          building  research_center   \n",
       "135606 2020-06-02 09:44:08          building        spaceport   \n",
       "135613 2020-06-03 01:19:49          building        spaceport   \n",
       "135626 2020-06-04 05:18:54          building  research_center   \n",
       "135629 2020-06-04 08:29:42           project              NaN   \n",
       "135632 2020-06-04 17:56:14  finished_stage_1              NaN   \n",
       "\n",
       "                                     user_id                project_type  \\\n",
       "28129   d477dde8-7c22-4f23-9c4f-4ec31a1aa4c8                         NaN   \n",
       "56010   d477dde8-7c22-4f23-9c4f-4ec31a1aa4c8                         NaN   \n",
       "97183   d477dde8-7c22-4f23-9c4f-4ec31a1aa4c8                         NaN   \n",
       "105767  d477dde8-7c22-4f23-9c4f-4ec31a1aa4c8                         NaN   \n",
       "130673  d477dde8-7c22-4f23-9c4f-4ec31a1aa4c8                         NaN   \n",
       "135136  d477dde8-7c22-4f23-9c4f-4ec31a1aa4c8                         NaN   \n",
       "135211  d477dde8-7c22-4f23-9c4f-4ec31a1aa4c8                         NaN   \n",
       "135226  d477dde8-7c22-4f23-9c4f-4ec31a1aa4c8                         NaN   \n",
       "135402  d477dde8-7c22-4f23-9c4f-4ec31a1aa4c8                         NaN   \n",
       "135422  d477dde8-7c22-4f23-9c4f-4ec31a1aa4c8                         NaN   \n",
       "135606  d477dde8-7c22-4f23-9c4f-4ec31a1aa4c8                         NaN   \n",
       "135613  d477dde8-7c22-4f23-9c4f-4ec31a1aa4c8                         NaN   \n",
       "135626  d477dde8-7c22-4f23-9c4f-4ec31a1aa4c8                         NaN   \n",
       "135629  d477dde8-7c22-4f23-9c4f-4ec31a1aa4c8  satellite_orbital_assembly   \n",
       "135632  d477dde8-7c22-4f23-9c4f-4ec31a1aa4c8                         NaN   \n",
       "\n",
       "             date  \n",
       "28129  2020-05-07  \n",
       "56010  2020-05-09  \n",
       "97183  2020-05-13  \n",
       "105767 2020-05-14  \n",
       "130673 2020-05-20  \n",
       "135136 2020-05-27  \n",
       "135211 2020-05-27  \n",
       "135226 2020-05-27  \n",
       "135402 2020-05-28  \n",
       "135422 2020-05-28  \n",
       "135606 2020-06-02  \n",
       "135613 2020-06-03  \n",
       "135626 2020-06-04  \n",
       "135629 2020-06-04  \n",
       "135632 2020-06-04  "
      ]
     },
     "execution_count": 129,
     "metadata": {},
     "output_type": "execute_result"
    }
   ],
   "source": [
    "events[events['user_id']=='d477dde8-7c22-4f23-9c4f-4ec31a1aa4c8']"
   ]
  },
  {
   "cell_type": "code",
   "execution_count": 130,
   "metadata": {},
   "outputs": [
    {
     "data": {
      "text/html": [
       "<div>\n",
       "<style scoped>\n",
       "    .dataframe tbody tr th:only-of-type {\n",
       "        vertical-align: middle;\n",
       "    }\n",
       "\n",
       "    .dataframe tbody tr th {\n",
       "        vertical-align: top;\n",
       "    }\n",
       "\n",
       "    .dataframe thead th {\n",
       "        text-align: right;\n",
       "    }\n",
       "</style>\n",
       "<table border=\"1\" class=\"dataframe\">\n",
       "  <thead>\n",
       "    <tr style=\"text-align: right;\">\n",
       "      <th></th>\n",
       "      <th>event_datetime</th>\n",
       "      <th>event</th>\n",
       "      <th>building_type</th>\n",
       "      <th>user_id</th>\n",
       "      <th>project_type</th>\n",
       "      <th>date</th>\n",
       "    </tr>\n",
       "  </thead>\n",
       "  <tbody>\n",
       "    <tr>\n",
       "      <td>35514</td>\n",
       "      <td>2020-05-07 18:38:47</td>\n",
       "      <td>building</td>\n",
       "      <td>assembly_shop</td>\n",
       "      <td>9d98001c-7e14-40d7-896e-46b3047365fd</td>\n",
       "      <td>NaN</td>\n",
       "      <td>2020-05-07</td>\n",
       "    </tr>\n",
       "    <tr>\n",
       "      <td>63396</td>\n",
       "      <td>2020-05-10 00:19:16</td>\n",
       "      <td>building</td>\n",
       "      <td>assembly_shop</td>\n",
       "      <td>9d98001c-7e14-40d7-896e-46b3047365fd</td>\n",
       "      <td>NaN</td>\n",
       "      <td>2020-05-10</td>\n",
       "    </tr>\n",
       "    <tr>\n",
       "      <td>99075</td>\n",
       "      <td>2020-05-13 14:18:40</td>\n",
       "      <td>building</td>\n",
       "      <td>spaceport</td>\n",
       "      <td>9d98001c-7e14-40d7-896e-46b3047365fd</td>\n",
       "      <td>NaN</td>\n",
       "      <td>2020-05-13</td>\n",
       "    </tr>\n",
       "    <tr>\n",
       "      <td>100527</td>\n",
       "      <td>2020-05-13 18:57:22</td>\n",
       "      <td>building</td>\n",
       "      <td>spaceport</td>\n",
       "      <td>9d98001c-7e14-40d7-896e-46b3047365fd</td>\n",
       "      <td>NaN</td>\n",
       "      <td>2020-05-13</td>\n",
       "    </tr>\n",
       "    <tr>\n",
       "      <td>110641</td>\n",
       "      <td>2020-05-15 06:29:57</td>\n",
       "      <td>building</td>\n",
       "      <td>spaceport</td>\n",
       "      <td>9d98001c-7e14-40d7-896e-46b3047365fd</td>\n",
       "      <td>NaN</td>\n",
       "      <td>2020-05-15</td>\n",
       "    </tr>\n",
       "    <tr>\n",
       "      <td>113874</td>\n",
       "      <td>2020-05-15 19:29:18</td>\n",
       "      <td>building</td>\n",
       "      <td>spaceport</td>\n",
       "      <td>9d98001c-7e14-40d7-896e-46b3047365fd</td>\n",
       "      <td>NaN</td>\n",
       "      <td>2020-05-15</td>\n",
       "    </tr>\n",
       "    <tr>\n",
       "      <td>128940</td>\n",
       "      <td>2020-05-19 21:37:21</td>\n",
       "      <td>building</td>\n",
       "      <td>spaceport</td>\n",
       "      <td>9d98001c-7e14-40d7-896e-46b3047365fd</td>\n",
       "      <td>NaN</td>\n",
       "      <td>2020-05-19</td>\n",
       "    </tr>\n",
       "    <tr>\n",
       "      <td>129544</td>\n",
       "      <td>2020-05-20 04:45:45</td>\n",
       "      <td>building</td>\n",
       "      <td>spaceport</td>\n",
       "      <td>9d98001c-7e14-40d7-896e-46b3047365fd</td>\n",
       "      <td>NaN</td>\n",
       "      <td>2020-05-20</td>\n",
       "    </tr>\n",
       "    <tr>\n",
       "      <td>132347</td>\n",
       "      <td>2020-05-22 00:08:38</td>\n",
       "      <td>building</td>\n",
       "      <td>research_center</td>\n",
       "      <td>9d98001c-7e14-40d7-896e-46b3047365fd</td>\n",
       "      <td>NaN</td>\n",
       "      <td>2020-05-22</td>\n",
       "    </tr>\n",
       "    <tr>\n",
       "      <td>133425</td>\n",
       "      <td>2020-05-23 04:28:14</td>\n",
       "      <td>building</td>\n",
       "      <td>spaceport</td>\n",
       "      <td>9d98001c-7e14-40d7-896e-46b3047365fd</td>\n",
       "      <td>NaN</td>\n",
       "      <td>2020-05-23</td>\n",
       "    </tr>\n",
       "    <tr>\n",
       "      <td>134627</td>\n",
       "      <td>2020-05-25 07:51:10</td>\n",
       "      <td>building</td>\n",
       "      <td>spaceport</td>\n",
       "      <td>9d98001c-7e14-40d7-896e-46b3047365fd</td>\n",
       "      <td>NaN</td>\n",
       "      <td>2020-05-25</td>\n",
       "    </tr>\n",
       "    <tr>\n",
       "      <td>135081</td>\n",
       "      <td>2020-05-26 18:47:48</td>\n",
       "      <td>building</td>\n",
       "      <td>spaceport</td>\n",
       "      <td>9d98001c-7e14-40d7-896e-46b3047365fd</td>\n",
       "      <td>NaN</td>\n",
       "      <td>2020-05-26</td>\n",
       "    </tr>\n",
       "    <tr>\n",
       "      <td>135548</td>\n",
       "      <td>2020-05-30 23:01:58</td>\n",
       "      <td>building</td>\n",
       "      <td>spaceport</td>\n",
       "      <td>9d98001c-7e14-40d7-896e-46b3047365fd</td>\n",
       "      <td>NaN</td>\n",
       "      <td>2020-05-30</td>\n",
       "    </tr>\n",
       "    <tr>\n",
       "      <td>135601</td>\n",
       "      <td>2020-06-02 03:04:42</td>\n",
       "      <td>project</td>\n",
       "      <td>NaN</td>\n",
       "      <td>9d98001c-7e14-40d7-896e-46b3047365fd</td>\n",
       "      <td>satellite_orbital_assembly</td>\n",
       "      <td>2020-06-02</td>\n",
       "    </tr>\n",
       "    <tr>\n",
       "      <td>135612</td>\n",
       "      <td>2020-06-02 23:31:08</td>\n",
       "      <td>finished_stage_1</td>\n",
       "      <td>NaN</td>\n",
       "      <td>9d98001c-7e14-40d7-896e-46b3047365fd</td>\n",
       "      <td>NaN</td>\n",
       "      <td>2020-06-02</td>\n",
       "    </tr>\n",
       "  </tbody>\n",
       "</table>\n",
       "</div>"
      ],
      "text/plain": [
       "            event_datetime             event    building_type  \\\n",
       "35514  2020-05-07 18:38:47          building    assembly_shop   \n",
       "63396  2020-05-10 00:19:16          building    assembly_shop   \n",
       "99075  2020-05-13 14:18:40          building        spaceport   \n",
       "100527 2020-05-13 18:57:22          building        spaceport   \n",
       "110641 2020-05-15 06:29:57          building        spaceport   \n",
       "113874 2020-05-15 19:29:18          building        spaceport   \n",
       "128940 2020-05-19 21:37:21          building        spaceport   \n",
       "129544 2020-05-20 04:45:45          building        spaceport   \n",
       "132347 2020-05-22 00:08:38          building  research_center   \n",
       "133425 2020-05-23 04:28:14          building        spaceport   \n",
       "134627 2020-05-25 07:51:10          building        spaceport   \n",
       "135081 2020-05-26 18:47:48          building        spaceport   \n",
       "135548 2020-05-30 23:01:58          building        spaceport   \n",
       "135601 2020-06-02 03:04:42           project              NaN   \n",
       "135612 2020-06-02 23:31:08  finished_stage_1              NaN   \n",
       "\n",
       "                                     user_id                project_type  \\\n",
       "35514   9d98001c-7e14-40d7-896e-46b3047365fd                         NaN   \n",
       "63396   9d98001c-7e14-40d7-896e-46b3047365fd                         NaN   \n",
       "99075   9d98001c-7e14-40d7-896e-46b3047365fd                         NaN   \n",
       "100527  9d98001c-7e14-40d7-896e-46b3047365fd                         NaN   \n",
       "110641  9d98001c-7e14-40d7-896e-46b3047365fd                         NaN   \n",
       "113874  9d98001c-7e14-40d7-896e-46b3047365fd                         NaN   \n",
       "128940  9d98001c-7e14-40d7-896e-46b3047365fd                         NaN   \n",
       "129544  9d98001c-7e14-40d7-896e-46b3047365fd                         NaN   \n",
       "132347  9d98001c-7e14-40d7-896e-46b3047365fd                         NaN   \n",
       "133425  9d98001c-7e14-40d7-896e-46b3047365fd                         NaN   \n",
       "134627  9d98001c-7e14-40d7-896e-46b3047365fd                         NaN   \n",
       "135081  9d98001c-7e14-40d7-896e-46b3047365fd                         NaN   \n",
       "135548  9d98001c-7e14-40d7-896e-46b3047365fd                         NaN   \n",
       "135601  9d98001c-7e14-40d7-896e-46b3047365fd  satellite_orbital_assembly   \n",
       "135612  9d98001c-7e14-40d7-896e-46b3047365fd                         NaN   \n",
       "\n",
       "             date  \n",
       "35514  2020-05-07  \n",
       "63396  2020-05-10  \n",
       "99075  2020-05-13  \n",
       "100527 2020-05-13  \n",
       "110641 2020-05-15  \n",
       "113874 2020-05-15  \n",
       "128940 2020-05-19  \n",
       "129544 2020-05-20  \n",
       "132347 2020-05-22  \n",
       "133425 2020-05-23  \n",
       "134627 2020-05-25  \n",
       "135081 2020-05-26  \n",
       "135548 2020-05-30  \n",
       "135601 2020-06-02  \n",
       "135612 2020-06-02  "
      ]
     },
     "execution_count": 130,
     "metadata": {},
     "output_type": "execute_result"
    }
   ],
   "source": [
    "events[events['user_id']=='9d98001c-7e14-40d7-896e-46b3047365fd']"
   ]
  },
  {
   "cell_type": "code",
   "execution_count": 131,
   "metadata": {
    "scrolled": true
   },
   "outputs": [
    {
     "data": {
      "text/html": [
       "<div>\n",
       "<style scoped>\n",
       "    .dataframe tbody tr th:only-of-type {\n",
       "        vertical-align: middle;\n",
       "    }\n",
       "\n",
       "    .dataframe tbody tr th {\n",
       "        vertical-align: top;\n",
       "    }\n",
       "\n",
       "    .dataframe thead th {\n",
       "        text-align: right;\n",
       "    }\n",
       "</style>\n",
       "<table border=\"1\" class=\"dataframe\">\n",
       "  <thead>\n",
       "    <tr style=\"text-align: right;\">\n",
       "      <th></th>\n",
       "      <th>event_datetime</th>\n",
       "      <th>event</th>\n",
       "      <th>building_type</th>\n",
       "      <th>user_id</th>\n",
       "      <th>project_type</th>\n",
       "      <th>date</th>\n",
       "    </tr>\n",
       "  </thead>\n",
       "  <tbody>\n",
       "    <tr>\n",
       "      <td>4</td>\n",
       "      <td>2020-05-04 00:00:35</td>\n",
       "      <td>building</td>\n",
       "      <td>assembly_shop</td>\n",
       "      <td>cdc6bb92-0ccb-4490-9866-ef142f09139d</td>\n",
       "      <td>NaN</td>\n",
       "      <td>2020-05-04</td>\n",
       "    </tr>\n",
       "    <tr>\n",
       "      <td>2994</td>\n",
       "      <td>2020-05-04 09:08:39</td>\n",
       "      <td>building</td>\n",
       "      <td>assembly_shop</td>\n",
       "      <td>cdc6bb92-0ccb-4490-9866-ef142f09139d</td>\n",
       "      <td>NaN</td>\n",
       "      <td>2020-05-04</td>\n",
       "    </tr>\n",
       "    <tr>\n",
       "      <td>12771</td>\n",
       "      <td>2020-05-05 12:28:36</td>\n",
       "      <td>building</td>\n",
       "      <td>spaceport</td>\n",
       "      <td>cdc6bb92-0ccb-4490-9866-ef142f09139d</td>\n",
       "      <td>NaN</td>\n",
       "      <td>2020-05-05</td>\n",
       "    </tr>\n",
       "    <tr>\n",
       "      <td>31185</td>\n",
       "      <td>2020-05-07 09:04:46</td>\n",
       "      <td>building</td>\n",
       "      <td>spaceport</td>\n",
       "      <td>cdc6bb92-0ccb-4490-9866-ef142f09139d</td>\n",
       "      <td>NaN</td>\n",
       "      <td>2020-05-07</td>\n",
       "    </tr>\n",
       "    <tr>\n",
       "      <td>65522</td>\n",
       "      <td>2020-05-10 03:56:03</td>\n",
       "      <td>building</td>\n",
       "      <td>assembly_shop</td>\n",
       "      <td>cdc6bb92-0ccb-4490-9866-ef142f09139d</td>\n",
       "      <td>NaN</td>\n",
       "      <td>2020-05-10</td>\n",
       "    </tr>\n",
       "    <tr>\n",
       "      <td>75185</td>\n",
       "      <td>2020-05-10 19:10:46</td>\n",
       "      <td>building</td>\n",
       "      <td>spaceport</td>\n",
       "      <td>cdc6bb92-0ccb-4490-9866-ef142f09139d</td>\n",
       "      <td>NaN</td>\n",
       "      <td>2020-05-10</td>\n",
       "    </tr>\n",
       "    <tr>\n",
       "      <td>83282</td>\n",
       "      <td>2020-05-11 14:18:05</td>\n",
       "      <td>finished_stage_1</td>\n",
       "      <td>NaN</td>\n",
       "      <td>cdc6bb92-0ccb-4490-9866-ef142f09139d</td>\n",
       "      <td>NaN</td>\n",
       "      <td>2020-05-11</td>\n",
       "    </tr>\n",
       "  </tbody>\n",
       "</table>\n",
       "</div>"
      ],
      "text/plain": [
       "           event_datetime             event  building_type  \\\n",
       "4     2020-05-04 00:00:35          building  assembly_shop   \n",
       "2994  2020-05-04 09:08:39          building  assembly_shop   \n",
       "12771 2020-05-05 12:28:36          building      spaceport   \n",
       "31185 2020-05-07 09:04:46          building      spaceport   \n",
       "65522 2020-05-10 03:56:03          building  assembly_shop   \n",
       "75185 2020-05-10 19:10:46          building      spaceport   \n",
       "83282 2020-05-11 14:18:05  finished_stage_1            NaN   \n",
       "\n",
       "                                    user_id project_type       date  \n",
       "4      cdc6bb92-0ccb-4490-9866-ef142f09139d          NaN 2020-05-04  \n",
       "2994   cdc6bb92-0ccb-4490-9866-ef142f09139d          NaN 2020-05-04  \n",
       "12771  cdc6bb92-0ccb-4490-9866-ef142f09139d          NaN 2020-05-05  \n",
       "31185  cdc6bb92-0ccb-4490-9866-ef142f09139d          NaN 2020-05-07  \n",
       "65522  cdc6bb92-0ccb-4490-9866-ef142f09139d          NaN 2020-05-10  \n",
       "75185  cdc6bb92-0ccb-4490-9866-ef142f09139d          NaN 2020-05-10  \n",
       "83282  cdc6bb92-0ccb-4490-9866-ef142f09139d          NaN 2020-05-11  "
      ]
     },
     "execution_count": 131,
     "metadata": {},
     "output_type": "execute_result"
    }
   ],
   "source": [
    "events[events['user_id']=='cdc6bb92-0ccb-4490-9866-ef142f09139d']"
   ]
  },
  {
   "cell_type": "markdown",
   "metadata": {},
   "source": [
    "##### Хронология событий ясна: идет постройка, при завершении событие project и затем finished_stage_1, или сразу finished_stage_1, при победе над другим игроком.  \n",
    "Могут встречатся аномалии когда после project идет достройка building и затем finished_stage_1"
   ]
  },
  {
   "cell_type": "markdown",
   "metadata": {},
   "source": [
    "### 2.1 Группировки по событиям, по дням, по типу объекта"
   ]
  },
  {
   "cell_type": "code",
   "execution_count": 132,
   "metadata": {},
   "outputs": [
    {
     "data": {
      "text/html": [
       "<div>\n",
       "<style scoped>\n",
       "    .dataframe tbody tr th:only-of-type {\n",
       "        vertical-align: middle;\n",
       "    }\n",
       "\n",
       "    .dataframe tbody tr th {\n",
       "        vertical-align: top;\n",
       "    }\n",
       "\n",
       "    .dataframe thead th {\n",
       "        text-align: right;\n",
       "    }\n",
       "</style>\n",
       "<table border=\"1\" class=\"dataframe\">\n",
       "  <thead>\n",
       "    <tr style=\"text-align: right;\">\n",
       "      <th></th>\n",
       "      <th>event_datetime</th>\n",
       "      <th>building_type</th>\n",
       "      <th>user_id</th>\n",
       "      <th>project_type</th>\n",
       "      <th>date</th>\n",
       "    </tr>\n",
       "    <tr>\n",
       "      <th>event</th>\n",
       "      <th></th>\n",
       "      <th></th>\n",
       "      <th></th>\n",
       "      <th></th>\n",
       "      <th></th>\n",
       "    </tr>\n",
       "  </thead>\n",
       "  <tbody>\n",
       "    <tr>\n",
       "      <td>building</td>\n",
       "      <td>127956</td>\n",
       "      <td>127956</td>\n",
       "      <td>127956</td>\n",
       "      <td>0</td>\n",
       "      <td>127956</td>\n",
       "    </tr>\n",
       "    <tr>\n",
       "      <td>finished_stage_1</td>\n",
       "      <td>5817</td>\n",
       "      <td>0</td>\n",
       "      <td>5817</td>\n",
       "      <td>0</td>\n",
       "      <td>5817</td>\n",
       "    </tr>\n",
       "    <tr>\n",
       "      <td>project</td>\n",
       "      <td>1866</td>\n",
       "      <td>0</td>\n",
       "      <td>1866</td>\n",
       "      <td>1866</td>\n",
       "      <td>1866</td>\n",
       "    </tr>\n",
       "  </tbody>\n",
       "</table>\n",
       "</div>"
      ],
      "text/plain": [
       "                  event_datetime  building_type  user_id  project_type    date\n",
       "event                                                                         \n",
       "building                  127956         127956   127956             0  127956\n",
       "finished_stage_1            5817              0     5817             0    5817\n",
       "project                     1866              0     1866          1866    1866"
      ]
     },
     "execution_count": 132,
     "metadata": {},
     "output_type": "execute_result"
    }
   ],
   "source": [
    "events.groupby('event').count()"
   ]
  },
  {
   "cell_type": "markdown",
   "metadata": {},
   "source": [
    "### 2.2 По событиям"
   ]
  },
  {
   "cell_type": "code",
   "execution_count": 133,
   "metadata": {},
   "outputs": [
    {
     "data": {
      "image/png": "[encoded data removed]",
      "text/plain": [
       "<Figure size 432x288 with 1 Axes>"
      ]
     },
     "metadata": {},
     "output_type": "display_data"
    }
   ],
   "source": [
    "events.groupby('event').count().reset_index().plot(x = 'event', y= 'user_id', kind = 'bar', grid = True)\n",
    "plt.show()"
   ]
  },
  {
   "cell_type": "markdown",
   "metadata": {},
   "source": [
    "##### Видим, что закончило уровень всего 5817, из них реализацией проекта 1866, а всего было 127956 событий постройки"
   ]
  },
  {
   "cell_type": "markdown",
   "metadata": {},
   "source": [
    "### По дням"
   ]
  },
  {
   "cell_type": "code",
   "execution_count": 134,
   "metadata": {
    "scrolled": false
   },
   "outputs": [
    {
     "data": {
      "text/html": [
       "<div>\n",
       "<style scoped>\n",
       "    .dataframe tbody tr th:only-of-type {\n",
       "        vertical-align: middle;\n",
       "    }\n",
       "\n",
       "    .dataframe tbody tr th {\n",
       "        vertical-align: top;\n",
       "    }\n",
       "\n",
       "    .dataframe thead th {\n",
       "        text-align: right;\n",
       "    }\n",
       "</style>\n",
       "<table border=\"1\" class=\"dataframe\">\n",
       "  <thead>\n",
       "    <tr style=\"text-align: right;\">\n",
       "      <th></th>\n",
       "      <th>date</th>\n",
       "      <th>event_datetime</th>\n",
       "      <th>event</th>\n",
       "      <th>building_type</th>\n",
       "      <th>user_id</th>\n",
       "      <th>project_type</th>\n",
       "    </tr>\n",
       "  </thead>\n",
       "  <tbody>\n",
       "    <tr>\n",
       "      <td>0</td>\n",
       "      <td>2020-05-04</td>\n",
       "      <td>8171</td>\n",
       "      <td>8171</td>\n",
       "      <td>8170</td>\n",
       "      <td>8171</td>\n",
       "      <td>0</td>\n",
       "    </tr>\n",
       "    <tr>\n",
       "      <td>1</td>\n",
       "      <td>2020-05-05</td>\n",
       "      <td>9055</td>\n",
       "      <td>9055</td>\n",
       "      <td>9052</td>\n",
       "      <td>9055</td>\n",
       "      <td>0</td>\n",
       "    </tr>\n",
       "    <tr>\n",
       "      <td>2</td>\n",
       "      <td>2020-05-06</td>\n",
       "      <td>9925</td>\n",
       "      <td>9925</td>\n",
       "      <td>9921</td>\n",
       "      <td>9925</td>\n",
       "      <td>0</td>\n",
       "    </tr>\n",
       "    <tr>\n",
       "      <td>3</td>\n",
       "      <td>2020-05-07</td>\n",
       "      <td>10858</td>\n",
       "      <td>10858</td>\n",
       "      <td>10847</td>\n",
       "      <td>10858</td>\n",
       "      <td>0</td>\n",
       "    </tr>\n",
       "    <tr>\n",
       "      <td>4</td>\n",
       "      <td>2020-05-08</td>\n",
       "      <td>12059</td>\n",
       "      <td>12059</td>\n",
       "      <td>12030</td>\n",
       "      <td>12059</td>\n",
       "      <td>1</td>\n",
       "    </tr>\n",
       "  </tbody>\n",
       "</table>\n",
       "</div>"
      ],
      "text/plain": [
       "        date  event_datetime  event  building_type  user_id  project_type\n",
       "0 2020-05-04            8171   8171           8170     8171             0\n",
       "1 2020-05-05            9055   9055           9052     9055             0\n",
       "2 2020-05-06            9925   9925           9921     9925             0\n",
       "3 2020-05-07           10858  10858          10847    10858             0\n",
       "4 2020-05-08           12059  12059          12030    12059             1"
      ]
     },
     "execution_count": 134,
     "metadata": {},
     "output_type": "execute_result"
    }
   ],
   "source": [
    "events.groupby('date').count().reset_index().head(5)#.plot(x = 'date', y= 'user_id',  grid = True, figsize = (16,9))\n",
    "#plt.show()"
   ]
  },
  {
   "cell_type": "code",
   "execution_count": 135,
   "metadata": {},
   "outputs": [
    {
     "data": {
      "image/png": "[encoded data removed]",
      "text/plain": [
       "<Figure size 1152x648 with 1 Axes>"
      ]
     },
     "metadata": {},
     "output_type": "display_data"
    }
   ],
   "source": [
    "sns.set(style=\"whitegrid\")\n",
    "plt.figure(figsize=(16,9))\n",
    "ax = sns.lineplot(x='date', y = 'user_id',  data=events.groupby('date').count().reset_index())\n",
    "ax.set_ylabel('Сумма')\n",
    "ax.set_xlabel('Дни')\n",
    "ax.set_title('Активность пользователей по дням')\n",
    "plt.xticks(rotation=45)\n",
    "plt.show()"
   ]
  },
  {
   "cell_type": "markdown",
   "metadata": {},
   "source": [
    "##### Видим, что пик посещений пришелся на 10.05 и далее пошел резкий спад"
   ]
  },
  {
   "cell_type": "code",
   "execution_count": 232,
   "metadata": {},
   "outputs": [],
   "source": [
    "df = events.groupby(['date','event']).agg({'user_id':'count'}).reset_index()\n",
    "df['date'] = df['date'].astype(str)"
   ]
  },
  {
   "cell_type": "code",
   "execution_count": 234,
   "metadata": {},
   "outputs": [
    {
     "data": {
      "text/html": [
       "<div>\n",
       "<style scoped>\n",
       "    .dataframe tbody tr th:only-of-type {\n",
       "        vertical-align: middle;\n",
       "    }\n",
       "\n",
       "    .dataframe tbody tr th {\n",
       "        vertical-align: top;\n",
       "    }\n",
       "\n",
       "    .dataframe thead th {\n",
       "        text-align: right;\n",
       "    }\n",
       "</style>\n",
       "<table border=\"1\" class=\"dataframe\">\n",
       "  <thead>\n",
       "    <tr style=\"text-align: right;\">\n",
       "      <th></th>\n",
       "      <th>date</th>\n",
       "      <th>building_type</th>\n",
       "      <th>user_id</th>\n",
       "    </tr>\n",
       "  </thead>\n",
       "  <tbody>\n",
       "    <tr>\n",
       "      <td>0</td>\n",
       "      <td>2020-05-04</td>\n",
       "      <td>assembly_shop</td>\n",
       "      <td>7767</td>\n",
       "    </tr>\n",
       "    <tr>\n",
       "      <td>1</td>\n",
       "      <td>2020-05-04</td>\n",
       "      <td>spaceport</td>\n",
       "      <td>403</td>\n",
       "    </tr>\n",
       "    <tr>\n",
       "      <td>2</td>\n",
       "      <td>2020-05-05</td>\n",
       "      <td>assembly_shop</td>\n",
       "      <td>7816</td>\n",
       "    </tr>\n",
       "    <tr>\n",
       "      <td>3</td>\n",
       "      <td>2020-05-05</td>\n",
       "      <td>spaceport</td>\n",
       "      <td>1236</td>\n",
       "    </tr>\n",
       "    <tr>\n",
       "      <td>4</td>\n",
       "      <td>2020-05-06</td>\n",
       "      <td>assembly_shop</td>\n",
       "      <td>7736</td>\n",
       "    </tr>\n",
       "    <tr>\n",
       "      <td>...</td>\n",
       "      <td>...</td>\n",
       "      <td>...</td>\n",
       "      <td>...</td>\n",
       "    </tr>\n",
       "    <tr>\n",
       "      <td>65</td>\n",
       "      <td>2020-06-03</td>\n",
       "      <td>research_center</td>\n",
       "      <td>3</td>\n",
       "    </tr>\n",
       "    <tr>\n",
       "      <td>66</td>\n",
       "      <td>2020-06-03</td>\n",
       "      <td>spaceport</td>\n",
       "      <td>4</td>\n",
       "    </tr>\n",
       "    <tr>\n",
       "      <td>67</td>\n",
       "      <td>2020-06-04</td>\n",
       "      <td>research_center</td>\n",
       "      <td>3</td>\n",
       "    </tr>\n",
       "    <tr>\n",
       "      <td>68</td>\n",
       "      <td>2020-06-04</td>\n",
       "      <td>spaceport</td>\n",
       "      <td>1</td>\n",
       "    </tr>\n",
       "    <tr>\n",
       "      <td>69</td>\n",
       "      <td>2020-06-05</td>\n",
       "      <td>research_center</td>\n",
       "      <td>2</td>\n",
       "    </tr>\n",
       "  </tbody>\n",
       "</table>\n",
       "<p>70 rows × 3 columns</p>\n",
       "</div>"
      ],
      "text/plain": [
       "          date    building_type  user_id\n",
       "0   2020-05-04    assembly_shop     7767\n",
       "1   2020-05-04        spaceport      403\n",
       "2   2020-05-05    assembly_shop     7816\n",
       "3   2020-05-05        spaceport     1236\n",
       "4   2020-05-06    assembly_shop     7736\n",
       "..         ...              ...      ...\n",
       "65  2020-06-03  research_center        3\n",
       "66  2020-06-03        spaceport        4\n",
       "67  2020-06-04  research_center        3\n",
       "68  2020-06-04        spaceport        1\n",
       "69  2020-06-05  research_center        2\n",
       "\n",
       "[70 rows x 3 columns]"
      ]
     },
     "execution_count": 234,
     "metadata": {},
     "output_type": "execute_result"
    }
   ],
   "source": [
    "df1 = events.groupby(['date','building_type']).agg({'user_id':'count'}).reset_index()\n",
    "df1['date'] = df1['date'].astype(str)\n",
    "df1"
   ]
  },
  {
   "cell_type": "code",
   "execution_count": 238,
   "metadata": {},
   "outputs": [
    {
     "data": {
      "image/png": "[encoded data removed]",
      "text/plain": [
       "<Figure size 1152x648 with 1 Axes>"
      ]
     },
     "metadata": {},
     "output_type": "display_data"
    }
   ],
   "source": [
    "# рассмотрим события по дням\n",
    "sns.set(style=\"whitegrid\")\n",
    "plt.figure(figsize=(16,9))\n",
    "ax = sns.barplot(x='date', y = 'user_id', hue = 'event',   data=df)\n",
    "sns.lineplot(x = 'date', y = 'user_id', hue = 'building_type', data = df1, ax = ax)\n",
    "ax.set_ylabel('События')\n",
    "ax.set_xlabel('Дни')\n",
    "ax.set_title('Событийная аналитика')\n",
    "plt.xticks(rotation=45)\n",
    "plt.show()"
   ]
  },
  {
   "cell_type": "markdown",
   "metadata": {},
   "source": [
    "#### Можно наблюдать совпадение количества событий с прекращением постройки assembly_shop, необходимо проверить корректность работы данного этапа"
   ]
  },
  {
   "cell_type": "markdown",
   "metadata": {},
   "source": [
    "### По типу объекта"
   ]
  },
  {
   "cell_type": "code",
   "execution_count": 136,
   "metadata": {
    "scrolled": true
   },
   "outputs": [
    {
     "data": {
      "text/html": [
       "<div>\n",
       "<style scoped>\n",
       "    .dataframe tbody tr th:only-of-type {\n",
       "        vertical-align: middle;\n",
       "    }\n",
       "\n",
       "    .dataframe tbody tr th {\n",
       "        vertical-align: top;\n",
       "    }\n",
       "\n",
       "    .dataframe thead th {\n",
       "        text-align: right;\n",
       "    }\n",
       "</style>\n",
       "<table border=\"1\" class=\"dataframe\">\n",
       "  <thead>\n",
       "    <tr style=\"text-align: right;\">\n",
       "      <th></th>\n",
       "      <th>event_datetime</th>\n",
       "      <th>event</th>\n",
       "      <th>user_id</th>\n",
       "      <th>project_type</th>\n",
       "      <th>date</th>\n",
       "    </tr>\n",
       "    <tr>\n",
       "      <th>building_type</th>\n",
       "      <th></th>\n",
       "      <th></th>\n",
       "      <th></th>\n",
       "      <th></th>\n",
       "      <th></th>\n",
       "    </tr>\n",
       "  </thead>\n",
       "  <tbody>\n",
       "    <tr>\n",
       "      <td>assembly_shop</td>\n",
       "      <td>54494</td>\n",
       "      <td>54494</td>\n",
       "      <td>54494</td>\n",
       "      <td>0</td>\n",
       "      <td>54494</td>\n",
       "    </tr>\n",
       "    <tr>\n",
       "      <td>research_center</td>\n",
       "      <td>14137</td>\n",
       "      <td>14137</td>\n",
       "      <td>14137</td>\n",
       "      <td>0</td>\n",
       "      <td>14137</td>\n",
       "    </tr>\n",
       "    <tr>\n",
       "      <td>spaceport</td>\n",
       "      <td>59325</td>\n",
       "      <td>59325</td>\n",
       "      <td>59325</td>\n",
       "      <td>0</td>\n",
       "      <td>59325</td>\n",
       "    </tr>\n",
       "  </tbody>\n",
       "</table>\n",
       "</div>"
      ],
      "text/plain": [
       "                 event_datetime  event  user_id  project_type   date\n",
       "building_type                                                       \n",
       "assembly_shop             54494  54494    54494             0  54494\n",
       "research_center           14137  14137    14137             0  14137\n",
       "spaceport                 59325  59325    59325             0  59325"
      ]
     },
     "execution_count": 136,
     "metadata": {},
     "output_type": "execute_result"
    }
   ],
   "source": [
    "events.groupby('building_type').count()"
   ]
  },
  {
   "cell_type": "code",
   "execution_count": 137,
   "metadata": {},
   "outputs": [
    {
     "data": {
      "image/png": "[encoded data removed]",
      "text/plain": [
       "<Figure size 1152x648 with 1 Axes>"
      ]
     },
     "metadata": {},
     "output_type": "display_data"
    }
   ],
   "source": [
    "events.groupby('building_type').count().sort_values('user_id', ascending = False).reset_index().plot(x = 'building_type', y= 'user_id', kind = 'bar',  grid = True, figsize = (16,9))\n",
    "plt.show()"
   ]
  },
  {
   "cell_type": "code",
   "execution_count": null,
   "metadata": {},
   "outputs": [],
   "source": []
  },
  {
   "cell_type": "markdown",
   "metadata": {},
   "source": [
    "##### Чаще всего строили spaceport, затем  assembly_shop и потом research_center\t."
   ]
  },
  {
   "cell_type": "code",
   "execution_count": null,
   "metadata": {},
   "outputs": [],
   "source": [
    "st = s.melt(id_vars='source')"
   ]
  },
  {
   "cell_type": "markdown",
   "metadata": {},
   "source": [
    "### Распределение по пользователям"
   ]
  },
  {
   "cell_type": "code",
   "execution_count": 138,
   "metadata": {},
   "outputs": [
    {
     "data": {
      "text/html": [
       "<div>\n",
       "<style scoped>\n",
       "    .dataframe tbody tr th:only-of-type {\n",
       "        vertical-align: middle;\n",
       "    }\n",
       "\n",
       "    .dataframe tbody tr th {\n",
       "        vertical-align: top;\n",
       "    }\n",
       "\n",
       "    .dataframe thead th {\n",
       "        text-align: right;\n",
       "    }\n",
       "</style>\n",
       "<table border=\"1\" class=\"dataframe\">\n",
       "  <thead>\n",
       "    <tr style=\"text-align: right;\">\n",
       "      <th></th>\n",
       "      <th>event_datetime</th>\n",
       "      <th>event</th>\n",
       "      <th>building_type</th>\n",
       "      <th>project_type</th>\n",
       "      <th>date</th>\n",
       "    </tr>\n",
       "    <tr>\n",
       "      <th>user_id</th>\n",
       "      <th></th>\n",
       "      <th></th>\n",
       "      <th></th>\n",
       "      <th></th>\n",
       "      <th></th>\n",
       "    </tr>\n",
       "  </thead>\n",
       "  <tbody>\n",
       "    <tr>\n",
       "      <td>d6aca06a-cd75-4cd8-b8cd-240a3c163884</td>\n",
       "      <td>22</td>\n",
       "      <td>22</td>\n",
       "      <td>20</td>\n",
       "      <td>1</td>\n",
       "      <td>22</td>\n",
       "    </tr>\n",
       "    <tr>\n",
       "      <td>ff841992-d93b-462e-bc6e-18c24a514f36</td>\n",
       "      <td>22</td>\n",
       "      <td>22</td>\n",
       "      <td>20</td>\n",
       "      <td>1</td>\n",
       "      <td>22</td>\n",
       "    </tr>\n",
       "    <tr>\n",
       "      <td>bf542075-e3a2-4e79-82d8-3838e86d2a25</td>\n",
       "      <td>22</td>\n",
       "      <td>22</td>\n",
       "      <td>20</td>\n",
       "      <td>1</td>\n",
       "      <td>22</td>\n",
       "    </tr>\n",
       "    <tr>\n",
       "      <td>45935e5d-8f50-4176-83d3-fd545bb2015f</td>\n",
       "      <td>21</td>\n",
       "      <td>21</td>\n",
       "      <td>19</td>\n",
       "      <td>1</td>\n",
       "      <td>21</td>\n",
       "    </tr>\n",
       "    <tr>\n",
       "      <td>94844e06-0352-4048-9e62-1db7718f804c</td>\n",
       "      <td>21</td>\n",
       "      <td>21</td>\n",
       "      <td>19</td>\n",
       "      <td>1</td>\n",
       "      <td>21</td>\n",
       "    </tr>\n",
       "    <tr>\n",
       "      <td>...</td>\n",
       "      <td>...</td>\n",
       "      <td>...</td>\n",
       "      <td>...</td>\n",
       "      <td>...</td>\n",
       "      <td>...</td>\n",
       "    </tr>\n",
       "    <tr>\n",
       "      <td>fcefbdaa-5f8b-49a6-91f3-8c09e0a94a5d</td>\n",
       "      <td>1</td>\n",
       "      <td>1</td>\n",
       "      <td>1</td>\n",
       "      <td>0</td>\n",
       "      <td>1</td>\n",
       "    </tr>\n",
       "    <tr>\n",
       "      <td>b9d266a0-7741-49ba-9125-134c5969f8d1</td>\n",
       "      <td>1</td>\n",
       "      <td>1</td>\n",
       "      <td>1</td>\n",
       "      <td>0</td>\n",
       "      <td>1</td>\n",
       "    </tr>\n",
       "    <tr>\n",
       "      <td>ded24248-15c7-4037-9092-f64fcaa651e7</td>\n",
       "      <td>1</td>\n",
       "      <td>1</td>\n",
       "      <td>1</td>\n",
       "      <td>0</td>\n",
       "      <td>1</td>\n",
       "    </tr>\n",
       "    <tr>\n",
       "      <td>b783fde3-5416-43fb-99b0-2c6e5f787d6f</td>\n",
       "      <td>1</td>\n",
       "      <td>1</td>\n",
       "      <td>1</td>\n",
       "      <td>0</td>\n",
       "      <td>1</td>\n",
       "    </tr>\n",
       "    <tr>\n",
       "      <td>70362b15-8a0b-4fb7-8a67-4454fd7098d7</td>\n",
       "      <td>1</td>\n",
       "      <td>1</td>\n",
       "      <td>1</td>\n",
       "      <td>0</td>\n",
       "      <td>1</td>\n",
       "    </tr>\n",
       "  </tbody>\n",
       "</table>\n",
       "<p>13576 rows × 5 columns</p>\n",
       "</div>"
      ],
      "text/plain": [
       "                                      event_datetime  event  building_type  \\\n",
       "user_id                                                                      \n",
       "d6aca06a-cd75-4cd8-b8cd-240a3c163884              22     22             20   \n",
       "ff841992-d93b-462e-bc6e-18c24a514f36              22     22             20   \n",
       "bf542075-e3a2-4e79-82d8-3838e86d2a25              22     22             20   \n",
       "45935e5d-8f50-4176-83d3-fd545bb2015f              21     21             19   \n",
       "94844e06-0352-4048-9e62-1db7718f804c              21     21             19   \n",
       "...                                              ...    ...            ...   \n",
       "fcefbdaa-5f8b-49a6-91f3-8c09e0a94a5d               1      1              1   \n",
       "b9d266a0-7741-49ba-9125-134c5969f8d1               1      1              1   \n",
       "ded24248-15c7-4037-9092-f64fcaa651e7               1      1              1   \n",
       "b783fde3-5416-43fb-99b0-2c6e5f787d6f               1      1              1   \n",
       "70362b15-8a0b-4fb7-8a67-4454fd7098d7               1      1              1   \n",
       "\n",
       "                                      project_type  date  \n",
       "user_id                                                   \n",
       "d6aca06a-cd75-4cd8-b8cd-240a3c163884             1    22  \n",
       "ff841992-d93b-462e-bc6e-18c24a514f36             1    22  \n",
       "bf542075-e3a2-4e79-82d8-3838e86d2a25             1    22  \n",
       "45935e5d-8f50-4176-83d3-fd545bb2015f             1    21  \n",
       "94844e06-0352-4048-9e62-1db7718f804c             1    21  \n",
       "...                                            ...   ...  \n",
       "fcefbdaa-5f8b-49a6-91f3-8c09e0a94a5d             0     1  \n",
       "b9d266a0-7741-49ba-9125-134c5969f8d1             0     1  \n",
       "ded24248-15c7-4037-9092-f64fcaa651e7             0     1  \n",
       "b783fde3-5416-43fb-99b0-2c6e5f787d6f             0     1  \n",
       "70362b15-8a0b-4fb7-8a67-4454fd7098d7             0     1  \n",
       "\n",
       "[13576 rows x 5 columns]"
      ]
     },
     "execution_count": 138,
     "metadata": {},
     "output_type": "execute_result"
    }
   ],
   "source": [
    "user_grouped = events.groupby('user_id').count().sort_values('date', ascending = False)\n",
    "user_grouped"
   ]
  },
  {
   "cell_type": "code",
   "execution_count": 139,
   "metadata": {},
   "outputs": [
    {
     "data": {
      "text/html": [
       "<div>\n",
       "<style scoped>\n",
       "    .dataframe tbody tr th:only-of-type {\n",
       "        vertical-align: middle;\n",
       "    }\n",
       "\n",
       "    .dataframe tbody tr th {\n",
       "        vertical-align: top;\n",
       "    }\n",
       "\n",
       "    .dataframe thead th {\n",
       "        text-align: right;\n",
       "    }\n",
       "</style>\n",
       "<table border=\"1\" class=\"dataframe\">\n",
       "  <thead>\n",
       "    <tr style=\"text-align: right;\">\n",
       "      <th></th>\n",
       "      <th>event_datetime</th>\n",
       "      <th>event</th>\n",
       "      <th>building_type</th>\n",
       "      <th>project_type</th>\n",
       "      <th>date</th>\n",
       "    </tr>\n",
       "  </thead>\n",
       "  <tbody>\n",
       "    <tr>\n",
       "      <td>count</td>\n",
       "      <td>13576.000000</td>\n",
       "      <td>13576.000000</td>\n",
       "      <td>13576.000000</td>\n",
       "      <td>13576.000000</td>\n",
       "      <td>13576.000000</td>\n",
       "    </tr>\n",
       "    <tr>\n",
       "      <td>mean</td>\n",
       "      <td>9.991087</td>\n",
       "      <td>9.991087</td>\n",
       "      <td>9.425162</td>\n",
       "      <td>0.137448</td>\n",
       "      <td>9.991087</td>\n",
       "    </tr>\n",
       "    <tr>\n",
       "      <td>std</td>\n",
       "      <td>4.146133</td>\n",
       "      <td>4.146133</td>\n",
       "      <td>3.860800</td>\n",
       "      <td>0.344333</td>\n",
       "      <td>4.146133</td>\n",
       "    </tr>\n",
       "    <tr>\n",
       "      <td>min</td>\n",
       "      <td>1.000000</td>\n",
       "      <td>1.000000</td>\n",
       "      <td>1.000000</td>\n",
       "      <td>0.000000</td>\n",
       "      <td>1.000000</td>\n",
       "    </tr>\n",
       "    <tr>\n",
       "      <td>25%</td>\n",
       "      <td>6.000000</td>\n",
       "      <td>6.000000</td>\n",
       "      <td>6.000000</td>\n",
       "      <td>0.000000</td>\n",
       "      <td>6.000000</td>\n",
       "    </tr>\n",
       "    <tr>\n",
       "      <td>50%</td>\n",
       "      <td>10.000000</td>\n",
       "      <td>10.000000</td>\n",
       "      <td>10.000000</td>\n",
       "      <td>0.000000</td>\n",
       "      <td>10.000000</td>\n",
       "    </tr>\n",
       "    <tr>\n",
       "      <td>75%</td>\n",
       "      <td>13.000000</td>\n",
       "      <td>13.000000</td>\n",
       "      <td>12.000000</td>\n",
       "      <td>0.000000</td>\n",
       "      <td>13.000000</td>\n",
       "    </tr>\n",
       "    <tr>\n",
       "      <td>max</td>\n",
       "      <td>22.000000</td>\n",
       "      <td>22.000000</td>\n",
       "      <td>20.000000</td>\n",
       "      <td>1.000000</td>\n",
       "      <td>22.000000</td>\n",
       "    </tr>\n",
       "  </tbody>\n",
       "</table>\n",
       "</div>"
      ],
      "text/plain": [
       "       event_datetime         event  building_type  project_type          date\n",
       "count    13576.000000  13576.000000   13576.000000  13576.000000  13576.000000\n",
       "mean         9.991087      9.991087       9.425162      0.137448      9.991087\n",
       "std          4.146133      4.146133       3.860800      0.344333      4.146133\n",
       "min          1.000000      1.000000       1.000000      0.000000      1.000000\n",
       "25%          6.000000      6.000000       6.000000      0.000000      6.000000\n",
       "50%         10.000000     10.000000      10.000000      0.000000     10.000000\n",
       "75%         13.000000     13.000000      12.000000      0.000000     13.000000\n",
       "max         22.000000     22.000000      20.000000      1.000000     22.000000"
      ]
     },
     "execution_count": 139,
     "metadata": {},
     "output_type": "execute_result"
    }
   ],
   "source": [
    "user_grouped.describe()"
   ]
  },
  {
   "cell_type": "code",
   "execution_count": 140,
   "metadata": {},
   "outputs": [
    {
     "data": {
      "image/png": "[encoded data removed]",
      "text/plain": [
       "<Figure size 1152x648 with 1 Axes>"
      ]
     },
     "metadata": {},
     "output_type": "display_data"
    }
   ],
   "source": [
    "user_grouped.boxplot( column='date', figsize = (16,9))\n",
    "plt.show()"
   ]
  },
  {
   "cell_type": "markdown",
   "metadata": {},
   "source": [
    "### Все игроки играли от 1 до 22 сессий за исследуемый период? Медиана в р-не 10 раз"
   ]
  },
  {
   "cell_type": "code",
   "execution_count": 141,
   "metadata": {},
   "outputs": [
    {
     "data": {
      "text/html": [
       "<div>\n",
       "<style scoped>\n",
       "    .dataframe tbody tr th:only-of-type {\n",
       "        vertical-align: middle;\n",
       "    }\n",
       "\n",
       "    .dataframe tbody tr th {\n",
       "        vertical-align: top;\n",
       "    }\n",
       "\n",
       "    .dataframe thead th {\n",
       "        text-align: right;\n",
       "    }\n",
       "</style>\n",
       "<table border=\"1\" class=\"dataframe\">\n",
       "  <thead>\n",
       "    <tr style=\"text-align: right;\">\n",
       "      <th></th>\n",
       "      <th>user_id</th>\n",
       "      <th>time_min</th>\n",
       "      <th>time_max</th>\n",
       "      <th>gametime</th>\n",
       "    </tr>\n",
       "  </thead>\n",
       "  <tbody>\n",
       "    <tr>\n",
       "      <td>0</td>\n",
       "      <td>0001f83c-c6ac-4621-b7f0-8a28b283ac30</td>\n",
       "      <td>2020-05-06 01:07:37</td>\n",
       "      <td>2020-05-20 11:26:06</td>\n",
       "      <td>15</td>\n",
       "    </tr>\n",
       "    <tr>\n",
       "      <td>1</td>\n",
       "      <td>00151b4f-ba38-44a8-a650-d7cf130a0105</td>\n",
       "      <td>2020-05-06 03:09:12</td>\n",
       "      <td>2020-05-18 10:46:52</td>\n",
       "      <td>13</td>\n",
       "    </tr>\n",
       "    <tr>\n",
       "      <td>2</td>\n",
       "      <td>001aaea6-3d14-43f1-8ca8-7f48820f17aa</td>\n",
       "      <td>2020-05-05 18:08:52</td>\n",
       "      <td>2020-05-14 09:21:27</td>\n",
       "      <td>9</td>\n",
       "    </tr>\n",
       "    <tr>\n",
       "      <td>3</td>\n",
       "      <td>001d39dc-366c-4021-9604-6a3b9ff01e25</td>\n",
       "      <td>2020-05-05 21:02:05</td>\n",
       "      <td>2020-05-12 07:40:47</td>\n",
       "      <td>7</td>\n",
       "    </tr>\n",
       "    <tr>\n",
       "      <td>4</td>\n",
       "      <td>002f508f-67b6-479f-814b-b05f00d4e995</td>\n",
       "      <td>2020-05-05 13:49:58</td>\n",
       "      <td>2020-05-22 02:46:45</td>\n",
       "      <td>17</td>\n",
       "    </tr>\n",
       "    <tr>\n",
       "      <td>...</td>\n",
       "      <td>...</td>\n",
       "      <td>...</td>\n",
       "      <td>...</td>\n",
       "      <td>...</td>\n",
       "    </tr>\n",
       "    <tr>\n",
       "      <td>13571</td>\n",
       "      <td>ffef4fed-164c-40e1-bde1-3980f76d0fb5</td>\n",
       "      <td>2020-05-04 01:58:59</td>\n",
       "      <td>2020-05-11 22:15:54</td>\n",
       "      <td>8</td>\n",
       "    </tr>\n",
       "    <tr>\n",
       "      <td>13572</td>\n",
       "      <td>fffab3da-da0e-4e30-ae62-10d0a2e24a4e</td>\n",
       "      <td>2020-05-04 11:58:14</td>\n",
       "      <td>2020-05-14 10:11:36</td>\n",
       "      <td>10</td>\n",
       "    </tr>\n",
       "    <tr>\n",
       "      <td>13573</td>\n",
       "      <td>fffb626c-5ab6-47c9-8113-2062a2f18494</td>\n",
       "      <td>2020-05-04 02:05:09</td>\n",
       "      <td>2020-05-12 13:01:52</td>\n",
       "      <td>9</td>\n",
       "    </tr>\n",
       "    <tr>\n",
       "      <td>13574</td>\n",
       "      <td>ffff194a-56b7-4c12-860d-3485242ae7f5</td>\n",
       "      <td>2020-05-04 20:28:28</td>\n",
       "      <td>2020-05-11 22:04:30</td>\n",
       "      <td>8</td>\n",
       "    </tr>\n",
       "    <tr>\n",
       "      <td>13575</td>\n",
       "      <td>ffff69cc-fec1-4fd3-9f98-93be1112a6b8</td>\n",
       "      <td>2020-05-08 06:57:30</td>\n",
       "      <td>2020-05-25 14:05:51</td>\n",
       "      <td>18</td>\n",
       "    </tr>\n",
       "  </tbody>\n",
       "</table>\n",
       "<p>13576 rows × 4 columns</p>\n",
       "</div>"
      ],
      "text/plain": [
       "                                    user_id            time_min  \\\n",
       "0      0001f83c-c6ac-4621-b7f0-8a28b283ac30 2020-05-06 01:07:37   \n",
       "1      00151b4f-ba38-44a8-a650-d7cf130a0105 2020-05-06 03:09:12   \n",
       "2      001aaea6-3d14-43f1-8ca8-7f48820f17aa 2020-05-05 18:08:52   \n",
       "3      001d39dc-366c-4021-9604-6a3b9ff01e25 2020-05-05 21:02:05   \n",
       "4      002f508f-67b6-479f-814b-b05f00d4e995 2020-05-05 13:49:58   \n",
       "...                                     ...                 ...   \n",
       "13571  ffef4fed-164c-40e1-bde1-3980f76d0fb5 2020-05-04 01:58:59   \n",
       "13572  fffab3da-da0e-4e30-ae62-10d0a2e24a4e 2020-05-04 11:58:14   \n",
       "13573  fffb626c-5ab6-47c9-8113-2062a2f18494 2020-05-04 02:05:09   \n",
       "13574  ffff194a-56b7-4c12-860d-3485242ae7f5 2020-05-04 20:28:28   \n",
       "13575  ffff69cc-fec1-4fd3-9f98-93be1112a6b8 2020-05-08 06:57:30   \n",
       "\n",
       "                 time_max  gametime  \n",
       "0     2020-05-20 11:26:06        15  \n",
       "1     2020-05-18 10:46:52        13  \n",
       "2     2020-05-14 09:21:27         9  \n",
       "3     2020-05-12 07:40:47         7  \n",
       "4     2020-05-22 02:46:45        17  \n",
       "...                   ...       ...  \n",
       "13571 2020-05-11 22:15:54         8  \n",
       "13572 2020-05-14 10:11:36        10  \n",
       "13573 2020-05-12 13:01:52         9  \n",
       "13574 2020-05-11 22:04:30         8  \n",
       "13575 2020-05-25 14:05:51        18  \n",
       "\n",
       "[13576 rows x 4 columns]"
      ]
     },
     "execution_count": 141,
     "metadata": {},
     "output_type": "execute_result"
    }
   ],
   "source": [
    "#считаем первую и последнюю сессию пользователя\n",
    "user_time_all = events.groupby('user_id').agg({'event_datetime': ['min','max']}).reset_index()\n",
    "user_time_all.columns = ['user_id','time_min','time_max']\n",
    "user_time_all['gametime'] = user_time_all['time_max'] - user_time_all['time_min']\n",
    "user_time_all['gametime'] = user_time_all['gametime'] / np.timedelta64(1,'D')\n",
    "user_time_all['gametime'] = np.ceil(user_time_all['gametime']).astype('int')\n",
    "user_time_all"
   ]
  },
  {
   "cell_type": "code",
   "execution_count": 142,
   "metadata": {
    "scrolled": true
   },
   "outputs": [
    {
     "data": {
      "image/png": "[encoded data removed]",
      "text/plain": [
       "<Figure size 1080x360 with 2 Axes>"
      ]
     },
     "metadata": {},
     "output_type": "display_data"
    }
   ],
   "source": [
    "# посмотрим на распределения и разброс продолжительности прохождения уровня всех игроков\n",
    "fig, axes = plt.subplots(1,2, figsize=(15,5))\n",
    "user_time_all['gametime'].plot(ax=axes[0], kind = 'hist', grid = True, bins = 30,  title= 'Распределеине ' )\n",
    "plt.title('Разброс')\n",
    "user_time_all.boxplot('gametime', ax=axes[1], vert=False, rot = 90)\n",
    "plt.show()"
   ]
  },
  {
   "cell_type": "markdown",
   "metadata": {},
   "source": [
    "##### Чаще всего играли 11 дней"
   ]
  },
  {
   "cell_type": "markdown",
   "metadata": {},
   "source": [
    "##### Сейчас рассмотрим количество показов всех экранов по игрокам"
   ]
  },
  {
   "cell_type": "code",
   "execution_count": 143,
   "metadata": {},
   "outputs": [
    {
     "data": {
      "text/html": [
       "<div>\n",
       "<style scoped>\n",
       "    .dataframe tbody tr th:only-of-type {\n",
       "        vertical-align: middle;\n",
       "    }\n",
       "\n",
       "    .dataframe tbody tr th {\n",
       "        vertical-align: top;\n",
       "    }\n",
       "\n",
       "    .dataframe thead th {\n",
       "        text-align: right;\n",
       "    }\n",
       "</style>\n",
       "<table border=\"1\" class=\"dataframe\">\n",
       "  <thead>\n",
       "    <tr style=\"text-align: right;\">\n",
       "      <th></th>\n",
       "      <th>user_id</th>\n",
       "      <th>event_count</th>\n",
       "    </tr>\n",
       "  </thead>\n",
       "  <tbody>\n",
       "    <tr>\n",
       "      <td>0</td>\n",
       "      <td>0001f83c-c6ac-4621-b7f0-8a28b283ac30</td>\n",
       "      <td>13</td>\n",
       "    </tr>\n",
       "    <tr>\n",
       "      <td>1</td>\n",
       "      <td>00151b4f-ba38-44a8-a650-d7cf130a0105</td>\n",
       "      <td>9</td>\n",
       "    </tr>\n",
       "    <tr>\n",
       "      <td>2</td>\n",
       "      <td>001aaea6-3d14-43f1-8ca8-7f48820f17aa</td>\n",
       "      <td>4</td>\n",
       "    </tr>\n",
       "    <tr>\n",
       "      <td>3</td>\n",
       "      <td>001d39dc-366c-4021-9604-6a3b9ff01e25</td>\n",
       "      <td>9</td>\n",
       "    </tr>\n",
       "    <tr>\n",
       "      <td>4</td>\n",
       "      <td>002f508f-67b6-479f-814b-b05f00d4e995</td>\n",
       "      <td>12</td>\n",
       "    </tr>\n",
       "    <tr>\n",
       "      <td>...</td>\n",
       "      <td>...</td>\n",
       "      <td>...</td>\n",
       "    </tr>\n",
       "    <tr>\n",
       "      <td>13571</td>\n",
       "      <td>ffef4fed-164c-40e1-bde1-3980f76d0fb5</td>\n",
       "      <td>10</td>\n",
       "    </tr>\n",
       "    <tr>\n",
       "      <td>13572</td>\n",
       "      <td>fffab3da-da0e-4e30-ae62-10d0a2e24a4e</td>\n",
       "      <td>16</td>\n",
       "    </tr>\n",
       "    <tr>\n",
       "      <td>13573</td>\n",
       "      <td>fffb626c-5ab6-47c9-8113-2062a2f18494</td>\n",
       "      <td>10</td>\n",
       "    </tr>\n",
       "    <tr>\n",
       "      <td>13574</td>\n",
       "      <td>ffff194a-56b7-4c12-860d-3485242ae7f5</td>\n",
       "      <td>7</td>\n",
       "    </tr>\n",
       "    <tr>\n",
       "      <td>13575</td>\n",
       "      <td>ffff69cc-fec1-4fd3-9f98-93be1112a6b8</td>\n",
       "      <td>14</td>\n",
       "    </tr>\n",
       "  </tbody>\n",
       "</table>\n",
       "<p>13576 rows × 2 columns</p>\n",
       "</div>"
      ],
      "text/plain": [
       "                                    user_id  event_count\n",
       "0      0001f83c-c6ac-4621-b7f0-8a28b283ac30           13\n",
       "1      00151b4f-ba38-44a8-a650-d7cf130a0105            9\n",
       "2      001aaea6-3d14-43f1-8ca8-7f48820f17aa            4\n",
       "3      001d39dc-366c-4021-9604-6a3b9ff01e25            9\n",
       "4      002f508f-67b6-479f-814b-b05f00d4e995           12\n",
       "...                                     ...          ...\n",
       "13571  ffef4fed-164c-40e1-bde1-3980f76d0fb5           10\n",
       "13572  fffab3da-da0e-4e30-ae62-10d0a2e24a4e           16\n",
       "13573  fffb626c-5ab6-47c9-8113-2062a2f18494           10\n",
       "13574  ffff194a-56b7-4c12-860d-3485242ae7f5            7\n",
       "13575  ffff69cc-fec1-4fd3-9f98-93be1112a6b8           14\n",
       "\n",
       "[13576 rows x 2 columns]"
      ]
     },
     "execution_count": 143,
     "metadata": {},
     "output_type": "execute_result"
    }
   ],
   "source": [
    "uid_events = events.groupby('user_id').agg({'event':'count'}).reset_index()\n",
    "uid_events.columns = ['user_id','event_count']\n",
    "uid_events"
   ]
  },
  {
   "cell_type": "code",
   "execution_count": 144,
   "metadata": {
    "scrolled": true
   },
   "outputs": [
    {
     "data": {
      "image/png": "[encoded data removed]",
      "text/plain": [
       "<Figure size 1080x360 with 2 Axes>"
      ]
     },
     "metadata": {},
     "output_type": "display_data"
    }
   ],
   "source": [
    "# посмотрим на распределения и разброс количества экранов для всех игроков\n",
    "\n",
    "fig, axes = plt.subplots(1,2, figsize=(15,5))\n",
    "uid_events['event_count'].plot(ax=axes[0], kind = 'hist', grid = True, bins = 20,  title= 'Распределеине ' )\n",
    "plt.title('Разброс')\n",
    "uid_events.boxplot('event_count', ax=axes[1], vert=False, rot = 90)\n",
    "plt.show()"
   ]
  },
  {
   "cell_type": "markdown",
   "metadata": {},
   "source": [
    "#### Чаще всего показыветеся 9 раз экран, в проц 25-75 значения от 6 до 12. Крайние выбросы 1 и 20."
   ]
  },
  {
   "cell_type": "markdown",
   "metadata": {},
   "source": [
    "### Подготовим данные для следующих этапов"
   ]
  },
  {
   "cell_type": "code",
   "execution_count": 145,
   "metadata": {
    "scrolled": true
   },
   "outputs": [
    {
     "data": {
      "text/html": [
       "<div>\n",
       "<style scoped>\n",
       "    .dataframe tbody tr th:only-of-type {\n",
       "        vertical-align: middle;\n",
       "    }\n",
       "\n",
       "    .dataframe tbody tr th {\n",
       "        vertical-align: top;\n",
       "    }\n",
       "\n",
       "    .dataframe thead th {\n",
       "        text-align: right;\n",
       "    }\n",
       "</style>\n",
       "<table border=\"1\" class=\"dataframe\">\n",
       "  <thead>\n",
       "    <tr style=\"text-align: right;\">\n",
       "      <th></th>\n",
       "      <th>user_id</th>\n",
       "      <th>time_min</th>\n",
       "      <th>time_max</th>\n",
       "      <th>gametime</th>\n",
       "      <th>event</th>\n",
       "    </tr>\n",
       "  </thead>\n",
       "  <tbody>\n",
       "    <tr>\n",
       "      <td>0</td>\n",
       "      <td>0001f83c-c6ac-4621-b7f0-8a28b283ac30</td>\n",
       "      <td>2020-05-06 01:07:37</td>\n",
       "      <td>2020-05-20 11:26:06</td>\n",
       "      <td>15</td>\n",
       "      <td>NaN</td>\n",
       "    </tr>\n",
       "    <tr>\n",
       "      <td>1</td>\n",
       "      <td>00151b4f-ba38-44a8-a650-d7cf130a0105</td>\n",
       "      <td>2020-05-06 03:09:12</td>\n",
       "      <td>2020-05-18 10:46:52</td>\n",
       "      <td>13</td>\n",
       "      <td>NaN</td>\n",
       "    </tr>\n",
       "    <tr>\n",
       "      <td>2</td>\n",
       "      <td>001aaea6-3d14-43f1-8ca8-7f48820f17aa</td>\n",
       "      <td>2020-05-05 18:08:52</td>\n",
       "      <td>2020-05-14 09:21:27</td>\n",
       "      <td>9</td>\n",
       "      <td>NaN</td>\n",
       "    </tr>\n",
       "  </tbody>\n",
       "</table>\n",
       "</div>"
      ],
      "text/plain": [
       "                                user_id            time_min  \\\n",
       "0  0001f83c-c6ac-4621-b7f0-8a28b283ac30 2020-05-06 01:07:37   \n",
       "1  00151b4f-ba38-44a8-a650-d7cf130a0105 2020-05-06 03:09:12   \n",
       "2  001aaea6-3d14-43f1-8ca8-7f48820f17aa 2020-05-05 18:08:52   \n",
       "\n",
       "             time_max  gametime event  \n",
       "0 2020-05-20 11:26:06        15   NaN  \n",
       "1 2020-05-18 10:46:52        13   NaN  \n",
       "2 2020-05-14 09:21:27         9   NaN  "
      ]
     },
     "execution_count": 145,
     "metadata": {},
     "output_type": "execute_result"
    }
   ],
   "source": [
    "#теперь добавим информацию о статусе прохождения уровня и о способе завершения\n",
    "user_time = pd.merge(user_time_all, events[events['event'] == 'finished_stage_1'], how = 'left', on = 'user_id')\n",
    "user_time = user_time[['user_id','time_min','time_max','gametime','event']]\n",
    "user_time.head(3)"
   ]
  },
  {
   "cell_type": "code",
   "execution_count": 146,
   "metadata": {},
   "outputs": [
    {
     "data": {
      "text/html": [
       "<div>\n",
       "<style scoped>\n",
       "    .dataframe tbody tr th:only-of-type {\n",
       "        vertical-align: middle;\n",
       "    }\n",
       "\n",
       "    .dataframe tbody tr th {\n",
       "        vertical-align: top;\n",
       "    }\n",
       "\n",
       "    .dataframe thead th {\n",
       "        text-align: right;\n",
       "    }\n",
       "</style>\n",
       "<table border=\"1\" class=\"dataframe\">\n",
       "  <thead>\n",
       "    <tr style=\"text-align: right;\">\n",
       "      <th></th>\n",
       "      <th>user_id</th>\n",
       "      <th>time_min</th>\n",
       "      <th>time_max</th>\n",
       "      <th>gametime</th>\n",
       "      <th>event</th>\n",
       "    </tr>\n",
       "  </thead>\n",
       "  <tbody>\n",
       "    <tr>\n",
       "      <td>3</td>\n",
       "      <td>001d39dc-366c-4021-9604-6a3b9ff01e25</td>\n",
       "      <td>2020-05-05 21:02:05</td>\n",
       "      <td>2020-05-12 07:40:47</td>\n",
       "      <td>7</td>\n",
       "      <td>finished_stage_1</td>\n",
       "    </tr>\n",
       "    <tr>\n",
       "      <td>6</td>\n",
       "      <td>003ee7e8-6356-4286-a715-62f22a18d2a1</td>\n",
       "      <td>2020-05-05 08:31:04</td>\n",
       "      <td>2020-05-17 21:47:49</td>\n",
       "      <td>13</td>\n",
       "      <td>finished_stage_1</td>\n",
       "    </tr>\n",
       "    <tr>\n",
       "      <td>7</td>\n",
       "      <td>004074f8-251a-4776-922c-8348dca1a2f6</td>\n",
       "      <td>2020-05-04 01:07:35</td>\n",
       "      <td>2020-05-16 19:57:40</td>\n",
       "      <td>13</td>\n",
       "      <td>finished_stage_1</td>\n",
       "    </tr>\n",
       "  </tbody>\n",
       "</table>\n",
       "</div>"
      ],
      "text/plain": [
       "                                user_id            time_min  \\\n",
       "3  001d39dc-366c-4021-9604-6a3b9ff01e25 2020-05-05 21:02:05   \n",
       "6  003ee7e8-6356-4286-a715-62f22a18d2a1 2020-05-05 08:31:04   \n",
       "7  004074f8-251a-4776-922c-8348dca1a2f6 2020-05-04 01:07:35   \n",
       "\n",
       "             time_max  gametime             event  \n",
       "3 2020-05-12 07:40:47         7  finished_stage_1  \n",
       "6 2020-05-17 21:47:49        13  finished_stage_1  \n",
       "7 2020-05-16 19:57:40        13  finished_stage_1  "
      ]
     },
     "execution_count": 146,
     "metadata": {},
     "output_type": "execute_result"
    }
   ],
   "source": [
    "# сделаем таблицу с теми кто прошел уровень\n",
    "winner_time = user_time.query('event == event')\n",
    "winner_time.head(3)"
   ]
  },
  {
   "cell_type": "code",
   "execution_count": 147,
   "metadata": {},
   "outputs": [
    {
     "data": {
      "text/html": [
       "<div>\n",
       "<style scoped>\n",
       "    .dataframe tbody tr th:only-of-type {\n",
       "        vertical-align: middle;\n",
       "    }\n",
       "\n",
       "    .dataframe tbody tr th {\n",
       "        vertical-align: top;\n",
       "    }\n",
       "\n",
       "    .dataframe thead th {\n",
       "        text-align: right;\n",
       "    }\n",
       "</style>\n",
       "<table border=\"1\" class=\"dataframe\">\n",
       "  <thead>\n",
       "    <tr style=\"text-align: right;\">\n",
       "      <th></th>\n",
       "      <th>user_id</th>\n",
       "      <th>win_type</th>\n",
       "    </tr>\n",
       "  </thead>\n",
       "  <tbody>\n",
       "    <tr>\n",
       "      <td>0</td>\n",
       "      <td>e3c66498-9d45-4000-9392-f81e6796e7da</td>\n",
       "      <td>project</td>\n",
       "    </tr>\n",
       "    <tr>\n",
       "      <td>1</td>\n",
       "      <td>936e7af6-8338-4703-a1df-fc6c3f5b8e34</td>\n",
       "      <td>project</td>\n",
       "    </tr>\n",
       "  </tbody>\n",
       "</table>\n",
       "</div>"
      ],
      "text/plain": [
       "                                user_id win_type\n",
       "0  e3c66498-9d45-4000-9392-f81e6796e7da  project\n",
       "1  936e7af6-8338-4703-a1df-fc6c3f5b8e34  project"
      ]
     },
     "execution_count": 147,
     "metadata": {},
     "output_type": "execute_result"
    }
   ],
   "source": [
    "#делаем датафрем с игроками построившими проект\n",
    "win_type = events[events['project_type'] == 'satellite_orbital_assembly'][['user_id','event']].reset_index(drop = True)\n",
    "win_type.columns = ['user_id','win_type']\n",
    "win_type.head(2)"
   ]
  },
  {
   "cell_type": "code",
   "execution_count": 148,
   "metadata": {},
   "outputs": [],
   "source": [
    "#таблица с типом победы\n",
    "winner_time = winner_time.merge(win_type, on = 'user_id', how = 'left')"
   ]
  },
  {
   "cell_type": "code",
   "execution_count": 149,
   "metadata": {},
   "outputs": [
    {
     "data": {
      "text/html": [
       "<div>\n",
       "<style scoped>\n",
       "    .dataframe tbody tr th:only-of-type {\n",
       "        vertical-align: middle;\n",
       "    }\n",
       "\n",
       "    .dataframe tbody tr th {\n",
       "        vertical-align: top;\n",
       "    }\n",
       "\n",
       "    .dataframe thead th {\n",
       "        text-align: right;\n",
       "    }\n",
       "</style>\n",
       "<table border=\"1\" class=\"dataframe\">\n",
       "  <thead>\n",
       "    <tr style=\"text-align: right;\">\n",
       "      <th></th>\n",
       "      <th>user_id</th>\n",
       "      <th>time_min</th>\n",
       "      <th>time_max</th>\n",
       "      <th>gametime</th>\n",
       "      <th>event</th>\n",
       "      <th>win_type</th>\n",
       "    </tr>\n",
       "  </thead>\n",
       "  <tbody>\n",
       "    <tr>\n",
       "      <td>0</td>\n",
       "      <td>001d39dc-366c-4021-9604-6a3b9ff01e25</td>\n",
       "      <td>2020-05-05 21:02:05</td>\n",
       "      <td>2020-05-12 07:40:47</td>\n",
       "      <td>7</td>\n",
       "      <td>finished_stage_1</td>\n",
       "      <td>player</td>\n",
       "    </tr>\n",
       "  </tbody>\n",
       "</table>\n",
       "</div>"
      ],
      "text/plain": [
       "                                user_id            time_min  \\\n",
       "0  001d39dc-366c-4021-9604-6a3b9ff01e25 2020-05-05 21:02:05   \n",
       "\n",
       "             time_max  gametime             event win_type  \n",
       "0 2020-05-12 07:40:47         7  finished_stage_1   player  "
      ]
     },
     "execution_count": 149,
     "metadata": {},
     "output_type": "execute_result"
    }
   ],
   "source": [
    "winner_time = winner_time.fillna('player')\n",
    "winner_time.head(1)"
   ]
  },
  {
   "cell_type": "code",
   "execution_count": 150,
   "metadata": {},
   "outputs": [],
   "source": [
    "# добавим число экранов на игрока\n",
    "winner_df = winner_time.merge(uid_events, on = 'user_id', how = 'left')"
   ]
  },
  {
   "cell_type": "code",
   "execution_count": 151,
   "metadata": {
    "scrolled": true
   },
   "outputs": [
    {
     "name": "stdout",
     "output_type": "stream",
     "text": [
      "<class 'pandas.core.frame.DataFrame'>\n",
      "Int64Index: 5817 entries, 0 to 5816\n",
      "Data columns (total 4 columns):\n",
      "user_id        5817 non-null object\n",
      "win_type       5817 non-null object\n",
      "gametime       5817 non-null int32\n",
      "event_count    5817 non-null int32\n",
      "dtypes: int32(2), object(2)\n",
      "memory usage: 181.8+ KB\n"
     ]
    }
   ],
   "source": [
    "# оставляем только нужные столбцы\n",
    "winner_df = winner_df[['user_id','win_type','gametime','event_count']]\n",
    "winner_df['event_count'] = winner_df['event_count'].astype(int)\n",
    "winner_df.info()"
   ]
  },
  {
   "cell_type": "code",
   "execution_count": 152,
   "metadata": {
    "scrolled": false
   },
   "outputs": [
    {
     "data": {
      "text/html": [
       "<div>\n",
       "<style scoped>\n",
       "    .dataframe tbody tr th:only-of-type {\n",
       "        vertical-align: middle;\n",
       "    }\n",
       "\n",
       "    .dataframe tbody tr th {\n",
       "        vertical-align: top;\n",
       "    }\n",
       "\n",
       "    .dataframe thead th {\n",
       "        text-align: right;\n",
       "    }\n",
       "</style>\n",
       "<table border=\"1\" class=\"dataframe\">\n",
       "  <thead>\n",
       "    <tr style=\"text-align: right;\">\n",
       "      <th></th>\n",
       "      <th>event_datetime</th>\n",
       "      <th>event</th>\n",
       "      <th>building_type</th>\n",
       "      <th>user_id</th>\n",
       "      <th>project_type</th>\n",
       "      <th>date</th>\n",
       "      <th>win_type</th>\n",
       "    </tr>\n",
       "  </thead>\n",
       "  <tbody>\n",
       "    <tr>\n",
       "      <td>0</td>\n",
       "      <td>2020-05-04</td>\n",
       "      <td>building</td>\n",
       "      <td>assembly_shop</td>\n",
       "      <td>55e92310-cb8e-4754-b622-597e124b03de</td>\n",
       "      <td>NaN</td>\n",
       "      <td>2020-05-04</td>\n",
       "      <td>inprogress</td>\n",
       "    </tr>\n",
       "    <tr>\n",
       "      <td>1</td>\n",
       "      <td>2020-05-04</td>\n",
       "      <td>building</td>\n",
       "      <td>assembly_shop</td>\n",
       "      <td>c07b1c10-f477-44dc-81dc-ec82254b1347</td>\n",
       "      <td>NaN</td>\n",
       "      <td>2020-05-04</td>\n",
       "      <td>project</td>\n",
       "    </tr>\n",
       "    <tr>\n",
       "      <td>2</td>\n",
       "      <td>2020-05-04</td>\n",
       "      <td>building</td>\n",
       "      <td>assembly_shop</td>\n",
       "      <td>6edd42cc-e753-4ff6-a947-2107cd560710</td>\n",
       "      <td>NaN</td>\n",
       "      <td>2020-05-04</td>\n",
       "      <td>player</td>\n",
       "    </tr>\n",
       "  </tbody>\n",
       "</table>\n",
       "</div>"
      ],
      "text/plain": [
       "  event_datetime     event  building_type  \\\n",
       "0     2020-05-04  building  assembly_shop   \n",
       "1     2020-05-04  building  assembly_shop   \n",
       "2     2020-05-04  building  assembly_shop   \n",
       "\n",
       "                                user_id project_type       date    win_type  \n",
       "0  55e92310-cb8e-4754-b622-597e124b03de          NaN 2020-05-04  inprogress  \n",
       "1  c07b1c10-f477-44dc-81dc-ec82254b1347          NaN 2020-05-04     project  \n",
       "2  6edd42cc-e753-4ff6-a947-2107cd560710          NaN 2020-05-04      player  "
      ]
     },
     "execution_count": 152,
     "metadata": {},
     "output_type": "execute_result"
    }
   ],
   "source": [
    "events_sp = events.merge(winner_df[['user_id','win_type']], how = 'left', on = 'user_id')\n",
    "events_sp['win_type'] = events_sp['win_type'].fillna('inprogress')\n",
    "events_sp['event_datetime'] = events_sp['event_datetime'].dt.date\n",
    "events_sp.head(3)"
   ]
  },
  {
   "cell_type": "markdown",
   "metadata": {},
   "source": [
    "<a id=\"4\"></a>\n",
    "## 4. Влияние событий на целевое событие"
   ]
  },
  {
   "cell_type": "code",
   "execution_count": 153,
   "metadata": {},
   "outputs": [
    {
     "data": {
      "text/html": [
       "<div>\n",
       "<style scoped>\n",
       "    .dataframe tbody tr th:only-of-type {\n",
       "        vertical-align: middle;\n",
       "    }\n",
       "\n",
       "    .dataframe tbody tr th {\n",
       "        vertical-align: top;\n",
       "    }\n",
       "\n",
       "    .dataframe thead th {\n",
       "        text-align: right;\n",
       "    }\n",
       "</style>\n",
       "<table border=\"1\" class=\"dataframe\">\n",
       "  <thead>\n",
       "    <tr style=\"text-align: right;\">\n",
       "      <th></th>\n",
       "      <th>user_id</th>\n",
       "      <th>win_type</th>\n",
       "      <th>event</th>\n",
       "    </tr>\n",
       "  </thead>\n",
       "  <tbody>\n",
       "    <tr>\n",
       "      <td>0</td>\n",
       "      <td>0001f83c-c6ac-4621-b7f0-8a28b283ac30</td>\n",
       "      <td>inprogress</td>\n",
       "      <td>13</td>\n",
       "    </tr>\n",
       "    <tr>\n",
       "      <td>1</td>\n",
       "      <td>00151b4f-ba38-44a8-a650-d7cf130a0105</td>\n",
       "      <td>inprogress</td>\n",
       "      <td>9</td>\n",
       "    </tr>\n",
       "    <tr>\n",
       "      <td>2</td>\n",
       "      <td>001aaea6-3d14-43f1-8ca8-7f48820f17aa</td>\n",
       "      <td>inprogress</td>\n",
       "      <td>4</td>\n",
       "    </tr>\n",
       "    <tr>\n",
       "      <td>3</td>\n",
       "      <td>001d39dc-366c-4021-9604-6a3b9ff01e25</td>\n",
       "      <td>player</td>\n",
       "      <td>9</td>\n",
       "    </tr>\n",
       "    <tr>\n",
       "      <td>4</td>\n",
       "      <td>002f508f-67b6-479f-814b-b05f00d4e995</td>\n",
       "      <td>inprogress</td>\n",
       "      <td>12</td>\n",
       "    </tr>\n",
       "    <tr>\n",
       "      <td>...</td>\n",
       "      <td>...</td>\n",
       "      <td>...</td>\n",
       "      <td>...</td>\n",
       "    </tr>\n",
       "    <tr>\n",
       "      <td>13571</td>\n",
       "      <td>ffef4fed-164c-40e1-bde1-3980f76d0fb5</td>\n",
       "      <td>player</td>\n",
       "      <td>10</td>\n",
       "    </tr>\n",
       "    <tr>\n",
       "      <td>13572</td>\n",
       "      <td>fffab3da-da0e-4e30-ae62-10d0a2e24a4e</td>\n",
       "      <td>inprogress</td>\n",
       "      <td>16</td>\n",
       "    </tr>\n",
       "    <tr>\n",
       "      <td>13573</td>\n",
       "      <td>fffb626c-5ab6-47c9-8113-2062a2f18494</td>\n",
       "      <td>player</td>\n",
       "      <td>10</td>\n",
       "    </tr>\n",
       "    <tr>\n",
       "      <td>13574</td>\n",
       "      <td>ffff194a-56b7-4c12-860d-3485242ae7f5</td>\n",
       "      <td>inprogress</td>\n",
       "      <td>7</td>\n",
       "    </tr>\n",
       "    <tr>\n",
       "      <td>13575</td>\n",
       "      <td>ffff69cc-fec1-4fd3-9f98-93be1112a6b8</td>\n",
       "      <td>project</td>\n",
       "      <td>14</td>\n",
       "    </tr>\n",
       "  </tbody>\n",
       "</table>\n",
       "<p>13576 rows × 3 columns</p>\n",
       "</div>"
      ],
      "text/plain": [
       "                                    user_id    win_type  event\n",
       "0      0001f83c-c6ac-4621-b7f0-8a28b283ac30  inprogress     13\n",
       "1      00151b4f-ba38-44a8-a650-d7cf130a0105  inprogress      9\n",
       "2      001aaea6-3d14-43f1-8ca8-7f48820f17aa  inprogress      4\n",
       "3      001d39dc-366c-4021-9604-6a3b9ff01e25      player      9\n",
       "4      002f508f-67b6-479f-814b-b05f00d4e995  inprogress     12\n",
       "...                                     ...         ...    ...\n",
       "13571  ffef4fed-164c-40e1-bde1-3980f76d0fb5      player     10\n",
       "13572  fffab3da-da0e-4e30-ae62-10d0a2e24a4e  inprogress     16\n",
       "13573  fffb626c-5ab6-47c9-8113-2062a2f18494      player     10\n",
       "13574  ffff194a-56b7-4c12-860d-3485242ae7f5  inprogress      7\n",
       "13575  ffff69cc-fec1-4fd3-9f98-93be1112a6b8     project     14\n",
       "\n",
       "[13576 rows x 3 columns]"
      ]
     },
     "execution_count": 153,
     "metadata": {},
     "output_type": "execute_result"
    }
   ],
   "source": [
    "data = events_sp.groupby(['user_id','win_type']).agg({'event':'count'}).reset_index()\n",
    "data "
   ]
  },
  {
   "cell_type": "code",
   "execution_count": 154,
   "metadata": {},
   "outputs": [
    {
     "data": {
      "text/html": [
       "<div>\n",
       "<style scoped>\n",
       "    .dataframe tbody tr th:only-of-type {\n",
       "        vertical-align: middle;\n",
       "    }\n",
       "\n",
       "    .dataframe tbody tr th {\n",
       "        vertical-align: top;\n",
       "    }\n",
       "\n",
       "    .dataframe thead th {\n",
       "        text-align: right;\n",
       "    }\n",
       "</style>\n",
       "<table border=\"1\" class=\"dataframe\">\n",
       "  <thead>\n",
       "    <tr style=\"text-align: right;\">\n",
       "      <th></th>\n",
       "      <th>win_type</th>\n",
       "      <th>event</th>\n",
       "    </tr>\n",
       "  </thead>\n",
       "  <tbody>\n",
       "    <tr>\n",
       "      <td>0</td>\n",
       "      <td>inprogress</td>\n",
       "      <td>8.657043</td>\n",
       "    </tr>\n",
       "    <tr>\n",
       "      <td>1</td>\n",
       "      <td>player</td>\n",
       "      <td>10.411541</td>\n",
       "    </tr>\n",
       "    <tr>\n",
       "      <td>2</td>\n",
       "      <td>project</td>\n",
       "      <td>14.647910</td>\n",
       "    </tr>\n",
       "  </tbody>\n",
       "</table>\n",
       "</div>"
      ],
      "text/plain": [
       "     win_type      event\n",
       "0  inprogress   8.657043\n",
       "1      player  10.411541\n",
       "2     project  14.647910"
      ]
     },
     "execution_count": 154,
     "metadata": {},
     "output_type": "execute_result"
    }
   ],
   "source": [
    "data1 = data.groupby('win_type').agg({'event':'mean'}).reset_index()\n",
    "data1"
   ]
  },
  {
   "cell_type": "code",
   "execution_count": 155,
   "metadata": {
    "scrolled": false
   },
   "outputs": [
    {
     "data": {
      "image/png": "[encoded data removed]",
      "text/plain": [
       "<Figure size 1080x432 with 1 Axes>"
      ]
     },
     "metadata": {},
     "output_type": "display_data"
    }
   ],
   "source": [
    "#распределеине показов экранов от типа завершенич уровня\n",
    "fig, ax = plt.subplots(figsize = (15,6))\n",
    "sns.boxplot(x='win_type', y = 'event',  data=data, palette = 'rainbow').set_title('Распределение показов экранов') \n",
    "sns.lineplot(x = data1['win_type'], y = data1['event'], ax = ax)\n",
    "ax.set_xlabel('Тип игрока')\n",
    "ax.set_ylabel('Среднее количество событий')\n",
    "plt.xticks(rotation=45)\n",
    "plt.show()"
   ]
  },
  {
   "cell_type": "markdown",
   "metadata": {},
   "source": [
    "#### Больше всего экраны показывались в проектах, потом те кто победил игрока, те кто еще играет имеют приличный разброс, но медиану около 7 раз"
   ]
  },
  {
   "cell_type": "code",
   "execution_count": 156,
   "metadata": {},
   "outputs": [],
   "source": [
    "# делаем срезы данных по типу событий и кол-ву игроков\n",
    "us_project = events_sp[events_sp['win_type']=='project'].groupby('event_datetime').agg({'user_id':'nunique'}).reset_index()\n",
    "us_player = events_sp[events_sp['win_type']=='player'].groupby('event_datetime').agg({'user_id':'nunique'}).reset_index()\n",
    "us_progress = events_sp[events_sp['win_type']=='inprogress'].groupby('event_datetime').agg({'user_id':'nunique'}).reset_index()"
   ]
  },
  {
   "cell_type": "code",
   "execution_count": 157,
   "metadata": {
    "scrolled": false
   },
   "outputs": [
    {
     "data": {
      "image/png": "[encoded data removed]",
      "text/plain": [
       "<Figure size 1152x648 with 1 Axes>"
      ]
     },
     "metadata": {},
     "output_type": "display_data"
    }
   ],
   "source": [
    "# график активности пользователей по дням в зависимости от статуса победы\n",
    "plt.figure(figsize=(16,9))\n",
    "ax = sns.lineplot(x='event_datetime', y = 'user_id',  data=us_project, label='Project win')\n",
    "ax = sns.lineplot(x='event_datetime', y = 'user_id',  data=us_player, label='Player win')\n",
    "ax = sns.lineplot(x='event_datetime', y = 'user_id',  data=us_progress, label='In Progress')\n",
    "ax.set_ylabel('Количество поользователей')\n",
    "ax.set_xlabel('Дни')\n",
    "ax.set_title('Активность пользователей по дням')\n",
    "#plt.legend('2','3','4')\n",
    "plt.xticks(rotation=45)\n",
    "plt.show()"
   ]
  },
  {
   "cell_type": "markdown",
   "metadata": {},
   "source": [
    "#### Количество игроков по статусу уровня соответствует общему графику, больше всего игроков не завершивших уровень"
   ]
  },
  {
   "cell_type": "code",
   "execution_count": 158,
   "metadata": {},
   "outputs": [
    {
     "data": {
      "text/html": [
       "<div>\n",
       "<style scoped>\n",
       "    .dataframe tbody tr th:only-of-type {\n",
       "        vertical-align: middle;\n",
       "    }\n",
       "\n",
       "    .dataframe tbody tr th {\n",
       "        vertical-align: top;\n",
       "    }\n",
       "\n",
       "    .dataframe thead th {\n",
       "        text-align: right;\n",
       "    }\n",
       "</style>\n",
       "<table border=\"1\" class=\"dataframe\">\n",
       "  <thead>\n",
       "    <tr style=\"text-align: right;\">\n",
       "      <th></th>\n",
       "      <th>event_datetime</th>\n",
       "      <th>event</th>\n",
       "    </tr>\n",
       "  </thead>\n",
       "  <tbody>\n",
       "    <tr>\n",
       "      <td>0</td>\n",
       "      <td>2020-05-04</td>\n",
       "      <td>4398</td>\n",
       "    </tr>\n",
       "    <tr>\n",
       "      <td>1</td>\n",
       "      <td>2020-05-05</td>\n",
       "      <td>4763</td>\n",
       "    </tr>\n",
       "    <tr>\n",
       "      <td>2</td>\n",
       "      <td>2020-05-06</td>\n",
       "      <td>5254</td>\n",
       "    </tr>\n",
       "    <tr>\n",
       "      <td>3</td>\n",
       "      <td>2020-05-07</td>\n",
       "      <td>5768</td>\n",
       "    </tr>\n",
       "    <tr>\n",
       "      <td>4</td>\n",
       "      <td>2020-05-08</td>\n",
       "      <td>6348</td>\n",
       "    </tr>\n",
       "    <tr>\n",
       "      <td>5</td>\n",
       "      <td>2020-05-09</td>\n",
       "      <td>6954</td>\n",
       "    </tr>\n",
       "    <tr>\n",
       "      <td>6</td>\n",
       "      <td>2020-05-10</td>\n",
       "      <td>7995</td>\n",
       "    </tr>\n",
       "    <tr>\n",
       "      <td>7</td>\n",
       "      <td>2020-05-11</td>\n",
       "      <td>4056</td>\n",
       "    </tr>\n",
       "    <tr>\n",
       "      <td>8</td>\n",
       "      <td>2020-05-12</td>\n",
       "      <td>3835</td>\n",
       "    </tr>\n",
       "    <tr>\n",
       "      <td>9</td>\n",
       "      <td>2020-05-13</td>\n",
       "      <td>3662</td>\n",
       "    </tr>\n",
       "    <tr>\n",
       "      <td>10</td>\n",
       "      <td>2020-05-14</td>\n",
       "      <td>3195</td>\n",
       "    </tr>\n",
       "    <tr>\n",
       "      <td>11</td>\n",
       "      <td>2020-05-15</td>\n",
       "      <td>2684</td>\n",
       "    </tr>\n",
       "    <tr>\n",
       "      <td>12</td>\n",
       "      <td>2020-05-16</td>\n",
       "      <td>2210</td>\n",
       "    </tr>\n",
       "    <tr>\n",
       "      <td>13</td>\n",
       "      <td>2020-05-17</td>\n",
       "      <td>1633</td>\n",
       "    </tr>\n",
       "    <tr>\n",
       "      <td>14</td>\n",
       "      <td>2020-05-18</td>\n",
       "      <td>1134</td>\n",
       "    </tr>\n",
       "    <tr>\n",
       "      <td>15</td>\n",
       "      <td>2020-05-19</td>\n",
       "      <td>908</td>\n",
       "    </tr>\n",
       "    <tr>\n",
       "      <td>16</td>\n",
       "      <td>2020-05-20</td>\n",
       "      <td>670</td>\n",
       "    </tr>\n",
       "    <tr>\n",
       "      <td>17</td>\n",
       "      <td>2020-05-21</td>\n",
       "      <td>524</td>\n",
       "    </tr>\n",
       "    <tr>\n",
       "      <td>18</td>\n",
       "      <td>2020-05-22</td>\n",
       "      <td>372</td>\n",
       "    </tr>\n",
       "    <tr>\n",
       "      <td>19</td>\n",
       "      <td>2020-05-23</td>\n",
       "      <td>264</td>\n",
       "    </tr>\n",
       "    <tr>\n",
       "      <td>20</td>\n",
       "      <td>2020-05-24</td>\n",
       "      <td>165</td>\n",
       "    </tr>\n",
       "    <tr>\n",
       "      <td>21</td>\n",
       "      <td>2020-05-25</td>\n",
       "      <td>136</td>\n",
       "    </tr>\n",
       "    <tr>\n",
       "      <td>22</td>\n",
       "      <td>2020-05-26</td>\n",
       "      <td>94</td>\n",
       "    </tr>\n",
       "    <tr>\n",
       "      <td>23</td>\n",
       "      <td>2020-05-27</td>\n",
       "      <td>55</td>\n",
       "    </tr>\n",
       "    <tr>\n",
       "      <td>24</td>\n",
       "      <td>2020-05-28</td>\n",
       "      <td>32</td>\n",
       "    </tr>\n",
       "    <tr>\n",
       "      <td>25</td>\n",
       "      <td>2020-05-29</td>\n",
       "      <td>28</td>\n",
       "    </tr>\n",
       "    <tr>\n",
       "      <td>26</td>\n",
       "      <td>2020-05-30</td>\n",
       "      <td>19</td>\n",
       "    </tr>\n",
       "    <tr>\n",
       "      <td>27</td>\n",
       "      <td>2020-05-31</td>\n",
       "      <td>7</td>\n",
       "    </tr>\n",
       "    <tr>\n",
       "      <td>28</td>\n",
       "      <td>2020-06-01</td>\n",
       "      <td>4</td>\n",
       "    </tr>\n",
       "    <tr>\n",
       "      <td>29</td>\n",
       "      <td>2020-06-02</td>\n",
       "      <td>2</td>\n",
       "    </tr>\n",
       "    <tr>\n",
       "      <td>30</td>\n",
       "      <td>2020-06-05</td>\n",
       "      <td>1</td>\n",
       "    </tr>\n",
       "  </tbody>\n",
       "</table>\n",
       "</div>"
      ],
      "text/plain": [
       "   event_datetime  event\n",
       "0      2020-05-04   4398\n",
       "1      2020-05-05   4763\n",
       "2      2020-05-06   5254\n",
       "3      2020-05-07   5768\n",
       "4      2020-05-08   6348\n",
       "5      2020-05-09   6954\n",
       "6      2020-05-10   7995\n",
       "7      2020-05-11   4056\n",
       "8      2020-05-12   3835\n",
       "9      2020-05-13   3662\n",
       "10     2020-05-14   3195\n",
       "11     2020-05-15   2684\n",
       "12     2020-05-16   2210\n",
       "13     2020-05-17   1633\n",
       "14     2020-05-18   1134\n",
       "15     2020-05-19    908\n",
       "16     2020-05-20    670\n",
       "17     2020-05-21    524\n",
       "18     2020-05-22    372\n",
       "19     2020-05-23    264\n",
       "20     2020-05-24    165\n",
       "21     2020-05-25    136\n",
       "22     2020-05-26     94\n",
       "23     2020-05-27     55\n",
       "24     2020-05-28     32\n",
       "25     2020-05-29     28\n",
       "26     2020-05-30     19\n",
       "27     2020-05-31      7\n",
       "28     2020-06-01      4\n",
       "29     2020-06-02      2\n",
       "30     2020-06-05      1"
      ]
     },
     "execution_count": 158,
     "metadata": {},
     "output_type": "execute_result"
    }
   ],
   "source": [
    "# делаем срезы данных по типу событий и их кол-ву \n",
    "ev_project = events_sp[events_sp['win_type']=='project'].groupby('event_datetime').agg({'event':'count'}).reset_index()\n",
    "ev_player = events_sp[events_sp['win_type']=='player'].groupby('event_datetime').agg({'event':'count'}).reset_index()\n",
    "ev_progress = events_sp[events_sp['win_type']=='inprogress'].groupby('event_datetime').agg({'event':'count'}).reset_index()\n",
    "ev_progress"
   ]
  },
  {
   "cell_type": "code",
   "execution_count": 159,
   "metadata": {
    "scrolled": false
   },
   "outputs": [
    {
     "data": {
      "image/png": "[encoded data removed]",
      "text/plain": [
       "<Figure size 1152x648 with 1 Axes>"
      ]
     },
     "metadata": {},
     "output_type": "display_data"
    }
   ],
   "source": [
    "plt.figure(figsize=(16,9))\n",
    "ax = sns.lineplot(x='event_datetime', y = 'event',  data=ev_project, label='Project win')\n",
    "ax = sns.lineplot(x='event_datetime', y = 'event',  data=ev_player, label='Player win')\n",
    "ax = sns.lineplot(x='event_datetime', y = 'event',  data=ev_progress, label='In Progress')\n",
    "ax.set_ylabel('Количество поользователей')\n",
    "ax.set_xlabel('Дни')\n",
    "ax.set_title('Активность пользователей по дням')\n",
    "#plt.legend('2','3','4')\n",
    "plt.xticks(rotation=45)\n",
    "plt.show()"
   ]
  },
  {
   "cell_type": "markdown",
   "metadata": {},
   "source": [
    "#### События распределились анлогично пользователям"
   ]
  },
  {
   "cell_type": "code",
   "execution_count": 160,
   "metadata": {},
   "outputs": [],
   "source": [
    "# сформируем данные по победителям проектом\n",
    "winner_project = winner_df[winner_df['win_type']=='project']\n",
    "# сформируем данные по победителем игрой\n",
    "winner_player = winner_df[winner_df['win_type']=='player']"
   ]
  },
  {
   "cell_type": "code",
   "execution_count": 161,
   "metadata": {},
   "outputs": [
    {
     "name": "stdout",
     "output_type": "stream",
     "text": [
      "<class 'pandas.core.frame.DataFrame'>\n",
      "Int64Index: 1866 entries, 7 to 5816\n",
      "Data columns (total 4 columns):\n",
      "user_id        1866 non-null object\n",
      "win_type       1866 non-null object\n",
      "gametime       1866 non-null int32\n",
      "event_count    1866 non-null int32\n",
      "dtypes: int32(2), object(2)\n",
      "memory usage: 58.3+ KB\n"
     ]
    }
   ],
   "source": [
    "winner_project.info()"
   ]
  },
  {
   "cell_type": "code",
   "execution_count": 162,
   "metadata": {
    "scrolled": false
   },
   "outputs": [
    {
     "data": {
      "image/png": "[encoded data removed]",
      "text/plain": [
       "<Figure size 1080x360 with 2 Axes>"
      ]
     },
     "metadata": {},
     "output_type": "display_data"
    },
    {
     "data": {
      "image/png": "[encoded data removed]",
      "text/plain": [
       "<Figure size 1080x360 with 2 Axes>"
      ]
     },
     "metadata": {},
     "output_type": "display_data"
    }
   ],
   "source": [
    "# рассмотрим гистограммы  по группам победителй по времени игры и по количеству показов\n",
    "cols =['gametime','event_count']\n",
    "\n",
    "for col in cols:\n",
    "    fig, axes = plt.subplots(1,2, figsize=(15,5))\n",
    "    plt.ylabel(col)\n",
    "    plt.title(col)\n",
    "    winner_player[col].plot( kind = 'hist', grid = True,  title= col, ax=axes[0] )\n",
    "    winner_project[col].plot( kind = 'hist', grid = True, title= col, ax=axes[0] )\n",
    "    pd.plotting.boxplot(winner_player[col], ax=axes[1], vert=False )\n",
    "    pd.plotting.boxplot(winner_project[col], ax=axes[1], vert=False )\n",
    "    plt.legend(('project','player'))\n",
    "    plt.show"
   ]
  },
  {
   "cell_type": "markdown",
   "metadata": {},
   "source": [
    "**Видим,что  время прохождения уровня распределяется примерно одинаково для обоих типов побед,\n",
    "но количество экранов значительно смещено в сторону проектов.\n",
    "Победителей над игроком заметно больше**"
   ]
  },
  {
   "cell_type": "markdown",
   "metadata": {},
   "source": [
    "<a id=\"5\"></a>\n",
    "## 5. Проверка гипотез"
   ]
  },
  {
   "cell_type": "markdown",
   "metadata": {},
   "source": [
    "## Проверим гипотезу: \"Средняя время игры победой над игроком отличается от среднего времени игры победой проектом;  \n",
    "и примем ее за альтернативную\n",
    "\n",
    "Сформулируем нулевую гипотезу как \" Средняя время игры победой над игроком одинакова для времени игры победой проектом\""
   ]
  },
  {
   "cell_type": "code",
   "execution_count": 163,
   "metadata": {},
   "outputs": [],
   "source": [
    "#селаем необходимый срез данных и рассчитаем среднее время по группам\n",
    "mean_project = winner_project['gametime']\n",
    "mean_player = winner_player['gametime']"
   ]
  },
  {
   "cell_type": "code",
   "execution_count": 164,
   "metadata": {},
   "outputs": [
    {
     "name": "stdout",
     "output_type": "stream",
     "text": [
      "Среднее время победой проектом 13.963022508038586\n",
      "\n",
      "Среднее время победой над игроком 11.606175651733738\n"
     ]
    }
   ],
   "source": [
    "print('Среднее время победой проектом',mean_project.mean() )\n",
    "print()\n",
    "print('Среднее время победой над игроком',mean_player.mean() )"
   ]
  },
  {
   "cell_type": "code",
   "execution_count": 165,
   "metadata": {},
   "outputs": [
    {
     "name": "stdout",
     "output_type": "stream",
     "text": [
      "Дисперсия по проектам 12.437774023085622 , а дисперсия по победителям над игроком 16.86005299091099\n"
     ]
    }
   ],
   "source": [
    "#рассчитаем дисперсию\n",
    "var_profit_project =np.var(mean_project, ddof=1)\n",
    "var_profit_player =np.var(mean_player, ddof=1)\n",
    "print('Дисперсия по проектам',var_profit_project,', а дисперсия по победителям над игроком',var_profit_player)\n"
   ]
  },
  {
   "cell_type": "markdown",
   "metadata": {},
   "source": [
    "# Расчитаем доверительный интервал для выборки"
   ]
  },
  {
   "cell_type": "code",
   "execution_count": 166,
   "metadata": {},
   "outputs": [],
   "source": [
    "#функция расчета доверительного интервала\n",
    "def compute_ci(sample):\n",
    "    \"\"\"Функция расчитывает доверительный интервал, в качестве аргумента необходимо внести массив по которому требуется расчеты\"\"\"\n",
    "    st_dev = np.std(sample)\n",
    "    z_value = st.norm.ppf(q=0.975)\n",
    "    sample_size = len(sample)\n",
    "    interval = z_value * (st_dev/np.sqrt(sample_size))\n",
    "    conf_inv = (sample.mean() - interval, sample.mean() + interval)\n",
    "    \n",
    "    return conf_inv"
   ]
  },
  {
   "cell_type": "code",
   "execution_count": 167,
   "metadata": {},
   "outputs": [
    {
     "data": {
      "text/plain": [
       "(12.257365621064437, 12.467062778454213)"
      ]
     },
     "execution_count": 167,
     "metadata": {},
     "output_type": "execute_result"
    }
   ],
   "source": [
    "#рассчитаем доверительный интервал по времени прохождения для общей таблицы\n",
    "compute_ci(winner_df['gametime'])"
   ]
  },
  {
   "cell_type": "code",
   "execution_count": 168,
   "metadata": {},
   "outputs": [
    {
     "data": {
      "text/plain": [
       "(13.803049319656951, 14.12299569642022)"
      ]
     },
     "execution_count": 168,
     "metadata": {},
     "output_type": "execute_result"
    }
   ],
   "source": [
    "#рассчитаем доверительный интервал по времени прохождения для projects\n",
    "compute_ci(winner_project['gametime'])"
   ]
  },
  {
   "cell_type": "code",
   "execution_count": 169,
   "metadata": {},
   "outputs": [
    {
     "data": {
      "text/plain": [
       "(11.478158229848054, 11.734193073619421)"
      ]
     },
     "execution_count": 169,
     "metadata": {},
     "output_type": "execute_result"
    }
   ],
   "source": [
    "#рассчитаем доверительный интервал по времени прохождения для projects\n",
    "compute_ci(winner_player['gametime'])"
   ]
  },
  {
   "cell_type": "markdown",
   "metadata": {},
   "source": [
    "### По доверительному интервалу мы видим, что нормальное распределение лежит в достатаочно узком интервале, что подверждют большие значения дисперсии."
   ]
  },
  {
   "cell_type": "code",
   "execution_count": 170,
   "metadata": {},
   "outputs": [
    {
     "name": "stdout",
     "output_type": "stream",
     "text": [
      "p-значение: 2.6237027268062713e-106\n",
      "Отвергаем нулевую гипотезу\n"
     ]
    }
   ],
   "source": [
    "# Зададим критический уровень статистической значимости\n",
    "alpha = 0.05    \n",
    "# проверим гипотезу о равенстве средних двух независимых совокупностей, дисперсии выборок считаем не равными\n",
    "results =  st.ttest_ind(\n",
    "    mean_project, \n",
    "    mean_player, equal_var = False)\n",
    "\n",
    " # выведем на экран получившееся p-значение)\n",
    "print('p-значение:', results.pvalue) \n",
    "# всравним получившееся p-значение с заданным уровнем статистической значимости\n",
    "if (results.pvalue < alpha):  \n",
    "    print(\"Отвергаем нулевую гипотезу\")\n",
    "else:\n",
    "    print(\"Не получилось отвергнуть нулевую гипотезу\") "
   ]
  },
  {
   "cell_type": "markdown",
   "metadata": {},
   "source": [
    "### Полученное значение p-value говорит о том, что средний время прохождения уровня неодинаково. С вероятностью в ~ 0% такое различие можно получить случайно. Это явно достаточная вероятность, и мы можем сделать вывод о значимом различии между средним временем прохождения уровня разными способами."
   ]
  },
  {
   "cell_type": "markdown",
   "metadata": {},
   "source": [
    "## Проверим гипотезу: \"Среднее количество показов экранов при победе над игроком отличается от среднего количества показов экранов победой проектом;  \n",
    "и примем ее за альтернативную\n",
    "\n",
    "Сформулируем нулевую гипотезу как \" Среднее количество показов экранов победой над игроком одинаково для количества показов экранов победой проектом\""
   ]
  },
  {
   "cell_type": "code",
   "execution_count": 171,
   "metadata": {},
   "outputs": [
    {
     "data": {
      "text/html": [
       "<div>\n",
       "<style scoped>\n",
       "    .dataframe tbody tr th:only-of-type {\n",
       "        vertical-align: middle;\n",
       "    }\n",
       "\n",
       "    .dataframe tbody tr th {\n",
       "        vertical-align: top;\n",
       "    }\n",
       "\n",
       "    .dataframe thead th {\n",
       "        text-align: right;\n",
       "    }\n",
       "</style>\n",
       "<table border=\"1\" class=\"dataframe\">\n",
       "  <thead>\n",
       "    <tr style=\"text-align: right;\">\n",
       "      <th></th>\n",
       "      <th>user_id</th>\n",
       "      <th>win_type</th>\n",
       "      <th>gametime</th>\n",
       "      <th>event_count</th>\n",
       "    </tr>\n",
       "  </thead>\n",
       "  <tbody>\n",
       "    <tr>\n",
       "      <td>0</td>\n",
       "      <td>001d39dc-366c-4021-9604-6a3b9ff01e25</td>\n",
       "      <td>player</td>\n",
       "      <td>7</td>\n",
       "      <td>9</td>\n",
       "    </tr>\n",
       "    <tr>\n",
       "      <td>1</td>\n",
       "      <td>003ee7e8-6356-4286-a715-62f22a18d2a1</td>\n",
       "      <td>player</td>\n",
       "      <td>13</td>\n",
       "      <td>9</td>\n",
       "    </tr>\n",
       "    <tr>\n",
       "      <td>2</td>\n",
       "      <td>004074f8-251a-4776-922c-8348dca1a2f6</td>\n",
       "      <td>player</td>\n",
       "      <td>13</td>\n",
       "      <td>13</td>\n",
       "    </tr>\n",
       "    <tr>\n",
       "      <td>3</td>\n",
       "      <td>00464e5e-28ed-4be6-bf44-517ef7b3937b</td>\n",
       "      <td>player</td>\n",
       "      <td>12</td>\n",
       "      <td>9</td>\n",
       "    </tr>\n",
       "    <tr>\n",
       "      <td>4</td>\n",
       "      <td>0056c007-c082-43cc-bdef-afc49bca4cb9</td>\n",
       "      <td>player</td>\n",
       "      <td>7</td>\n",
       "      <td>4</td>\n",
       "    </tr>\n",
       "    <tr>\n",
       "      <td>...</td>\n",
       "      <td>...</td>\n",
       "      <td>...</td>\n",
       "      <td>...</td>\n",
       "      <td>...</td>\n",
       "    </tr>\n",
       "    <tr>\n",
       "      <td>5811</td>\n",
       "      <td>ffc6f4fa-3476-47af-85cb-e2ee0551110a</td>\n",
       "      <td>player</td>\n",
       "      <td>12</td>\n",
       "      <td>14</td>\n",
       "    </tr>\n",
       "    <tr>\n",
       "      <td>5812</td>\n",
       "      <td>ffd002f3-3545-423e-8dba-0c6a2d48a3aa</td>\n",
       "      <td>player</td>\n",
       "      <td>13</td>\n",
       "      <td>8</td>\n",
       "    </tr>\n",
       "    <tr>\n",
       "      <td>5813</td>\n",
       "      <td>ffe810f4-1a1f-464b-924d-6f120b0cb8df</td>\n",
       "      <td>player</td>\n",
       "      <td>14</td>\n",
       "      <td>17</td>\n",
       "    </tr>\n",
       "    <tr>\n",
       "      <td>5814</td>\n",
       "      <td>ffef4fed-164c-40e1-bde1-3980f76d0fb5</td>\n",
       "      <td>player</td>\n",
       "      <td>8</td>\n",
       "      <td>10</td>\n",
       "    </tr>\n",
       "    <tr>\n",
       "      <td>5815</td>\n",
       "      <td>fffb626c-5ab6-47c9-8113-2062a2f18494</td>\n",
       "      <td>player</td>\n",
       "      <td>9</td>\n",
       "      <td>10</td>\n",
       "    </tr>\n",
       "  </tbody>\n",
       "</table>\n",
       "<p>3951 rows × 4 columns</p>\n",
       "</div>"
      ],
      "text/plain": [
       "                                   user_id win_type  gametime  event_count\n",
       "0     001d39dc-366c-4021-9604-6a3b9ff01e25   player         7            9\n",
       "1     003ee7e8-6356-4286-a715-62f22a18d2a1   player        13            9\n",
       "2     004074f8-251a-4776-922c-8348dca1a2f6   player        13           13\n",
       "3     00464e5e-28ed-4be6-bf44-517ef7b3937b   player        12            9\n",
       "4     0056c007-c082-43cc-bdef-afc49bca4cb9   player         7            4\n",
       "...                                    ...      ...       ...          ...\n",
       "5811  ffc6f4fa-3476-47af-85cb-e2ee0551110a   player        12           14\n",
       "5812  ffd002f3-3545-423e-8dba-0c6a2d48a3aa   player        13            8\n",
       "5813  ffe810f4-1a1f-464b-924d-6f120b0cb8df   player        14           17\n",
       "5814  ffef4fed-164c-40e1-bde1-3980f76d0fb5   player         8           10\n",
       "5815  fffb626c-5ab6-47c9-8113-2062a2f18494   player         9           10\n",
       "\n",
       "[3951 rows x 4 columns]"
      ]
     },
     "execution_count": 171,
     "metadata": {},
     "output_type": "execute_result"
    }
   ],
   "source": [
    "winner_player"
   ]
  },
  {
   "cell_type": "code",
   "execution_count": 172,
   "metadata": {},
   "outputs": [],
   "source": [
    "#селаем необходимый срез данных и рассчитаем среднее количество показов по группам\n",
    "mean_screen_project = winner_project[['event_count']].reset_index(drop = True)\n",
    "mean_screen_player = winner_player[['event_count']].reset_index(drop = True)"
   ]
  },
  {
   "cell_type": "code",
   "execution_count": 173,
   "metadata": {},
   "outputs": [
    {
     "data": {
      "text/html": [
       "<div>\n",
       "<style scoped>\n",
       "    .dataframe tbody tr th:only-of-type {\n",
       "        vertical-align: middle;\n",
       "    }\n",
       "\n",
       "    .dataframe tbody tr th {\n",
       "        vertical-align: top;\n",
       "    }\n",
       "\n",
       "    .dataframe thead th {\n",
       "        text-align: right;\n",
       "    }\n",
       "</style>\n",
       "<table border=\"1\" class=\"dataframe\">\n",
       "  <thead>\n",
       "    <tr style=\"text-align: right;\">\n",
       "      <th></th>\n",
       "      <th>event_count</th>\n",
       "    </tr>\n",
       "  </thead>\n",
       "  <tbody>\n",
       "    <tr>\n",
       "      <td>0</td>\n",
       "      <td>13</td>\n",
       "    </tr>\n",
       "    <tr>\n",
       "      <td>1</td>\n",
       "      <td>14</td>\n",
       "    </tr>\n",
       "    <tr>\n",
       "      <td>2</td>\n",
       "      <td>13</td>\n",
       "    </tr>\n",
       "    <tr>\n",
       "      <td>3</td>\n",
       "      <td>15</td>\n",
       "    </tr>\n",
       "    <tr>\n",
       "      <td>4</td>\n",
       "      <td>15</td>\n",
       "    </tr>\n",
       "    <tr>\n",
       "      <td>...</td>\n",
       "      <td>...</td>\n",
       "    </tr>\n",
       "    <tr>\n",
       "      <td>1861</td>\n",
       "      <td>20</td>\n",
       "    </tr>\n",
       "    <tr>\n",
       "      <td>1862</td>\n",
       "      <td>13</td>\n",
       "    </tr>\n",
       "    <tr>\n",
       "      <td>1863</td>\n",
       "      <td>15</td>\n",
       "    </tr>\n",
       "    <tr>\n",
       "      <td>1864</td>\n",
       "      <td>22</td>\n",
       "    </tr>\n",
       "    <tr>\n",
       "      <td>1865</td>\n",
       "      <td>14</td>\n",
       "    </tr>\n",
       "  </tbody>\n",
       "</table>\n",
       "<p>1866 rows × 1 columns</p>\n",
       "</div>"
      ],
      "text/plain": [
       "      event_count\n",
       "0              13\n",
       "1              14\n",
       "2              13\n",
       "3              15\n",
       "4              15\n",
       "...           ...\n",
       "1861           20\n",
       "1862           13\n",
       "1863           15\n",
       "1864           22\n",
       "1865           14\n",
       "\n",
       "[1866 rows x 1 columns]"
      ]
     },
     "execution_count": 173,
     "metadata": {},
     "output_type": "execute_result"
    }
   ],
   "source": [
    "mean_screen_project.reset_index(drop = True)"
   ]
  },
  {
   "cell_type": "code",
   "execution_count": 174,
   "metadata": {},
   "outputs": [
    {
     "name": "stdout",
     "output_type": "stream",
     "text": [
      "Среднее количество показов победой проектом event_count    14.64791\n",
      "dtype: float64\n",
      "\n",
      "Среднее количество показов победой над игроком event_count    10.411541\n",
      "dtype: float64\n"
     ]
    }
   ],
   "source": [
    "print('Среднее количество показов победой проектом',mean_screen_project.mean() )\n",
    "print()\n",
    "print('Среднее количество показов победой над игроком',mean_screen_player.mean() )"
   ]
  },
  {
   "cell_type": "code",
   "execution_count": 175,
   "metadata": {},
   "outputs": [
    {
     "name": "stdout",
     "output_type": "stream",
     "text": [
      "Дисперсия по проектам event_count    4.676502\n",
      "dtype: float64 , а дисперсия по победителям над игроком event_count    9.360717\n",
      "dtype: float64\n"
     ]
    }
   ],
   "source": [
    "#рассчитаем дисперсию\n",
    "var_profit_screen_project =np.var(mean_screen_project, ddof=1)\n",
    "var_profit_screen_player =np.var(mean_screen_player, ddof=1)\n",
    "print('Дисперсия по проектам',var_profit_screen_project,', а дисперсия по победителям над игроком',var_profit_screen_player)"
   ]
  },
  {
   "cell_type": "markdown",
   "metadata": {},
   "source": [
    "Дисперсия значительно меньше, чем для времени игры"
   ]
  },
  {
   "cell_type": "markdown",
   "metadata": {},
   "source": [
    "### Расчитаем доверительный интервал для выборки"
   ]
  },
  {
   "cell_type": "markdown",
   "metadata": {},
   "source": [
    "#### рассчитаем доверительный интервалы"
   ]
  },
  {
   "cell_type": "code",
   "execution_count": 176,
   "metadata": {},
   "outputs": [
    {
     "name": "stdout",
     "output_type": "stream",
     "text": [
      "Доверительный интервал для всей выборки  (11.682352284162578, 11.858648231567178)\n",
      "Доверительный интервал для победы проектом  (14.5498173223583, 14.74600261333302)\n",
      "Доверительный интервал для победы игрой (10.316153286810149, 10.506929477047102)\n"
     ]
    }
   ],
   "source": [
    "print('Доверительный интервал для всей выборки ', compute_ci(winner_df['event_count']))\n",
    "print('Доверительный интервал для победы проектом ', compute_ci(winner_project['event_count']))\n",
    "print('Доверительный интервал для победы игрой', compute_ci(winner_player['event_count']))"
   ]
  },
  {
   "cell_type": "markdown",
   "metadata": {},
   "source": [
    "Значения доверительного интервала очень малы, распеделения ненормальны"
   ]
  },
  {
   "cell_type": "code",
   "execution_count": 177,
   "metadata": {},
   "outputs": [
    {
     "name": "stdout",
     "output_type": "stream",
     "text": [
      "p-значение: [0.]\n",
      "Отвергаем нулевую гипотезу\n"
     ]
    }
   ],
   "source": [
    "# Зададим критический уровень статистической значимости\n",
    "alpha = 0.05    \n",
    "# проверим гипотезу о равенстве средних двух независимых совокупностей, дисперсии выборок считаем не равными\n",
    "results1 =  st.ttest_ind(\n",
    "    mean_screen_project, \n",
    "    mean_screen_player, equal_var = False)\n",
    "\n",
    " # выведем на экран получившееся p-значение)\n",
    "print('p-значение:', results1.pvalue) \n",
    "# всравним получившееся p-значение с заданным уровнем статистической значимости\n",
    "if (results1.pvalue < alpha):  \n",
    "    print(\"Отвергаем нулевую гипотезу\")\n",
    "else:\n",
    "    print(\"Не получилось отвергнуть нулевую гипотезу\") "
   ]
  },
  {
   "cell_type": "markdown",
   "metadata": {},
   "source": [
    "### Также отвергаем нулевую гипотезу, разница количества показов статистически подтверждена."
   ]
  },
  {
   "cell_type": "markdown",
   "metadata": {},
   "source": [
    "### Различие по времени игры и количеству показов экранов у победителей  уровня статистически подтверждено"
   ]
  },
  {
   "cell_type": "markdown",
   "metadata": {},
   "source": [
    "<a id=\"6\"></a>\n",
    "## 6. Общий расчет маркетинговых затрат"
   ]
  },
  {
   "cell_type": "code",
   "execution_count": 178,
   "metadata": {},
   "outputs": [
    {
     "data": {
      "text/html": [
       "<div>\n",
       "<style scoped>\n",
       "    .dataframe tbody tr th:only-of-type {\n",
       "        vertical-align: middle;\n",
       "    }\n",
       "\n",
       "    .dataframe tbody tr th {\n",
       "        vertical-align: top;\n",
       "    }\n",
       "\n",
       "    .dataframe thead th {\n",
       "        text-align: right;\n",
       "    }\n",
       "</style>\n",
       "<table border=\"1\" class=\"dataframe\">\n",
       "  <thead>\n",
       "    <tr style=\"text-align: right;\">\n",
       "      <th></th>\n",
       "      <th>user_id</th>\n",
       "      <th>date_min</th>\n",
       "      <th>date_max</th>\n",
       "      <th>gametime</th>\n",
       "      <th>event_count</th>\n",
       "    </tr>\n",
       "  </thead>\n",
       "  <tbody>\n",
       "    <tr>\n",
       "      <td>0</td>\n",
       "      <td>0001f83c-c6ac-4621-b7f0-8a28b283ac30</td>\n",
       "      <td>2020-05-06</td>\n",
       "      <td>2020-05-20</td>\n",
       "      <td>15</td>\n",
       "      <td>13</td>\n",
       "    </tr>\n",
       "    <tr>\n",
       "      <td>1</td>\n",
       "      <td>00151b4f-ba38-44a8-a650-d7cf130a0105</td>\n",
       "      <td>2020-05-06</td>\n",
       "      <td>2020-05-18</td>\n",
       "      <td>13</td>\n",
       "      <td>9</td>\n",
       "    </tr>\n",
       "    <tr>\n",
       "      <td>2</td>\n",
       "      <td>001aaea6-3d14-43f1-8ca8-7f48820f17aa</td>\n",
       "      <td>2020-05-05</td>\n",
       "      <td>2020-05-14</td>\n",
       "      <td>9</td>\n",
       "      <td>4</td>\n",
       "    </tr>\n",
       "    <tr>\n",
       "      <td>3</td>\n",
       "      <td>001d39dc-366c-4021-9604-6a3b9ff01e25</td>\n",
       "      <td>2020-05-05</td>\n",
       "      <td>2020-05-12</td>\n",
       "      <td>7</td>\n",
       "      <td>9</td>\n",
       "    </tr>\n",
       "    <tr>\n",
       "      <td>4</td>\n",
       "      <td>002f508f-67b6-479f-814b-b05f00d4e995</td>\n",
       "      <td>2020-05-05</td>\n",
       "      <td>2020-05-22</td>\n",
       "      <td>17</td>\n",
       "      <td>12</td>\n",
       "    </tr>\n",
       "  </tbody>\n",
       "</table>\n",
       "</div>"
      ],
      "text/plain": [
       "                                user_id    date_min    date_max  gametime  \\\n",
       "0  0001f83c-c6ac-4621-b7f0-8a28b283ac30  2020-05-06  2020-05-20        15   \n",
       "1  00151b4f-ba38-44a8-a650-d7cf130a0105  2020-05-06  2020-05-18        13   \n",
       "2  001aaea6-3d14-43f1-8ca8-7f48820f17aa  2020-05-05  2020-05-14         9   \n",
       "3  001d39dc-366c-4021-9604-6a3b9ff01e25  2020-05-05  2020-05-12         7   \n",
       "4  002f508f-67b6-479f-814b-b05f00d4e995  2020-05-05  2020-05-22        17   \n",
       "\n",
       "   event_count  \n",
       "0           13  \n",
       "1            9  \n",
       "2            4  \n",
       "3            9  \n",
       "4           12  "
      ]
     },
     "execution_count": 178,
     "metadata": {},
     "output_type": "execute_result"
    }
   ],
   "source": [
    "# подготовим таблицу с активностью игроков\n",
    "users_activity_all = pd.merge(user_time_all, uid_events, how = 'left', on = 'user_id')\n",
    "users_activity_all['time_min'] = users_activity_all['time_min'].dt.date\n",
    "users_activity_all['time_max'] = users_activity_all['time_max'].dt.date\n",
    "users_activity_all.rename(columns={'time_min':'date_min','time_max':'date_max'}, inplace=True)\n",
    "users_activity_all.head(5)"
   ]
  },
  {
   "cell_type": "code",
   "execution_count": 179,
   "metadata": {},
   "outputs": [
    {
     "data": {
      "text/html": [
       "<div>\n",
       "<style scoped>\n",
       "    .dataframe tbody tr th:only-of-type {\n",
       "        vertical-align: middle;\n",
       "    }\n",
       "\n",
       "    .dataframe tbody tr th {\n",
       "        vertical-align: top;\n",
       "    }\n",
       "\n",
       "    .dataframe thead th {\n",
       "        text-align: right;\n",
       "    }\n",
       "</style>\n",
       "<table border=\"1\" class=\"dataframe\">\n",
       "  <thead>\n",
       "    <tr style=\"text-align: right;\">\n",
       "      <th></th>\n",
       "      <th>user_id</th>\n",
       "      <th>date_min</th>\n",
       "      <th>date_max</th>\n",
       "      <th>gametime</th>\n",
       "      <th>event_count</th>\n",
       "      <th>source</th>\n",
       "    </tr>\n",
       "  </thead>\n",
       "  <tbody>\n",
       "    <tr>\n",
       "      <td>0</td>\n",
       "      <td>0001f83c-c6ac-4621-b7f0-8a28b283ac30</td>\n",
       "      <td>2020-05-06</td>\n",
       "      <td>2020-05-20</td>\n",
       "      <td>15</td>\n",
       "      <td>13</td>\n",
       "      <td>facebook_ads</td>\n",
       "    </tr>\n",
       "    <tr>\n",
       "      <td>1</td>\n",
       "      <td>00151b4f-ba38-44a8-a650-d7cf130a0105</td>\n",
       "      <td>2020-05-06</td>\n",
       "      <td>2020-05-18</td>\n",
       "      <td>13</td>\n",
       "      <td>9</td>\n",
       "      <td>yandex_direct</td>\n",
       "    </tr>\n",
       "    <tr>\n",
       "      <td>2</td>\n",
       "      <td>001aaea6-3d14-43f1-8ca8-7f48820f17aa</td>\n",
       "      <td>2020-05-05</td>\n",
       "      <td>2020-05-14</td>\n",
       "      <td>9</td>\n",
       "      <td>4</td>\n",
       "      <td>youtube_channel_reklama</td>\n",
       "    </tr>\n",
       "  </tbody>\n",
       "</table>\n",
       "</div>"
      ],
      "text/plain": [
       "                                user_id    date_min    date_max  gametime  \\\n",
       "0  0001f83c-c6ac-4621-b7f0-8a28b283ac30  2020-05-06  2020-05-20        15   \n",
       "1  00151b4f-ba38-44a8-a650-d7cf130a0105  2020-05-06  2020-05-18        13   \n",
       "2  001aaea6-3d14-43f1-8ca8-7f48820f17aa  2020-05-05  2020-05-14         9   \n",
       "\n",
       "   event_count                   source  \n",
       "0           13             facebook_ads  \n",
       "1            9            yandex_direct  \n",
       "2            4  youtube_channel_reklama  "
      ]
     },
     "execution_count": 179,
     "metadata": {},
     "output_type": "execute_result"
    }
   ],
   "source": [
    "# добавим источник привлечения\n",
    "users = users_activity_all.merge(user_source, on = 'user_id')\n",
    "users.head(3)"
   ]
  },
  {
   "cell_type": "code",
   "execution_count": 180,
   "metadata": {},
   "outputs": [
    {
     "data": {
      "text/html": [
       "<div>\n",
       "<style scoped>\n",
       "    .dataframe tbody tr th:only-of-type {\n",
       "        vertical-align: middle;\n",
       "    }\n",
       "\n",
       "    .dataframe tbody tr th {\n",
       "        vertical-align: top;\n",
       "    }\n",
       "\n",
       "    .dataframe thead th {\n",
       "        text-align: right;\n",
       "    }\n",
       "</style>\n",
       "<table border=\"1\" class=\"dataframe\">\n",
       "  <thead>\n",
       "    <tr style=\"text-align: right;\">\n",
       "      <th></th>\n",
       "      <th>source</th>\n",
       "      <th>user_id</th>\n",
       "      <th>event_count</th>\n",
       "    </tr>\n",
       "  </thead>\n",
       "  <tbody>\n",
       "    <tr>\n",
       "      <td>0</td>\n",
       "      <td>facebook_ads</td>\n",
       "      <td>2726</td>\n",
       "      <td>27672</td>\n",
       "    </tr>\n",
       "    <tr>\n",
       "      <td>1</td>\n",
       "      <td>instagram_new_adverts</td>\n",
       "      <td>3347</td>\n",
       "      <td>33757</td>\n",
       "    </tr>\n",
       "    <tr>\n",
       "      <td>2</td>\n",
       "      <td>yandex_direct</td>\n",
       "      <td>4817</td>\n",
       "      <td>47694</td>\n",
       "    </tr>\n",
       "    <tr>\n",
       "      <td>3</td>\n",
       "      <td>youtube_channel_reklama</td>\n",
       "      <td>2686</td>\n",
       "      <td>26516</td>\n",
       "    </tr>\n",
       "  </tbody>\n",
       "</table>\n",
       "</div>"
      ],
      "text/plain": [
       "                    source  user_id  event_count\n",
       "0             facebook_ads     2726        27672\n",
       "1    instagram_new_adverts     3347        33757\n",
       "2            yandex_direct     4817        47694\n",
       "3  youtube_channel_reklama     2686        26516"
      ]
     },
     "execution_count": 180,
     "metadata": {},
     "output_type": "execute_result"
    }
   ],
   "source": [
    "# посчитаем пользователей и их события по источникам\n",
    "source = users.groupby('source').agg({'user_id':'nunique','event_count':'sum'}).reset_index()\n",
    "source"
   ]
  },
  {
   "cell_type": "code",
   "execution_count": 181,
   "metadata": {},
   "outputs": [
    {
     "data": {
      "text/html": [
       "<div>\n",
       "<style scoped>\n",
       "    .dataframe tbody tr th:only-of-type {\n",
       "        vertical-align: middle;\n",
       "    }\n",
       "\n",
       "    .dataframe tbody tr th {\n",
       "        vertical-align: top;\n",
       "    }\n",
       "\n",
       "    .dataframe thead th {\n",
       "        text-align: right;\n",
       "    }\n",
       "</style>\n",
       "<table border=\"1\" class=\"dataframe\">\n",
       "  <thead>\n",
       "    <tr style=\"text-align: right;\">\n",
       "      <th></th>\n",
       "      <th>day</th>\n",
       "      <th>source</th>\n",
       "      <th>cost</th>\n",
       "    </tr>\n",
       "  </thead>\n",
       "  <tbody>\n",
       "    <tr>\n",
       "      <td>2</td>\n",
       "      <td>2020-05-03</td>\n",
       "      <td>yandex_direct</td>\n",
       "      <td>969.139394</td>\n",
       "    </tr>\n",
       "    <tr>\n",
       "      <td>1</td>\n",
       "      <td>2020-05-03</td>\n",
       "      <td>instagram_new_adverts</td>\n",
       "      <td>943.204717</td>\n",
       "    </tr>\n",
       "    <tr>\n",
       "      <td>0</td>\n",
       "      <td>2020-05-03</td>\n",
       "      <td>facebook_ads</td>\n",
       "      <td>935.882786</td>\n",
       "    </tr>\n",
       "    <tr>\n",
       "      <td>6</td>\n",
       "      <td>2020-05-04</td>\n",
       "      <td>yandex_direct</td>\n",
       "      <td>554.651494</td>\n",
       "    </tr>\n",
       "    <tr>\n",
       "      <td>4</td>\n",
       "      <td>2020-05-04</td>\n",
       "      <td>facebook_ads</td>\n",
       "      <td>548.354480</td>\n",
       "    </tr>\n",
       "  </tbody>\n",
       "</table>\n",
       "</div>"
      ],
      "text/plain": [
       "          day                 source        cost\n",
       "2  2020-05-03          yandex_direct  969.139394\n",
       "1  2020-05-03  instagram_new_adverts  943.204717\n",
       "0  2020-05-03           facebook_ads  935.882786\n",
       "6  2020-05-04          yandex_direct  554.651494\n",
       "4  2020-05-04           facebook_ads  548.354480"
      ]
     },
     "execution_count": 181,
     "metadata": {},
     "output_type": "execute_result"
    }
   ],
   "source": [
    "# посчитаем сумму трат и источникам по дням\n",
    "day_source = ad_costs.groupby(['day','source']).sum().reset_index().sort_values('cost', ascending = False)\n",
    "day_source.head(5)"
   ]
  },
  {
   "cell_type": "code",
   "execution_count": 182,
   "metadata": {
    "scrolled": false
   },
   "outputs": [
    {
     "data": {
      "image/png": "[encoded data removed]",
      "text/plain": [
       "<Figure size 1152x648 with 1 Axes>"
      ]
     },
     "metadata": {},
     "output_type": "display_data"
    }
   ],
   "source": [
    "# рассмотрим затраты по дням\n",
    "plt.figure(figsize=(16,9))\n",
    "ax = sns.barplot(x='day', y = 'cost', hue = 'source',   data=day_source)\n",
    "ax.set_ylabel('Сумма')\n",
    "ax.set_xlabel('Дни')\n",
    "ax.set_title('Маркетинговые затраты по дням')\n",
    "plt.xticks(rotation=45)\n",
    "plt.show()"
   ]
  },
  {
   "cell_type": "markdown",
   "metadata": {},
   "source": [
    "#### Маркетинговые траты снижались от начала исследуемого периода, как и кол-во новых пользователей   \n",
    "\n"
   ]
  },
  {
   "cell_type": "code",
   "execution_count": 183,
   "metadata": {
    "scrolled": true
   },
   "outputs": [
    {
     "data": {
      "text/html": [
       "<div>\n",
       "<style scoped>\n",
       "    .dataframe tbody tr th:only-of-type {\n",
       "        vertical-align: middle;\n",
       "    }\n",
       "\n",
       "    .dataframe tbody tr th {\n",
       "        vertical-align: top;\n",
       "    }\n",
       "\n",
       "    .dataframe thead th {\n",
       "        text-align: right;\n",
       "    }\n",
       "</style>\n",
       "<table border=\"1\" class=\"dataframe\">\n",
       "  <thead>\n",
       "    <tr style=\"text-align: right;\">\n",
       "      <th></th>\n",
       "      <th>source</th>\n",
       "      <th>cost</th>\n",
       "    </tr>\n",
       "  </thead>\n",
       "  <tbody>\n",
       "    <tr>\n",
       "      <td>0</td>\n",
       "      <td>facebook_ads</td>\n",
       "      <td>2140.904643</td>\n",
       "    </tr>\n",
       "    <tr>\n",
       "      <td>1</td>\n",
       "      <td>instagram_new_adverts</td>\n",
       "      <td>2161.441691</td>\n",
       "    </tr>\n",
       "    <tr>\n",
       "      <td>2</td>\n",
       "      <td>yandex_direct</td>\n",
       "      <td>2233.111449</td>\n",
       "    </tr>\n",
       "    <tr>\n",
       "      <td>3</td>\n",
       "      <td>youtube_channel_reklama</td>\n",
       "      <td>1068.119204</td>\n",
       "    </tr>\n",
       "  </tbody>\n",
       "</table>\n",
       "</div>"
      ],
      "text/plain": [
       "                    source         cost\n",
       "0             facebook_ads  2140.904643\n",
       "1    instagram_new_adverts  2161.441691\n",
       "2            yandex_direct  2233.111449\n",
       "3  youtube_channel_reklama  1068.119204"
      ]
     },
     "execution_count": 183,
     "metadata": {},
     "output_type": "execute_result"
    }
   ],
   "source": [
    "# распределение по источникам\n",
    "source_cost = ad_costs.groupby('source').agg({'cost':'sum'}).reset_index()\n",
    "source_cost"
   ]
  },
  {
   "cell_type": "code",
   "execution_count": 184,
   "metadata": {
    "scrolled": false
   },
   "outputs": [
    {
     "data": {
      "image/png": "[encoded data removed]",
      "text/plain": [
       "<Figure size 720x720 with 1 Axes>"
      ]
     },
     "metadata": {},
     "output_type": "display_data"
    }
   ],
   "source": [
    "labels = source_cost['source']\n",
    "source_cost.plot(y='cost', kind = 'pie', autopct='%.1f',  figsize = (10,10), \n",
    "         title = 'Маркетинговые затраты по источникам' ,\n",
    "            labels = labels)\n",
    "plt.show()"
   ]
  },
  {
   "cell_type": "markdown",
   "metadata": {},
   "source": [
    "#### Три примерно равне части бюджета составлют Инст, Фейсбук и Яндекс, 14 % у Ютьюба"
   ]
  },
  {
   "cell_type": "code",
   "execution_count": 185,
   "metadata": {},
   "outputs": [
    {
     "data": {
      "text/html": [
       "<div>\n",
       "<style scoped>\n",
       "    .dataframe tbody tr th:only-of-type {\n",
       "        vertical-align: middle;\n",
       "    }\n",
       "\n",
       "    .dataframe tbody tr th {\n",
       "        vertical-align: top;\n",
       "    }\n",
       "\n",
       "    .dataframe thead th {\n",
       "        text-align: right;\n",
       "    }\n",
       "</style>\n",
       "<table border=\"1\" class=\"dataframe\">\n",
       "  <thead>\n",
       "    <tr style=\"text-align: right;\">\n",
       "      <th></th>\n",
       "      <th>source</th>\n",
       "      <th>user_id</th>\n",
       "      <th>event_count</th>\n",
       "      <th>cost</th>\n",
       "    </tr>\n",
       "  </thead>\n",
       "  <tbody>\n",
       "    <tr>\n",
       "      <td>0</td>\n",
       "      <td>facebook_ads</td>\n",
       "      <td>2726</td>\n",
       "      <td>27672</td>\n",
       "      <td>2140.904643</td>\n",
       "    </tr>\n",
       "    <tr>\n",
       "      <td>1</td>\n",
       "      <td>instagram_new_adverts</td>\n",
       "      <td>3347</td>\n",
       "      <td>33757</td>\n",
       "      <td>2161.441691</td>\n",
       "    </tr>\n",
       "    <tr>\n",
       "      <td>2</td>\n",
       "      <td>yandex_direct</td>\n",
       "      <td>4817</td>\n",
       "      <td>47694</td>\n",
       "      <td>2233.111449</td>\n",
       "    </tr>\n",
       "    <tr>\n",
       "      <td>3</td>\n",
       "      <td>youtube_channel_reklama</td>\n",
       "      <td>2686</td>\n",
       "      <td>26516</td>\n",
       "      <td>1068.119204</td>\n",
       "    </tr>\n",
       "  </tbody>\n",
       "</table>\n",
       "</div>"
      ],
      "text/plain": [
       "                    source  user_id  event_count         cost\n",
       "0             facebook_ads     2726        27672  2140.904643\n",
       "1    instagram_new_adverts     3347        33757  2161.441691\n",
       "2            yandex_direct     4817        47694  2233.111449\n",
       "3  youtube_channel_reklama     2686        26516  1068.119204"
      ]
     },
     "execution_count": 185,
     "metadata": {},
     "output_type": "execute_result"
    }
   ],
   "source": [
    "source = source.merge(source_cost, on = 'source')\n",
    "source"
   ]
  },
  {
   "cell_type": "code",
   "execution_count": 186,
   "metadata": {
    "scrolled": false
   },
   "outputs": [
    {
     "data": {
      "text/html": [
       "<div>\n",
       "<style scoped>\n",
       "    .dataframe tbody tr th:only-of-type {\n",
       "        vertical-align: middle;\n",
       "    }\n",
       "\n",
       "    .dataframe tbody tr th {\n",
       "        vertical-align: top;\n",
       "    }\n",
       "\n",
       "    .dataframe thead th {\n",
       "        text-align: right;\n",
       "    }\n",
       "</style>\n",
       "<table border=\"1\" class=\"dataframe\">\n",
       "  <thead>\n",
       "    <tr style=\"text-align: right;\">\n",
       "      <th></th>\n",
       "      <th>source</th>\n",
       "      <th>user_id</th>\n",
       "      <th>event_count</th>\n",
       "      <th>cost</th>\n",
       "      <th>cost_screen</th>\n",
       "      <th>user_cost</th>\n",
       "      <th>scr_per_user</th>\n",
       "    </tr>\n",
       "  </thead>\n",
       "  <tbody>\n",
       "    <tr>\n",
       "      <td>0</td>\n",
       "      <td>facebook_ads</td>\n",
       "      <td>2726</td>\n",
       "      <td>27672</td>\n",
       "      <td>2140.904643</td>\n",
       "      <td>0.077367</td>\n",
       "      <td>0.785365</td>\n",
       "      <td>10.151137</td>\n",
       "    </tr>\n",
       "    <tr>\n",
       "      <td>1</td>\n",
       "      <td>instagram_new_adverts</td>\n",
       "      <td>3347</td>\n",
       "      <td>33757</td>\n",
       "      <td>2161.441691</td>\n",
       "      <td>0.064029</td>\n",
       "      <td>0.645785</td>\n",
       "      <td>10.085748</td>\n",
       "    </tr>\n",
       "    <tr>\n",
       "      <td>2</td>\n",
       "      <td>yandex_direct</td>\n",
       "      <td>4817</td>\n",
       "      <td>47694</td>\n",
       "      <td>2233.111449</td>\n",
       "      <td>0.046822</td>\n",
       "      <td>0.463590</td>\n",
       "      <td>9.901183</td>\n",
       "    </tr>\n",
       "    <tr>\n",
       "      <td>3</td>\n",
       "      <td>youtube_channel_reklama</td>\n",
       "      <td>2686</td>\n",
       "      <td>26516</td>\n",
       "      <td>1068.119204</td>\n",
       "      <td>0.040282</td>\n",
       "      <td>0.397662</td>\n",
       "      <td>9.871929</td>\n",
       "    </tr>\n",
       "  </tbody>\n",
       "</table>\n",
       "</div>"
      ],
      "text/plain": [
       "                    source  user_id  event_count         cost  cost_screen  \\\n",
       "0             facebook_ads     2726        27672  2140.904643     0.077367   \n",
       "1    instagram_new_adverts     3347        33757  2161.441691     0.064029   \n",
       "2            yandex_direct     4817        47694  2233.111449     0.046822   \n",
       "3  youtube_channel_reklama     2686        26516  1068.119204     0.040282   \n",
       "\n",
       "   user_cost  scr_per_user  \n",
       "0   0.785365     10.151137  \n",
       "1   0.645785     10.085748  \n",
       "2   0.463590      9.901183  \n",
       "3   0.397662      9.871929  "
      ]
     },
     "execution_count": 186,
     "metadata": {},
     "output_type": "execute_result"
    }
   ],
   "source": [
    "#посчитаем стоимость показа одного игрока, одного экрана и сколько раз нужно показывать экран, чтобы окупить стоимость\n",
    "source['cost_screen'] = source['cost']/source['event_count']\n",
    "source['user_cost'] = source['cost']/source['user_id']\n",
    "source['scr_per_user'] = source['event_count']/source['user_id']\n",
    "source"
   ]
  },
  {
   "cell_type": "code",
   "execution_count": 187,
   "metadata": {
    "scrolled": true
   },
   "outputs": [
    {
     "name": "stdout",
     "output_type": "stream",
     "text": [
      "Среденее минимальная стоимость показа экрана для окупаемости: 0.06\n"
     ]
    }
   ],
   "source": [
    "avg_screen_cost = source['user_cost'].mean()/source['scr_per_user'].mean()\n",
    "print('Среденее минимальная стоимость показа экрана для окупаемости: {:.2f}'.format(avg_screen_cost))"
   ]
  },
  {
   "cell_type": "markdown",
   "metadata": {},
   "source": [
    "### Это очень важное число, от него нужно опираться для определения стоимости показа рекламы"
   ]
  },
  {
   "cell_type": "code",
   "execution_count": 189,
   "metadata": {},
   "outputs": [],
   "source": [
    "s = source[['source','cost_screen','user_cost']]"
   ]
  },
  {
   "cell_type": "code",
   "execution_count": 190,
   "metadata": {},
   "outputs": [],
   "source": [
    "st = s.melt(id_vars='source')"
   ]
  },
  {
   "cell_type": "code",
   "execution_count": 191,
   "metadata": {},
   "outputs": [
    {
     "data": {
      "text/html": [
       "<div>\n",
       "<style scoped>\n",
       "    .dataframe tbody tr th:only-of-type {\n",
       "        vertical-align: middle;\n",
       "    }\n",
       "\n",
       "    .dataframe tbody tr th {\n",
       "        vertical-align: top;\n",
       "    }\n",
       "\n",
       "    .dataframe thead th {\n",
       "        text-align: right;\n",
       "    }\n",
       "</style>\n",
       "<table border=\"1\" class=\"dataframe\">\n",
       "  <thead>\n",
       "    <tr style=\"text-align: right;\">\n",
       "      <th></th>\n",
       "      <th>source</th>\n",
       "      <th>variable</th>\n",
       "      <th>value</th>\n",
       "    </tr>\n",
       "  </thead>\n",
       "  <tbody>\n",
       "    <tr>\n",
       "      <td>0</td>\n",
       "      <td>facebook_ads</td>\n",
       "      <td>cost_screen</td>\n",
       "      <td>0.077367</td>\n",
       "    </tr>\n",
       "    <tr>\n",
       "      <td>1</td>\n",
       "      <td>instagram_new_adverts</td>\n",
       "      <td>cost_screen</td>\n",
       "      <td>0.064029</td>\n",
       "    </tr>\n",
       "    <tr>\n",
       "      <td>2</td>\n",
       "      <td>yandex_direct</td>\n",
       "      <td>cost_screen</td>\n",
       "      <td>0.046822</td>\n",
       "    </tr>\n",
       "    <tr>\n",
       "      <td>3</td>\n",
       "      <td>youtube_channel_reklama</td>\n",
       "      <td>cost_screen</td>\n",
       "      <td>0.040282</td>\n",
       "    </tr>\n",
       "    <tr>\n",
       "      <td>4</td>\n",
       "      <td>facebook_ads</td>\n",
       "      <td>user_cost</td>\n",
       "      <td>0.785365</td>\n",
       "    </tr>\n",
       "    <tr>\n",
       "      <td>5</td>\n",
       "      <td>instagram_new_adverts</td>\n",
       "      <td>user_cost</td>\n",
       "      <td>0.645785</td>\n",
       "    </tr>\n",
       "    <tr>\n",
       "      <td>6</td>\n",
       "      <td>yandex_direct</td>\n",
       "      <td>user_cost</td>\n",
       "      <td>0.463590</td>\n",
       "    </tr>\n",
       "    <tr>\n",
       "      <td>7</td>\n",
       "      <td>youtube_channel_reklama</td>\n",
       "      <td>user_cost</td>\n",
       "      <td>0.397662</td>\n",
       "    </tr>\n",
       "  </tbody>\n",
       "</table>\n",
       "</div>"
      ],
      "text/plain": [
       "                    source     variable     value\n",
       "0             facebook_ads  cost_screen  0.077367\n",
       "1    instagram_new_adverts  cost_screen  0.064029\n",
       "2            yandex_direct  cost_screen  0.046822\n",
       "3  youtube_channel_reklama  cost_screen  0.040282\n",
       "4             facebook_ads    user_cost  0.785365\n",
       "5    instagram_new_adverts    user_cost  0.645785\n",
       "6            yandex_direct    user_cost  0.463590\n",
       "7  youtube_channel_reklama    user_cost  0.397662"
      ]
     },
     "execution_count": 191,
     "metadata": {},
     "output_type": "execute_result"
    }
   ],
   "source": [
    "st"
   ]
  },
  {
   "cell_type": "code",
   "execution_count": 192,
   "metadata": {
    "scrolled": false
   },
   "outputs": [
    {
     "data": {
      "image/png": "[encoded data removed]",
      "text/plain": [
       "<Figure size 720x360 with 1 Axes>"
      ]
     },
     "metadata": {},
     "output_type": "display_data"
    }
   ],
   "source": [
    "# график стоимости привлечения юзера и стоимость показа экрана \n",
    "plt.figure(figsize=(10,5))\n",
    "ax = sns.barplot(x='source', y='value', hue='variable', data=st)\n",
    "ax.set_ylabel('Сумма')\n",
    "ax.set_xlabel('Дни')\n",
    "ax.set_title('Маркетинговая модель затрат')\n",
    "#plt.xticks(rotation=45)\n",
    "plt.show()"
   ]
  },
  {
   "cell_type": "markdown",
   "metadata": {},
   "source": [
    "Стоимость экрана составляет примерно 1/10 стоимости привлечения игроков при текущем состоянии приложения\n",
    "т/е при расчете модели один новый игрок должен стоить не более дохода от 10 рекламных экранов. Или от обратного, реклама должна приносить не менее 1/10 стоимости привлечения нового игрока"
   ]
  },
  {
   "cell_type": "markdown",
   "metadata": {},
   "source": [
    "<a id=\"7\"></a>\n",
    "## 7. Когортный анализ"
   ]
  },
  {
   "cell_type": "code",
   "execution_count": 193,
   "metadata": {},
   "outputs": [
    {
     "name": "stdout",
     "output_type": "stream",
     "text": [
      "<class 'pandas.core.frame.DataFrame'>\n",
      "RangeIndex: 135639 entries, 0 to 135638\n",
      "Data columns (total 2 columns):\n",
      "event_datetime    135639 non-null datetime64[ns]\n",
      "user_id           135639 non-null object\n",
      "dtypes: datetime64[ns](1), object(1)\n",
      "memory usage: 2.1+ MB\n"
     ]
    }
   ],
   "source": [
    "#сделаем отдельный датафрейм с необходимой информацией\n",
    "user_activity = events[['event_datetime','user_id']]\n",
    "#приведем информацию о времени в формат datatime\n",
    "user_activity['event_datetime'] = pd.to_datetime(user_activity['event_datetime'])\n",
    "\n",
    "user_activity.info()"
   ]
  },
  {
   "cell_type": "code",
   "execution_count": 194,
   "metadata": {},
   "outputs": [],
   "source": [
    "#выделим первое время активности и добавим его в таблицу\n",
    "first_activity_date = user_activity.groupby(['user_id'])['event_datetime'].min()\n",
    "first_activity_date.name = 'first_session_date'\n",
    "user_activity = user_activity.merge(first_activity_date,on='user_id')\n"
   ]
  },
  {
   "cell_type": "code",
   "execution_count": 195,
   "metadata": {},
   "outputs": [
    {
     "data": {
      "text/html": [
       "<div>\n",
       "<style scoped>\n",
       "    .dataframe tbody tr th:only-of-type {\n",
       "        vertical-align: middle;\n",
       "    }\n",
       "\n",
       "    .dataframe tbody tr th {\n",
       "        vertical-align: top;\n",
       "    }\n",
       "\n",
       "    .dataframe thead th {\n",
       "        text-align: right;\n",
       "    }\n",
       "</style>\n",
       "<table border=\"1\" class=\"dataframe\">\n",
       "  <thead>\n",
       "    <tr style=\"text-align: right;\">\n",
       "      <th></th>\n",
       "      <th>event_datetime</th>\n",
       "      <th>user_id</th>\n",
       "      <th>first_session_date</th>\n",
       "      <th>first_session_week</th>\n",
       "      <th>session_date</th>\n",
       "    </tr>\n",
       "  </thead>\n",
       "  <tbody>\n",
       "    <tr>\n",
       "      <td>0</td>\n",
       "      <td>2020-05-04 00:00:01</td>\n",
       "      <td>55e92310-cb8e-4754-b622-597e124b03de</td>\n",
       "      <td>2020-05-04</td>\n",
       "      <td>19</td>\n",
       "      <td>2020-05-04</td>\n",
       "    </tr>\n",
       "    <tr>\n",
       "      <td>1</td>\n",
       "      <td>2020-05-05 05:20:15</td>\n",
       "      <td>55e92310-cb8e-4754-b622-597e124b03de</td>\n",
       "      <td>2020-05-04</td>\n",
       "      <td>19</td>\n",
       "      <td>2020-05-05</td>\n",
       "    </tr>\n",
       "    <tr>\n",
       "      <td>2</td>\n",
       "      <td>2020-05-05 19:24:02</td>\n",
       "      <td>55e92310-cb8e-4754-b622-597e124b03de</td>\n",
       "      <td>2020-05-04</td>\n",
       "      <td>19</td>\n",
       "      <td>2020-05-05</td>\n",
       "    </tr>\n",
       "    <tr>\n",
       "      <td>3</td>\n",
       "      <td>2020-05-05 20:59:19</td>\n",
       "      <td>55e92310-cb8e-4754-b622-597e124b03de</td>\n",
       "      <td>2020-05-04</td>\n",
       "      <td>19</td>\n",
       "      <td>2020-05-05</td>\n",
       "    </tr>\n",
       "    <tr>\n",
       "      <td>4</td>\n",
       "      <td>2020-05-06 00:52:56</td>\n",
       "      <td>55e92310-cb8e-4754-b622-597e124b03de</td>\n",
       "      <td>2020-05-04</td>\n",
       "      <td>19</td>\n",
       "      <td>2020-05-06</td>\n",
       "    </tr>\n",
       "    <tr>\n",
       "      <td>...</td>\n",
       "      <td>...</td>\n",
       "      <td>...</td>\n",
       "      <td>...</td>\n",
       "      <td>...</td>\n",
       "      <td>...</td>\n",
       "    </tr>\n",
       "    <tr>\n",
       "      <td>135634</td>\n",
       "      <td>2020-05-13 23:56:39</td>\n",
       "      <td>cafd1b8b-507b-49ae-abf0-89fe863a8b03</td>\n",
       "      <td>2020-05-10</td>\n",
       "      <td>19</td>\n",
       "      <td>2020-05-13</td>\n",
       "    </tr>\n",
       "    <tr>\n",
       "      <td>135635</td>\n",
       "      <td>2020-05-18 00:23:28</td>\n",
       "      <td>cafd1b8b-507b-49ae-abf0-89fe863a8b03</td>\n",
       "      <td>2020-05-10</td>\n",
       "      <td>19</td>\n",
       "      <td>2020-05-18</td>\n",
       "    </tr>\n",
       "    <tr>\n",
       "      <td>135636</td>\n",
       "      <td>2020-05-10 23:59:52</td>\n",
       "      <td>bdc53e19-462a-4dc3-8b55-b4a34278af6a</td>\n",
       "      <td>2020-05-10</td>\n",
       "      <td>19</td>\n",
       "      <td>2020-05-10</td>\n",
       "    </tr>\n",
       "    <tr>\n",
       "      <td>135637</td>\n",
       "      <td>2020-05-13 08:11:19</td>\n",
       "      <td>bdc53e19-462a-4dc3-8b55-b4a34278af6a</td>\n",
       "      <td>2020-05-10</td>\n",
       "      <td>19</td>\n",
       "      <td>2020-05-13</td>\n",
       "    </tr>\n",
       "    <tr>\n",
       "      <td>135638</td>\n",
       "      <td>2020-05-18 11:11:11</td>\n",
       "      <td>bdc53e19-462a-4dc3-8b55-b4a34278af6a</td>\n",
       "      <td>2020-05-10</td>\n",
       "      <td>19</td>\n",
       "      <td>2020-05-18</td>\n",
       "    </tr>\n",
       "  </tbody>\n",
       "</table>\n",
       "<p>135639 rows × 5 columns</p>\n",
       "</div>"
      ],
      "text/plain": [
       "            event_datetime                               user_id  \\\n",
       "0      2020-05-04 00:00:01  55e92310-cb8e-4754-b622-597e124b03de   \n",
       "1      2020-05-05 05:20:15  55e92310-cb8e-4754-b622-597e124b03de   \n",
       "2      2020-05-05 19:24:02  55e92310-cb8e-4754-b622-597e124b03de   \n",
       "3      2020-05-05 20:59:19  55e92310-cb8e-4754-b622-597e124b03de   \n",
       "4      2020-05-06 00:52:56  55e92310-cb8e-4754-b622-597e124b03de   \n",
       "...                    ...                                   ...   \n",
       "135634 2020-05-13 23:56:39  cafd1b8b-507b-49ae-abf0-89fe863a8b03   \n",
       "135635 2020-05-18 00:23:28  cafd1b8b-507b-49ae-abf0-89fe863a8b03   \n",
       "135636 2020-05-10 23:59:52  bdc53e19-462a-4dc3-8b55-b4a34278af6a   \n",
       "135637 2020-05-13 08:11:19  bdc53e19-462a-4dc3-8b55-b4a34278af6a   \n",
       "135638 2020-05-18 11:11:11  bdc53e19-462a-4dc3-8b55-b4a34278af6a   \n",
       "\n",
       "       first_session_date  first_session_week session_date  \n",
       "0              2020-05-04                  19   2020-05-04  \n",
       "1              2020-05-04                  19   2020-05-05  \n",
       "2              2020-05-04                  19   2020-05-05  \n",
       "3              2020-05-04                  19   2020-05-05  \n",
       "4              2020-05-04                  19   2020-05-06  \n",
       "...                   ...                 ...          ...  \n",
       "135634         2020-05-10                  19   2020-05-13  \n",
       "135635         2020-05-10                  19   2020-05-18  \n",
       "135636         2020-05-10                  19   2020-05-10  \n",
       "135637         2020-05-10                  19   2020-05-13  \n",
       "135638         2020-05-10                  19   2020-05-18  \n",
       "\n",
       "[135639 rows x 5 columns]"
      ]
     },
     "execution_count": 195,
     "metadata": {},
     "output_type": "execute_result"
    }
   ],
   "source": [
    "# округлим до месяцев даты сессий\n",
    "user_activity['first_session_date'] = user_activity['first_session_date'].astype('datetime64[D]')\n",
    "user_activity['first_session_week'] = user_activity['first_session_date'].dt.week\n",
    "user_activity['session_date'] = user_activity['event_datetime'].astype('datetime64[D]')\n",
    "user_activity"
   ]
  },
  {
   "cell_type": "code",
   "execution_count": 196,
   "metadata": {},
   "outputs": [
    {
     "data": {
      "text/html": [
       "<div>\n",
       "<style scoped>\n",
       "    .dataframe tbody tr th:only-of-type {\n",
       "        vertical-align: middle;\n",
       "    }\n",
       "\n",
       "    .dataframe tbody tr th {\n",
       "        vertical-align: top;\n",
       "    }\n",
       "\n",
       "    .dataframe thead th {\n",
       "        text-align: right;\n",
       "    }\n",
       "</style>\n",
       "<table border=\"1\" class=\"dataframe\">\n",
       "  <thead>\n",
       "    <tr style=\"text-align: right;\">\n",
       "      <th></th>\n",
       "      <th>event_datetime</th>\n",
       "      <th>user_id</th>\n",
       "      <th>first_session_date</th>\n",
       "      <th>first_session_week</th>\n",
       "      <th>session_date</th>\n",
       "      <th>cohort_lifetime</th>\n",
       "    </tr>\n",
       "  </thead>\n",
       "  <tbody>\n",
       "    <tr>\n",
       "      <td>98808</td>\n",
       "      <td>2020-05-05 23:52:12</td>\n",
       "      <td>ebe9f1ef-7122-4838-bde2-aefd140f3994</td>\n",
       "      <td>2020-05-05</td>\n",
       "      <td>19</td>\n",
       "      <td>2020-05-05</td>\n",
       "      <td>0</td>\n",
       "    </tr>\n",
       "    <tr>\n",
       "      <td>17796</td>\n",
       "      <td>2020-05-04 14:23:49</td>\n",
       "      <td>4223e42d-c885-4c64-a604-8a584163b9dc</td>\n",
       "      <td>2020-05-04</td>\n",
       "      <td>19</td>\n",
       "      <td>2020-05-04</td>\n",
       "      <td>0</td>\n",
       "    </tr>\n",
       "    <tr>\n",
       "      <td>10283</td>\n",
       "      <td>2020-05-10 07:13:45</td>\n",
       "      <td>221e7e5c-c383-4c93-909a-62f58bbdb8ca</td>\n",
       "      <td>2020-05-04</td>\n",
       "      <td>19</td>\n",
       "      <td>2020-05-10</td>\n",
       "      <td>6</td>\n",
       "    </tr>\n",
       "    <tr>\n",
       "      <td>62878</td>\n",
       "      <td>2020-05-19 14:11:11</td>\n",
       "      <td>77d97ab7-795c-4a10-9b24-e29ebdabd911</td>\n",
       "      <td>2020-05-04</td>\n",
       "      <td>19</td>\n",
       "      <td>2020-05-19</td>\n",
       "      <td>15</td>\n",
       "    </tr>\n",
       "    <tr>\n",
       "      <td>134187</td>\n",
       "      <td>2020-05-23 13:19:13</td>\n",
       "      <td>8ba7e4a9-4b4c-422b-9f2b-4b8ddaffa1e3</td>\n",
       "      <td>2020-05-10</td>\n",
       "      <td>19</td>\n",
       "      <td>2020-05-23</td>\n",
       "      <td>13</td>\n",
       "    </tr>\n",
       "    <tr>\n",
       "      <td>65267</td>\n",
       "      <td>2020-05-12 14:38:00</td>\n",
       "      <td>fd1fd00b-e610-46f7-9459-65cc0e8e3b05</td>\n",
       "      <td>2020-05-05</td>\n",
       "      <td>19</td>\n",
       "      <td>2020-05-12</td>\n",
       "      <td>7</td>\n",
       "    </tr>\n",
       "    <tr>\n",
       "      <td>52614</td>\n",
       "      <td>2020-05-10 13:04:55</td>\n",
       "      <td>bca1b0a3-cf1e-4735-99a5-7181d32bc66a</td>\n",
       "      <td>2020-05-04</td>\n",
       "      <td>19</td>\n",
       "      <td>2020-05-10</td>\n",
       "      <td>6</td>\n",
       "    </tr>\n",
       "    <tr>\n",
       "      <td>61817</td>\n",
       "      <td>2020-05-10 00:01:26</td>\n",
       "      <td>1d1cbbb8-cf16-46a8-b6d8-90c6501c5a21</td>\n",
       "      <td>2020-05-04</td>\n",
       "      <td>19</td>\n",
       "      <td>2020-05-10</td>\n",
       "      <td>6</td>\n",
       "    </tr>\n",
       "    <tr>\n",
       "      <td>82438</td>\n",
       "      <td>2020-05-09 22:18:59</td>\n",
       "      <td>8872d521-27c1-4326-8fb5-fe307fe5ea97</td>\n",
       "      <td>2020-05-05</td>\n",
       "      <td>19</td>\n",
       "      <td>2020-05-09</td>\n",
       "      <td>4</td>\n",
       "    </tr>\n",
       "    <tr>\n",
       "      <td>21578</td>\n",
       "      <td>2020-05-04 06:42:36</td>\n",
       "      <td>ae1b890c-39f7-4ef9-afae-34bf401c2b15</td>\n",
       "      <td>2020-05-04</td>\n",
       "      <td>19</td>\n",
       "      <td>2020-05-04</td>\n",
       "      <td>0</td>\n",
       "    </tr>\n",
       "  </tbody>\n",
       "</table>\n",
       "</div>"
      ],
      "text/plain": [
       "            event_datetime                               user_id  \\\n",
       "98808  2020-05-05 23:52:12  ebe9f1ef-7122-4838-bde2-aefd140f3994   \n",
       "17796  2020-05-04 14:23:49  4223e42d-c885-4c64-a604-8a584163b9dc   \n",
       "10283  2020-05-10 07:13:45  221e7e5c-c383-4c93-909a-62f58bbdb8ca   \n",
       "62878  2020-05-19 14:11:11  77d97ab7-795c-4a10-9b24-e29ebdabd911   \n",
       "134187 2020-05-23 13:19:13  8ba7e4a9-4b4c-422b-9f2b-4b8ddaffa1e3   \n",
       "65267  2020-05-12 14:38:00  fd1fd00b-e610-46f7-9459-65cc0e8e3b05   \n",
       "52614  2020-05-10 13:04:55  bca1b0a3-cf1e-4735-99a5-7181d32bc66a   \n",
       "61817  2020-05-10 00:01:26  1d1cbbb8-cf16-46a8-b6d8-90c6501c5a21   \n",
       "82438  2020-05-09 22:18:59  8872d521-27c1-4326-8fb5-fe307fe5ea97   \n",
       "21578  2020-05-04 06:42:36  ae1b890c-39f7-4ef9-afae-34bf401c2b15   \n",
       "\n",
       "       first_session_date  first_session_week session_date  cohort_lifetime  \n",
       "98808          2020-05-05                  19   2020-05-05                0  \n",
       "17796          2020-05-04                  19   2020-05-04                0  \n",
       "10283          2020-05-04                  19   2020-05-10                6  \n",
       "62878          2020-05-04                  19   2020-05-19               15  \n",
       "134187         2020-05-10                  19   2020-05-23               13  \n",
       "65267          2020-05-05                  19   2020-05-12                7  \n",
       "52614          2020-05-04                  19   2020-05-10                6  \n",
       "61817          2020-05-04                  19   2020-05-10                6  \n",
       "82438          2020-05-05                  19   2020-05-09                4  \n",
       "21578          2020-05-04                  19   2020-05-04                0  "
      ]
     },
     "execution_count": 196,
     "metadata": {},
     "output_type": "execute_result"
    }
   ],
   "source": [
    "#найдем лайфтайм когорты\n",
    "user_activity['cohort_lifetime'] = user_activity['session_date'] - user_activity['first_session_date']\n",
    "user_activity['cohort_lifetime'] = user_activity['cohort_lifetime'] / np.timedelta64(1,'D')\n",
    "user_activity['cohort_lifetime'] = user_activity['cohort_lifetime'].round().astype('int')\n",
    "user_activity.sample(10)"
   ]
  },
  {
   "cell_type": "code",
   "execution_count": 197,
   "metadata": {},
   "outputs": [
    {
     "data": {
      "text/html": [
       "<div>\n",
       "<style scoped>\n",
       "    .dataframe tbody tr th:only-of-type {\n",
       "        vertical-align: middle;\n",
       "    }\n",
       "\n",
       "    .dataframe tbody tr th {\n",
       "        vertical-align: top;\n",
       "    }\n",
       "\n",
       "    .dataframe thead th {\n",
       "        text-align: right;\n",
       "    }\n",
       "</style>\n",
       "<table border=\"1\" class=\"dataframe\">\n",
       "  <thead>\n",
       "    <tr style=\"text-align: right;\">\n",
       "      <th></th>\n",
       "      <th>first_session_week</th>\n",
       "      <th>cohort_lifetime</th>\n",
       "      <th>user_id</th>\n",
       "    </tr>\n",
       "  </thead>\n",
       "  <tbody>\n",
       "    <tr>\n",
       "      <td>0</td>\n",
       "      <td>19</td>\n",
       "      <td>0</td>\n",
       "      <td>13576</td>\n",
       "    </tr>\n",
       "    <tr>\n",
       "      <td>1</td>\n",
       "      <td>19</td>\n",
       "      <td>1</td>\n",
       "      <td>6959</td>\n",
       "    </tr>\n",
       "    <tr>\n",
       "      <td>2</td>\n",
       "      <td>19</td>\n",
       "      <td>2</td>\n",
       "      <td>7335</td>\n",
       "    </tr>\n",
       "    <tr>\n",
       "      <td>3</td>\n",
       "      <td>19</td>\n",
       "      <td>3</td>\n",
       "      <td>7733</td>\n",
       "    </tr>\n",
       "    <tr>\n",
       "      <td>4</td>\n",
       "      <td>19</td>\n",
       "      <td>4</td>\n",
       "      <td>7891</td>\n",
       "    </tr>\n",
       "  </tbody>\n",
       "</table>\n",
       "</div>"
      ],
      "text/plain": [
       "   first_session_week  cohort_lifetime  user_id\n",
       "0                  19                0    13576\n",
       "1                  19                1     6959\n",
       "2                  19                2     7335\n",
       "3                  19                3     7733\n",
       "4                  19                4     7891"
      ]
     },
     "execution_count": 197,
     "metadata": {},
     "output_type": "execute_result"
    }
   ],
   "source": [
    "#создадим когорты\n",
    "cohorts = user_activity.groupby(['first_session_week','cohort_lifetime']).agg({'user_id':'nunique'}).reset_index()\n",
    "cohorts.head(5)"
   ]
  },
  {
   "cell_type": "code",
   "execution_count": 198,
   "metadata": {},
   "outputs": [
    {
     "data": {
      "text/html": [
       "<div>\n",
       "<style scoped>\n",
       "    .dataframe tbody tr th:only-of-type {\n",
       "        vertical-align: middle;\n",
       "    }\n",
       "\n",
       "    .dataframe tbody tr th {\n",
       "        vertical-align: top;\n",
       "    }\n",
       "\n",
       "    .dataframe thead th {\n",
       "        text-align: right;\n",
       "    }\n",
       "</style>\n",
       "<table border=\"1\" class=\"dataframe\">\n",
       "  <thead>\n",
       "    <tr style=\"text-align: right;\">\n",
       "      <th></th>\n",
       "      <th>first_session_week</th>\n",
       "      <th>cohort_lifetime</th>\n",
       "      <th>user_id</th>\n",
       "      <th>cohort_users</th>\n",
       "    </tr>\n",
       "  </thead>\n",
       "  <tbody>\n",
       "    <tr>\n",
       "      <td>0</td>\n",
       "      <td>19</td>\n",
       "      <td>0</td>\n",
       "      <td>13576</td>\n",
       "      <td>13576</td>\n",
       "    </tr>\n",
       "    <tr>\n",
       "      <td>1</td>\n",
       "      <td>19</td>\n",
       "      <td>1</td>\n",
       "      <td>6959</td>\n",
       "      <td>13576</td>\n",
       "    </tr>\n",
       "  </tbody>\n",
       "</table>\n",
       "</div>"
      ],
      "text/plain": [
       "   first_session_week  cohort_lifetime  user_id  cohort_users\n",
       "0                  19                0    13576         13576\n",
       "1                  19                1     6959         13576"
      ]
     },
     "execution_count": 198,
     "metadata": {},
     "output_type": "execute_result"
    }
   ],
   "source": [
    "#рассчитаем пользователей в нулевой период и добавим в таблицу\n",
    "initial_users_count = cohorts[cohorts['cohort_lifetime'] == 0][['first_session_week','user_id']]\n",
    "initial_users_count = initial_users_count.rename(columns={'user_id':'cohort_users'})\n",
    "cohorts = cohorts.merge(initial_users_count,on='first_session_week')\n",
    "cohorts.head(2)"
   ]
  },
  {
   "cell_type": "markdown",
   "metadata": {},
   "source": [
    "### Получились все пользователи одной когорты"
   ]
  },
  {
   "cell_type": "code",
   "execution_count": 199,
   "metadata": {},
   "outputs": [
    {
     "data": {
      "text/html": [
       "<div>\n",
       "<style scoped>\n",
       "    .dataframe tbody tr th:only-of-type {\n",
       "        vertical-align: middle;\n",
       "    }\n",
       "\n",
       "    .dataframe tbody tr th {\n",
       "        vertical-align: top;\n",
       "    }\n",
       "\n",
       "    .dataframe thead th {\n",
       "        text-align: right;\n",
       "    }\n",
       "</style>\n",
       "<table border=\"1\" class=\"dataframe\">\n",
       "  <thead>\n",
       "    <tr style=\"text-align: right;\">\n",
       "      <th></th>\n",
       "      <th>first_session_week</th>\n",
       "      <th>cohort_lifetime</th>\n",
       "      <th>user_id</th>\n",
       "      <th>cohort_users</th>\n",
       "      <th>retention</th>\n",
       "    </tr>\n",
       "  </thead>\n",
       "  <tbody>\n",
       "    <tr>\n",
       "      <td>0</td>\n",
       "      <td>19</td>\n",
       "      <td>0</td>\n",
       "      <td>13576</td>\n",
       "      <td>13576</td>\n",
       "      <td>1.000000</td>\n",
       "    </tr>\n",
       "    <tr>\n",
       "      <td>1</td>\n",
       "      <td>19</td>\n",
       "      <td>1</td>\n",
       "      <td>6959</td>\n",
       "      <td>13576</td>\n",
       "      <td>0.512596</td>\n",
       "    </tr>\n",
       "  </tbody>\n",
       "</table>\n",
       "</div>"
      ],
      "text/plain": [
       "   first_session_week  cohort_lifetime  user_id  cohort_users  retention\n",
       "0                  19                0    13576         13576   1.000000\n",
       "1                  19                1     6959         13576   0.512596"
      ]
     },
     "execution_count": 199,
     "metadata": {},
     "output_type": "execute_result"
    }
   ],
   "source": [
    "#Рассчитаем Retention Rate\n",
    "cohorts['retention'] = cohorts['user_id']/cohorts['cohort_users']\n",
    "#cohorts.loc[cohorts['cohort_lifetime'].isin(['1','7','11','20','30'])]\n",
    "#df.loc[df['B'].isin(['one','three'])]\n",
    "cohorts.head(2)"
   ]
  },
  {
   "cell_type": "code",
   "execution_count": 200,
   "metadata": {},
   "outputs": [
    {
     "data": {
      "image/png": "[encoded data removed]",
      "text/plain": [
       "<Figure size 1152x648 with 1 Axes>"
      ]
     },
     "metadata": {},
     "output_type": "display_data"
    }
   ],
   "source": [
    "plt.figure(figsize=(16,9))\n",
    "ax = sns.lineplot(x='cohort_lifetime', y = 'retention',   data=cohorts, label='Retention', color='m', linewidth=5)\n",
    "lines = [1, 7, 12, 30]\n",
    "for xc in lines:\n",
    "    plt.axvline(x=xc, color='k', linestyle='--' )\n",
    "ax.set_ylabel('Retention')\n",
    "ax.set_xlabel('Lifetime')\n",
    "ax.set_title('Retention каждого дня в когорте')\n",
    "plt.show()"
   ]
  },
  {
   "cell_type": "markdown",
   "metadata": {},
   "source": [
    "#### Подтверждаются графики по активности пользователей  \n",
    "Видно резкое падение на 1 день, затем рост до 6 дня и почти линейное падение до 20 дня."
   ]
  },
  {
   "cell_type": "markdown",
   "metadata": {},
   "source": [
    "### Сколько стоило привлечение одного покупателя из каждого источника(CAC)?\n"
   ]
  },
  {
   "cell_type": "code",
   "execution_count": 201,
   "metadata": {
    "scrolled": true
   },
   "outputs": [
    {
     "name": "stdout",
     "output_type": "stream",
     "text": [
      "<class 'pandas.core.frame.DataFrame'>\n",
      "Int64Index: 135639 entries, 0 to 135638\n",
      "Data columns (total 7 columns):\n",
      "event_datetime    135639 non-null object\n",
      "event             135639 non-null object\n",
      "building_type     127956 non-null object\n",
      "user_id           135639 non-null object\n",
      "project_type      1866 non-null object\n",
      "date              135639 non-null datetime64[ns]\n",
      "win_type          135639 non-null object\n",
      "dtypes: datetime64[ns](1), object(6)\n",
      "memory usage: 8.3+ MB\n"
     ]
    }
   ],
   "source": [
    "events_sp.info()"
   ]
  },
  {
   "cell_type": "code",
   "execution_count": 202,
   "metadata": {},
   "outputs": [],
   "source": [
    "#таблица событий с источником игрока\n",
    "events_sp = events.merge(user_source, on = 'user_id', how = 'left') "
   ]
  },
  {
   "cell_type": "code",
   "execution_count": 203,
   "metadata": {},
   "outputs": [],
   "source": [
    "# выделяем первый источник и дату прихода\n",
    "first_source = events_sp.pivot_table(index = ['user_id','source'], values = 'date', aggfunc = 'min').reset_index()"
   ]
  },
  {
   "cell_type": "code",
   "execution_count": 204,
   "metadata": {},
   "outputs": [
    {
     "data": {
      "text/html": [
       "<div>\n",
       "<style scoped>\n",
       "    .dataframe tbody tr th:only-of-type {\n",
       "        vertical-align: middle;\n",
       "    }\n",
       "\n",
       "    .dataframe tbody tr th {\n",
       "        vertical-align: top;\n",
       "    }\n",
       "\n",
       "    .dataframe thead th {\n",
       "        text-align: right;\n",
       "    }\n",
       "</style>\n",
       "<table border=\"1\" class=\"dataframe\">\n",
       "  <thead>\n",
       "    <tr style=\"text-align: right;\">\n",
       "      <th>date</th>\n",
       "      <th>2020-05-04</th>\n",
       "      <th>2020-05-05</th>\n",
       "      <th>2020-05-06</th>\n",
       "      <th>2020-05-07</th>\n",
       "      <th>2020-05-08</th>\n",
       "      <th>2020-05-09</th>\n",
       "      <th>2020-05-10</th>\n",
       "    </tr>\n",
       "    <tr>\n",
       "      <th>source</th>\n",
       "      <th></th>\n",
       "      <th></th>\n",
       "      <th></th>\n",
       "      <th></th>\n",
       "      <th></th>\n",
       "      <th></th>\n",
       "      <th></th>\n",
       "    </tr>\n",
       "  </thead>\n",
       "  <tbody>\n",
       "    <tr>\n",
       "      <td>facebook_ads</td>\n",
       "      <td>1184</td>\n",
       "      <td>694</td>\n",
       "      <td>345</td>\n",
       "      <td>224</td>\n",
       "      <td>139</td>\n",
       "      <td>84</td>\n",
       "      <td>56</td>\n",
       "    </tr>\n",
       "    <tr>\n",
       "      <td>instagram_new_adverts</td>\n",
       "      <td>1452</td>\n",
       "      <td>796</td>\n",
       "      <td>472</td>\n",
       "      <td>270</td>\n",
       "      <td>175</td>\n",
       "      <td>112</td>\n",
       "      <td>70</td>\n",
       "    </tr>\n",
       "    <tr>\n",
       "      <td>yandex_direct</td>\n",
       "      <td>2078</td>\n",
       "      <td>1208</td>\n",
       "      <td>664</td>\n",
       "      <td>395</td>\n",
       "      <td>239</td>\n",
       "      <td>144</td>\n",
       "      <td>89</td>\n",
       "    </tr>\n",
       "    <tr>\n",
       "      <td>youtube_channel_reklama</td>\n",
       "      <td>1146</td>\n",
       "      <td>663</td>\n",
       "      <td>366</td>\n",
       "      <td>220</td>\n",
       "      <td>135</td>\n",
       "      <td>100</td>\n",
       "      <td>56</td>\n",
       "    </tr>\n",
       "  </tbody>\n",
       "</table>\n",
       "</div>"
      ],
      "text/plain": [
       "date                     2020-05-04  2020-05-05  2020-05-06  2020-05-07  \\\n",
       "source                                                                    \n",
       "facebook_ads                   1184         694         345         224   \n",
       "instagram_new_adverts          1452         796         472         270   \n",
       "yandex_direct                  2078        1208         664         395   \n",
       "youtube_channel_reklama        1146         663         366         220   \n",
       "\n",
       "date                     2020-05-08  2020-05-09  2020-05-10  \n",
       "source                                                       \n",
       "facebook_ads                    139          84          56  \n",
       "instagram_new_adverts           175         112          70  \n",
       "yandex_direct                   239         144          89  \n",
       "youtube_channel_reklama         135         100          56  "
      ]
     },
     "execution_count": 204,
     "metadata": {},
     "output_type": "execute_result"
    }
   ],
   "source": [
    "# считаем количетсво юзеров оп дням из источников\n",
    "count_source = first_source.pivot_table(index = ['source'], columns = 'date', values = 'user_id', aggfunc = 'count')\n",
    "count_source"
   ]
  },
  {
   "cell_type": "code",
   "execution_count": 205,
   "metadata": {},
   "outputs": [
    {
     "data": {
      "text/html": [
       "<div>\n",
       "<style scoped>\n",
       "    .dataframe tbody tr th:only-of-type {\n",
       "        vertical-align: middle;\n",
       "    }\n",
       "\n",
       "    .dataframe tbody tr th {\n",
       "        vertical-align: top;\n",
       "    }\n",
       "\n",
       "    .dataframe thead th {\n",
       "        text-align: right;\n",
       "    }\n",
       "</style>\n",
       "<table border=\"1\" class=\"dataframe\">\n",
       "  <thead>\n",
       "    <tr style=\"text-align: right;\">\n",
       "      <th>day</th>\n",
       "      <th>2020-05-03</th>\n",
       "      <th>2020-05-04</th>\n",
       "      <th>2020-05-05</th>\n",
       "      <th>2020-05-06</th>\n",
       "      <th>2020-05-07</th>\n",
       "      <th>2020-05-08</th>\n",
       "      <th>2020-05-09</th>\n",
       "    </tr>\n",
       "    <tr>\n",
       "      <th>source</th>\n",
       "      <th></th>\n",
       "      <th></th>\n",
       "      <th></th>\n",
       "      <th></th>\n",
       "      <th></th>\n",
       "      <th></th>\n",
       "      <th></th>\n",
       "    </tr>\n",
       "  </thead>\n",
       "  <tbody>\n",
       "    <tr>\n",
       "      <td>facebook_ads</td>\n",
       "      <td>935.882786</td>\n",
       "      <td>548.354480</td>\n",
       "      <td>260.185754</td>\n",
       "      <td>177.982200</td>\n",
       "      <td>111.766796</td>\n",
       "      <td>68.009276</td>\n",
       "      <td>38.723350</td>\n",
       "    </tr>\n",
       "    <tr>\n",
       "      <td>instagram_new_adverts</td>\n",
       "      <td>943.204717</td>\n",
       "      <td>502.925451</td>\n",
       "      <td>313.970984</td>\n",
       "      <td>173.071145</td>\n",
       "      <td>109.915254</td>\n",
       "      <td>71.578739</td>\n",
       "      <td>46.775400</td>\n",
       "    </tr>\n",
       "    <tr>\n",
       "      <td>yandex_direct</td>\n",
       "      <td>969.139394</td>\n",
       "      <td>554.651494</td>\n",
       "      <td>308.232990</td>\n",
       "      <td>180.917099</td>\n",
       "      <td>114.429338</td>\n",
       "      <td>62.961630</td>\n",
       "      <td>42.779505</td>\n",
       "    </tr>\n",
       "    <tr>\n",
       "      <td>youtube_channel_reklama</td>\n",
       "      <td>454.224943</td>\n",
       "      <td>259.073224</td>\n",
       "      <td>147.041741</td>\n",
       "      <td>88.506074</td>\n",
       "      <td>55.740645</td>\n",
       "      <td>40.217907</td>\n",
       "      <td>23.314669</td>\n",
       "    </tr>\n",
       "  </tbody>\n",
       "</table>\n",
       "</div>"
      ],
      "text/plain": [
       "day                      2020-05-03  2020-05-04  2020-05-05  2020-05-06  \\\n",
       "source                                                                    \n",
       "facebook_ads             935.882786  548.354480  260.185754  177.982200   \n",
       "instagram_new_adverts    943.204717  502.925451  313.970984  173.071145   \n",
       "yandex_direct            969.139394  554.651494  308.232990  180.917099   \n",
       "youtube_channel_reklama  454.224943  259.073224  147.041741   88.506074   \n",
       "\n",
       "day                      2020-05-07  2020-05-08  2020-05-09  \n",
       "source                                                       \n",
       "facebook_ads             111.766796   68.009276   38.723350  \n",
       "instagram_new_adverts    109.915254   71.578739   46.775400  \n",
       "yandex_direct            114.429338   62.961630   42.779505  \n",
       "youtube_channel_reklama   55.740645   40.217907   23.314669  "
      ]
     },
     "execution_count": 205,
     "metadata": {},
     "output_type": "execute_result"
    }
   ],
   "source": [
    "# построим таблицу с затратми на источники по месяцам\n",
    "costs_pivot = ad_costs.pivot_table(index = 'source', columns = 'day', values = 'cost', aggfunc = 'sum')\n",
    "costs_pivot"
   ]
  },
  {
   "cell_type": "code",
   "execution_count": 206,
   "metadata": {},
   "outputs": [
    {
     "data": {
      "text/html": [
       "<div>\n",
       "<style scoped>\n",
       "    .dataframe tbody tr th:only-of-type {\n",
       "        vertical-align: middle;\n",
       "    }\n",
       "\n",
       "    .dataframe tbody tr th {\n",
       "        vertical-align: top;\n",
       "    }\n",
       "\n",
       "    .dataframe thead th {\n",
       "        text-align: right;\n",
       "    }\n",
       "</style>\n",
       "<table border=\"1\" class=\"dataframe\">\n",
       "  <thead>\n",
       "    <tr style=\"text-align: right;\">\n",
       "      <th></th>\n",
       "      <th>2020-05-04</th>\n",
       "      <th>2020-05-05</th>\n",
       "      <th>2020-05-06</th>\n",
       "      <th>2020-05-07</th>\n",
       "      <th>2020-05-08</th>\n",
       "      <th>2020-05-09</th>\n",
       "    </tr>\n",
       "    <tr>\n",
       "      <th>source</th>\n",
       "      <th></th>\n",
       "      <th></th>\n",
       "      <th></th>\n",
       "      <th></th>\n",
       "      <th></th>\n",
       "      <th></th>\n",
       "    </tr>\n",
       "  </thead>\n",
       "  <tbody>\n",
       "    <tr>\n",
       "      <td>facebook_ads</td>\n",
       "      <td>0.463137</td>\n",
       "      <td>0.374907</td>\n",
       "      <td>0.515890</td>\n",
       "      <td>0.498959</td>\n",
       "      <td>0.489275</td>\n",
       "      <td>0.460992</td>\n",
       "    </tr>\n",
       "    <tr>\n",
       "      <td>instagram_new_adverts</td>\n",
       "      <td>0.346367</td>\n",
       "      <td>0.394436</td>\n",
       "      <td>0.366676</td>\n",
       "      <td>0.407094</td>\n",
       "      <td>0.409021</td>\n",
       "      <td>0.417637</td>\n",
       "    </tr>\n",
       "    <tr>\n",
       "      <td>yandex_direct</td>\n",
       "      <td>0.266916</td>\n",
       "      <td>0.255160</td>\n",
       "      <td>0.272466</td>\n",
       "      <td>0.289695</td>\n",
       "      <td>0.263438</td>\n",
       "      <td>0.297080</td>\n",
       "    </tr>\n",
       "    <tr>\n",
       "      <td>youtube_channel_reklama</td>\n",
       "      <td>0.226067</td>\n",
       "      <td>0.221782</td>\n",
       "      <td>0.241820</td>\n",
       "      <td>0.253367</td>\n",
       "      <td>0.297910</td>\n",
       "      <td>0.233147</td>\n",
       "    </tr>\n",
       "  </tbody>\n",
       "</table>\n",
       "</div>"
      ],
      "text/plain": [
       "                         2020-05-04  2020-05-05  2020-05-06  2020-05-07  \\\n",
       "source                                                                    \n",
       "facebook_ads               0.463137    0.374907    0.515890    0.498959   \n",
       "instagram_new_adverts      0.346367    0.394436    0.366676    0.407094   \n",
       "yandex_direct              0.266916    0.255160    0.272466    0.289695   \n",
       "youtube_channel_reklama    0.226067    0.221782    0.241820    0.253367   \n",
       "\n",
       "                         2020-05-08  2020-05-09  \n",
       "source                                           \n",
       "facebook_ads               0.489275    0.460992  \n",
       "instagram_new_adverts      0.409021    0.417637  \n",
       "yandex_direct              0.263438    0.297080  \n",
       "youtube_channel_reklama    0.297910    0.233147  "
      ]
     },
     "execution_count": 206,
     "metadata": {},
     "output_type": "execute_result"
    }
   ],
   "source": [
    "#посчитаем затраты на привлечение каждого пользователя по месяцам\n",
    "cost_by_client = costs_pivot/count_source\n",
    "cost_by_client = cost_by_client.dropna(axis = 1)\n",
    "#cost_by_client.reset_index()\n",
    "cost_by_client"
   ]
  },
  {
   "cell_type": "code",
   "execution_count": 207,
   "metadata": {},
   "outputs": [
    {
     "data": {
      "image/png": "[encoded data removed]",
      "text/plain": [
       "<Figure size 1080x504 with 2 Axes>"
      ]
     },
     "metadata": {},
     "output_type": "display_data"
    }
   ],
   "source": [
    "#создадим тепловю карту\n",
    "sns.set(style='white')\n",
    "plt.figure(figsize=(15, 7))\n",
    "plt.title('Затраты на маркетинг на одного клиента по дням и источникам')\n",
    "ax = sns.heatmap(cost_by_client, annot=True, fmt='.3f', linewidths=1, linecolor='Black')\n",
    "bottom, top = ax.get_ylim()\n",
    "ax.set_ylim(bottom + 0.5, top - 0.5)\n",
    "plt.yticks(rotation=0) \n",
    "ax.set_xticklabels(labels = ['2020-05-04','2020-05-05','2020-05-06','2020-05-07','2020-05-08','2020-05-09'])\n",
    "plt.show()\n"
   ]
  },
  {
   "cell_type": "markdown",
   "metadata": {},
   "source": [
    "### Youtube и YandexДирект наиболее выгодные источники привлечения пользователей"
   ]
  },
  {
   "cell_type": "markdown",
   "metadata": {},
   "source": [
    "#### Проверочка"
   ]
  },
  {
   "cell_type": "code",
   "execution_count": 208,
   "metadata": {},
   "outputs": [
    {
     "name": "stdout",
     "output_type": "stream",
     "text": [
      "Модель работает: 8138.34 - расчетная выручка, 7603.576986788022 Факт затраты\n"
     ]
    }
   ],
   "source": [
    "if events.event.count()*0.06 > ad_costs.cost.sum():\n",
    "    print('Модель работает:', events.event.count()*0.06,  '- расчетная выручка,', ad_costs.cost.sum(), 'Факт затраты' )\n",
    "else:\n",
    "          print('Считай заново')"
   ]
  },
  {
   "cell_type": "markdown",
   "metadata": {},
   "source": [
    "<a id=\"8\"></a>\n",
    "## Выводы"
   ]
  },
  {
   "cell_type": "markdown",
   "metadata": {},
   "source": [
    " - Хронология событий ясна: идет постройка, при завершении событие project и затем finished_stage_1, или сразу finished_stage_1, при победе над другим игроком.\n",
    "Могут встречатся аномалии когда после project идет достройка building и затем finished_stage_1\n",
    " - Видим, что закончило уровень всего 5817, из них реализацией проекта 1866, всего игроков 13576 \n",
    " - Видим, что пик посещений пришелся на 10.05 и далее пошел резкий спад\n",
    " - Можно наблюдать совпадение количества событий с прекращением постройки assembly_shop, необходимо проверить корректность работы данного этапа\n",
    " - Чаще всего строили spaceport, затем assembly_shop и потом research_center \n",
    " - Все игроки играли от 1 до 22 сессий за исследуемый период? Медиана в р-не 10 раз\n",
    " - Чаще всего играли 11 дней\n",
    " - Чаще всего показыветеся 9 раз экран, в проц 25-75 значения от 6 до 12. Крайние выбросы 1 и 20\n",
    " - Больше всего экраны показывались в проектах, потом те кто победил игрока, те кто еще играет имеют приличный разброс, но  медиану около 7 раз  \n",
    " - Количество игроков по статусу уровня соответствует общему графику, больше всего игроков не завершивших уровень\n",
    " - Время прохождения уровня распределяется примерно одинаково для обоих типов побед, но количество экранов значительно смещено в сторону проектов. Победителей над игроком заметно больше\n",
    " - Можем сделать вывод о значимом различии между средним временем прохождения уровня разными способами и количеством показов экрана\n",
    " - Маркетинговые траты снижались от начала исследуемого периода, как и кол-во новых пользователей\n",
    " - Три примерно равне части бюджета составлют Инст, Фейсбук и Яндекс, 14 % у Ютьюба\n",
    " - Среденее минимальная стоимость показа экрана для окупемости: **0.06**\n",
    " - Графики активности пользователей видно резкое падение на 1 день, затем рост до 6 дня и почти линейное падение до 20 дня.\n",
    " - Стоимость экрана составляет примерно 1/10 стоимости привлечения игроков при текущем состоянии приложения\n",
    " - Youtube и YandexДирект наиболее выгодные источники привлечения пользователей\n",
    " - **в целом, надежнее будет проверить корректность работы всех этапов и првести анализ \"рабочей\" когорты**"
   ]
  }
 ],
 "metadata": {
  "kernelspec": {
   "display_name": "Python 3",
   "language": "python",
   "name": "python3"
  },
  "language_info": {
   "codemirror_mode": {
    "name": "ipython",
    "version": 3
   },
   "file_extension": ".py",
   "mimetype": "text/x-python",
   "name": "python",
   "nbconvert_exporter": "python",
   "pygments_lexer": "ipython3",
   "version": "3.7.4"
  }
 },
 "nbformat": 4,
 "nbformat_minor": 2
}
